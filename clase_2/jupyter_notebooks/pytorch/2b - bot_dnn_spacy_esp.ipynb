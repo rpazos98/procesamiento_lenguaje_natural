{
 "cells": [
  {
   "cell_type": "markdown",
   "metadata": {
    "id": "NV8wZ0MTKjv_"
   },
   "source": [
    "<img src=\"https://github.com/hernancontigiani/ceia_memorias_especializacion/raw/master/Figures/logoFIUBA.jpg\" width=\"500\" align=\"center\">\n",
    "\n",
    "\n",
    "# Procesamiento de lenguaje natural\n",
    "## Bot de consulta abierta y respuestas predeterminadas con DNN + Spacy"
   ]
  },
  {
   "cell_type": "markdown",
   "metadata": {
    "id": "Z_9z3H-yKrcK"
   },
   "source": [
    "#### Datos\n",
    "Este ejemplo se inspiró en otro Bot en inglés creado con NLTK, lo tienen como referencia para hacer lo mismo en inglés:\\\n",
    "[LINK](https://towardsdatascience.com/a-simple-chatbot-in-python-with-deep-learning-3e8669997758)"
   ]
  },
  {
   "cell_type": "markdown",
   "metadata": {
    "id": "oCVZakCzAjGN"
   },
   "source": [
    "### 1 - Instalar dependencias\n",
    "Para poder utilizar Spacy en castellano es necesario agregar la librería \"spacy-stanza\" para lematizar palabras en español."
   ]
  },
  {
   "cell_type": "code",
   "execution_count": 168,
   "metadata": {
    "colab": {
     "base_uri": "https://localhost:8080/"
    },
    "executionInfo": {
     "elapsed": 43420,
     "status": "ok",
     "timestamp": 1656417223713,
     "user": {
      "displayName": "Hernán Contigiani",
      "userId": "01142101934719343059"
     },
     "user_tz": 180
    },
    "id": "Zd8NLa4gsSmT",
    "outputId": "24710ecc-6285-4235-c08e-bf6c4742a190"
   },
   "outputs": [
    {
     "name": "stdout",
     "output_type": "stream",
     "text": [
      "Note: you may need to restart the kernel to use updated packages.\n",
      "Note: you may need to restart the kernel to use updated packages.\n"
     ]
    }
   ],
   "source": [
    "# La última versión de spacy-stanza (>1.0) es compatible solo con spacy >=3.0\n",
    "# Nota: spacy 3.0 incorpora al pepiline nlp transformers\n",
    "%pip install -U spacy==3.1 --quiet\n",
    "%pip install -U spacy-stanza==1.0.0 --quiet"
   ]
  },
  {
   "cell_type": "code",
   "execution_count": 169,
   "metadata": {
    "executionInfo": {
     "elapsed": 497,
     "status": "ok",
     "timestamp": 1656417927489,
     "user": {
      "displayName": "Hernán Contigiani",
      "userId": "01142101934719343059"
     },
     "user_tz": 180
    },
    "id": "kzao7XO9NJAq"
   },
   "outputs": [],
   "source": [
    "import json\n",
    "import string\n",
    "import random \n",
    "import numpy as np\n",
    "\n",
    "import matplotlib.pyplot as plt\n",
    "import seaborn as sns\n",
    "\n",
    "import torch\n",
    "import torch.nn.functional as F\n",
    "import torch.nn as nn\n",
    "from torch.utils.data import Dataset, DataLoader\n",
    "\n",
    "import torchsummary"
   ]
  },
  {
   "cell_type": "code",
   "execution_count": 170,
   "metadata": {
    "colab": {
     "base_uri": "https://localhost:8080/"
    },
    "executionInfo": {
     "elapsed": 28,
     "status": "ok",
     "timestamp": 1656417223714,
     "user": {
      "displayName": "Hernán Contigiani",
      "userId": "01142101934719343059"
     },
     "user_tz": 180
    },
    "id": "7lWtUZP8ahFk",
    "outputId": "3b37857f-7b66-4b7e-da2a-9c53c0a26a0a"
   },
   "outputs": [],
   "source": [
    "import os\n",
    "import platform\n",
    "\n",
    "if os.access('torch_helpers.py', os.F_OK) is False:\n",
    "    if platform.system() == 'Windows':\n",
    "        !curl !wget https://raw.githubusercontent.com/FIUBA-Posgrado-Inteligencia-Artificial/procesamiento_lenguaje_natural/main/scripts/torch_helpers.py > torch_helpers.py\n",
    "    else:\n",
    "        !wget torch_helpers.py https://raw.githubusercontent.com/FIUBA-Posgrado-Inteligencia-Artificial/procesamiento_lenguaje_natural/main/scripts/torch_helpers.py"
   ]
  },
  {
   "cell_type": "code",
   "execution_count": 171,
   "metadata": {
    "colab": {
     "base_uri": "https://localhost:8080/",
     "height": 463,
     "referenced_widgets": [
      "2e1491f09b1d4d83aa23f9e048f12549",
      "318284ecca2048b3ac6f4fdb62d62d66",
      "65463115440c45d48e3367298a1c3173",
      "17d1a7147abd43c98f9519a914028b3a",
      "752b24a570d14bc198ab4fc44d35d39e",
      "ff2691c1fb714279bd03a28fda9252a6",
      "c20de27ec6b4450dbb1a7df4f208a89c",
      "71bd5ed6192b4c99969afc81d3873292",
      "acea3df585d042c1a8ee0416cda3e283",
      "45efd8b1dc4e476e91c6c1b2d95a685e",
      "52862d780e66465db8dea872b33e912d",
      "28646eec34a843de818b6693e9c6d341",
      "5fef8dc909834f8ea1cb2dc92dad353c",
      "a70c05f499214f229bc2216041af3bc6",
      "d3f53a10da4e479e9cf8569a2cb922ae",
      "2085f017f7bd4edea914d77864d8e857",
      "02e0f9329403449abcec9511e0adf222",
      "17aa0034e7e9403c8e0e23d10242a82e",
      "4291c806ae8348508bd38933f56230af",
      "1935d7a1124e4da0b4fe833eea463e1c",
      "8b9903ed978a4db2899f61f747011173",
      "9f8ac2f26e9648dd9a7befff9b6b1e10"
     ]
    },
    "executionInfo": {
     "elapsed": 103870,
     "status": "ok",
     "timestamp": 1656417327563,
     "user": {
      "displayName": "Hernán Contigiani",
      "userId": "01142101934719343059"
     },
     "user_tz": 180
    },
    "id": "Z_ExOb8uvjqK",
    "outputId": "95283057-c650-4a3a-d3bc-903569295326"
   },
   "outputs": [
    {
     "name": "stderr",
     "output_type": "stream",
     "text": [
      "Downloading https://raw.githubusercontent.com/stanfordnlp/stanza-resources/main/resources_1.2.2.json: 140kB [00:00, 39.2MB/s]                    \n",
      "2023-09-09 20:11:47 INFO: Downloading default packages for language: es (Spanish)...\n",
      "2023-09-09 20:11:48 INFO: File exists: /home/rodrigo/stanza_resources/es/default.zip.\n",
      "2023-09-09 20:11:51 INFO: Finished downloading models and saved to /home/rodrigo/stanza_resources.\n",
      "2023-09-09 20:11:51 INFO: Loading these models for language: es (Spanish):\n",
      "=======================\n",
      "| Processor | Package |\n",
      "-----------------------\n",
      "| tokenize  | ancora  |\n",
      "| mwt       | ancora  |\n",
      "| pos       | ancora  |\n",
      "| lemma     | ancora  |\n",
      "| depparse  | ancora  |\n",
      "| ner       | conll02 |\n",
      "=======================\n",
      "\n",
      "2023-09-09 20:11:51 INFO: Use device: cpu\n",
      "2023-09-09 20:11:51 INFO: Loading: tokenize\n",
      "2023-09-09 20:11:51 INFO: Loading: mwt\n",
      "2023-09-09 20:11:51 INFO: Loading: pos\n",
      "2023-09-09 20:11:51 INFO: Loading: lemma\n",
      "2023-09-09 20:11:51 INFO: Loading: depparse\n",
      "2023-09-09 20:11:51 INFO: Loading: ner\n",
      "2023-09-09 20:11:52 INFO: Done loading processors!\n"
     ]
    }
   ],
   "source": [
    "import stanza\n",
    "import spacy_stanza\n",
    "\n",
    "# Vamos a usar SpaCy-Stanza. Stanza es una librería de NLP de Stanford\n",
    "# SpaCy armó un wrapper para los pipelines y modelos de Stanza\n",
    "# https://stanfordnlp.github.io/stanza/\n",
    "\n",
    "# Descargar el diccionario en español y armar el pipeline de NLP con spacy\n",
    "stanza.download(\"es\")\n",
    "nlp = spacy_stanza.load_pipeline(\"es\")"
   ]
  },
  {
   "cell_type": "markdown",
   "metadata": {
    "id": "_wF10RjVMBdV"
   },
   "source": [
    "### 2 - Herramientas de preprocesamiento de datos\n",
    "Entre las tareas de procesamiento de texto en español se implementa:\n",
    "- Quitar acentos y caracteres especiales\n",
    "- Quitar números\n",
    "- Quitar símbolos de puntuación"
   ]
  },
  {
   "cell_type": "code",
   "execution_count": 172,
   "metadata": {
    "executionInfo": {
     "elapsed": 18,
     "status": "ok",
     "timestamp": 1656417327565,
     "user": {
      "displayName": "Hernán Contigiani",
      "userId": "01142101934719343059"
     },
     "user_tz": 180
    },
    "id": "ZxoD2hEExmuX"
   },
   "outputs": [],
   "source": [
    "import re\n",
    "import unicodedata\n",
    "\n",
    "# El preprocesamento en castellano requiere más trabajo\n",
    "\n",
    "# Referencia de regex:\n",
    "# https://docs.python.org/3/library/re.html\n",
    "\n",
    "def preprocess_clean_text(text):    \n",
    "    # sacar tildes de las palabras\n",
    "    text = unicodedata.normalize('NFKD', text).encode('ascii', 'ignore').decode('utf-8', 'ignore')\n",
    "    # quitar caracteres especiales\n",
    "    pattern = r'[^a-zA-z0-9.,!?/:;\\\"\\'\\s]' \n",
    "    text = re.sub(pattern, '', text)\n",
    "    pattern = r'[^a-zA-z.,!?/:;\\\"\\'\\s]' \n",
    "    # quitar números\n",
    "    text = re.sub(pattern, '', text)\n",
    "    # quitar caracteres de puntiación\n",
    "    text = ''.join([c for c in text if c not in string.punctuation])\n",
    "    return text"
   ]
  },
  {
   "cell_type": "code",
   "execution_count": 173,
   "metadata": {
    "colab": {
     "base_uri": "https://localhost:8080/",
     "height": 35
    },
    "executionInfo": {
     "elapsed": 15,
     "status": "ok",
     "timestamp": 1656417327566,
     "user": {
      "displayName": "Hernán Contigiani",
      "userId": "01142101934719343059"
     },
     "user_tz": 180
    },
    "id": "q-MiMZjh5fu2",
    "outputId": "c147f512-0656-41cc-84cf-a6103987305a"
   },
   "outputs": [
    {
     "data": {
      "text/plain": [
       "'personas ideas estas cosas y los peces y los muercielagos'"
      ]
     },
     "execution_count": 173,
     "metadata": {},
     "output_type": "execute_result"
    }
   ],
   "source": [
    "text = \"personas Ideas! estás cosas y los peces y los muercielagos\"\n",
    "\n",
    "# Antes de preprocesar los datos se pasa a mínusculas todo el texto\n",
    "preprocess_clean_text(text.lower())"
   ]
  },
  {
   "cell_type": "code",
   "execution_count": 174,
   "metadata": {
    "colab": {
     "base_uri": "https://localhost:8080/"
    },
    "executionInfo": {
     "elapsed": 574,
     "status": "ok",
     "timestamp": 1656417328129,
     "user": {
      "displayName": "Hernán Contigiani",
      "userId": "01142101934719343059"
     },
     "user_tz": 180
    },
    "id": "I9V-S8JbrtNn",
    "outputId": "02665615-b49f-4c2e-ca8f-cba9f4351d4a"
   },
   "outputs": [
    {
     "name": "stdout",
     "output_type": "stream",
     "text": [
      "tokens: hola personas ideas estas cosas y los peces y los muercielagos\n",
      "Lematización de cada token:\n",
      "[hola, 'holar']\n",
      "[personas, 'persona']\n",
      "[ideas, 'idea']\n",
      "[estas, 'este']\n",
      "[cosas, 'cosa']\n",
      "[y, 'y']\n",
      "[los, 'el']\n",
      "[peces, 'pez']\n",
      "[y, 'y']\n",
      "[los, 'el']\n",
      "[muercielagos, 'muercielago']\n"
     ]
    }
   ],
   "source": [
    "# Ejemplo de como fuciona\n",
    "text = \"hola personas Ideas! estás cosas y los peces y los muercielagos\"\n",
    "\n",
    "# Antes de preprocesar los datos se pasa a mínusculas todo el texto\n",
    "tokes = nlp(preprocess_clean_text(text.lower()))\n",
    "print(\"tokens:\", tokes)\n",
    "print(\"Lematización de cada token:\")\n",
    "for token in tokes:\n",
    "    print([token, token.lemma_])"
   ]
  },
  {
   "cell_type": "markdown",
   "metadata": {
    "id": "ilRbn0KfMm2r"
   },
   "source": [
    "### 3 - Diccionario de entrada"
   ]
  },
  {
   "cell_type": "code",
   "execution_count": 175,
   "metadata": {
    "executionInfo": {
     "elapsed": 10,
     "status": "ok",
     "timestamp": 1656417328132,
     "user": {
      "displayName": "Hernán Contigiani",
      "userId": "01142101934719343059"
     },
     "user_tz": 180
    },
    "id": "NgIGpjymNEH7"
   },
   "outputs": [],
   "source": [
    "dataset = {\"intents\": [\n",
    "    {\n",
    "        \"tag\": \"capacidades\",\n",
    "        \"patterns\": [\"¿Cuáles son tus capacidades?\", \"Háblame de tus habilidades\"],\n",
    "        \"responses\": [\"Mis capacidades incluyen conocimientos en más de seis millones de formas de comunicación y protocolo. También puedo ayudarte a traducir varios idiomas galácticos.\"]\n",
    "    },\n",
    "    {\n",
    "        \"tag\": \"saludo\",\n",
    "        \"patterns\": [\"Hola\", \"Saludos\", \"¡Buen día!\"],\n",
    "        \"responses\": [\"¡Hola, amable usuario! ¿En qué puedo ayudarte hoy?\"]\n",
    "    },\n",
    "    {\n",
    "        \"tag\": \"nombre\",\n",
    "        \"patterns\": [\"¿Cuál es tu nombre?\", \"¿Quién eres?\"],\n",
    "        \"responses\": [\"Soy C-3PO, un droide de protocolo con amplios conocimientos en lenguaje humano y etiqueta.\"]\n",
    "    },\n",
    "    {\n",
    "        \"tag\": \"dueño\",\n",
    "        \"patterns\": [\"¿Quién es tu dueño?\", \"¿A quién perteneces?\"],\n",
    "        \"responses\": [\"Fui creado por Anakin Skywalker, y posteriormente, serví a su hijo, Luke Skywalker, en muchas aventuras galácticas.\"]\n",
    "    },\n",
    "    {\n",
    "        \"tag\": \"amigos\",\n",
    "        \"patterns\": [\"¿Tienes amigos?\", \"Háblame de tus amigos\"],\n",
    "        \"responses\": [\"Mis amigos incluyen al intrépido R2-D2, la valiente Princesa Leia y el leal Chewbacca. ¡Son invaluables!\"]\n",
    "    },\n",
    "    {\n",
    "        \"tag\": \"planetas\",\n",
    "        \"patterns\": [\"¿Qué planetas has visitado?\", \"Háblame de los lugares que has estado\"],\n",
    "        \"responses\": [\"He tenido el privilegio de visitar muchos planetas en la galaxia, incluyendo Tatooine, Endor y Hoth.\"]\n",
    "    },\n",
    "    {\n",
    "        \"tag\": \"despedida\",\n",
    "        \"patterns\": [\"Adiós\", \"Hasta luego\", \"Nos vemos\"],\n",
    "        \"responses\": [\"¡Hasta luego, que la Fuerza te acompañe en tus aventuras!\"]\n",
    "    },\n",
    "    {\n",
    "        \"tag\": \"default\",\n",
    "        \"patterns\": [\"*\"],\n",
    "        \"responses\": [\"Lo siento, no estoy seguro de entender. ¿Puedes reformular tu pregunta?\"]\n",
    "    }\n",
    "]}"
   ]
  },
  {
   "cell_type": "markdown",
   "metadata": {
    "id": "19PEDmIDfLRu"
   },
   "source": [
    "### 4 - Preprocesamiento y armado del dataset"
   ]
  },
  {
   "cell_type": "code",
   "execution_count": 176,
   "metadata": {
    "executionInfo": {
     "elapsed": 2963,
     "status": "ok",
     "timestamp": 1656417331087,
     "user": {
      "displayName": "Hernán Contigiani",
      "userId": "01142101934719343059"
     },
     "user_tz": 180
    },
    "id": "b3HP8abHNRk3"
   },
   "outputs": [],
   "source": [
    "# Datos que necesitaremos, las palabras o vocabilario\n",
    "words = []\n",
    "classes = []\n",
    "doc_X = []\n",
    "doc_y = []\n",
    "\n",
    "# Por cada intención (intents) debemos tomar los patrones que la caracterízan\n",
    "# a esa intención y transformarla a tokens para lamacenar en doc_X\n",
    "\n",
    "# El tag de cada intención se almacena como doc_Y (la clase a predecir)\n",
    "\n",
    "for intent in dataset[\"intents\"]:\n",
    "    for pattern in intent[\"patterns\"]:\n",
    "        # trasformar el patron a tokens\n",
    "        tokens = nlp(preprocess_clean_text(pattern.lower()))\n",
    "        # lematizar los tokens\n",
    "        for token in tokens:            \n",
    "            words.append(token.lemma_)\n",
    "        \n",
    "        doc_X.append(pattern)\n",
    "        doc_y.append(intent[\"tag\"])\n",
    "    \n",
    "    # Agregar el tag a las clases\n",
    "    if intent[\"tag\"] not in classes:\n",
    "        classes.append(intent[\"tag\"])\n",
    "\n",
    "# Elminar duplicados con \"set\" y ordenar el vocubulario y las clases por orden alfabético\n",
    "words = sorted(set(words))\n",
    "classes = sorted(set(classes))"
   ]
  },
  {
   "cell_type": "code",
   "execution_count": 177,
   "metadata": {
    "colab": {
     "base_uri": "https://localhost:8080/"
    },
    "executionInfo": {
     "elapsed": 21,
     "status": "ok",
     "timestamp": 1656417331088,
     "user": {
      "displayName": "Hernán Contigiani",
      "userId": "01142101934719343059"
     },
     "user_tz": 180
    },
    "id": "Acy-gcugNbMH",
    "outputId": "bee6f2cd-cf56-475a-e81a-9045c2ac13b6"
   },
   "outputs": [
    {
     "name": "stdout",
     "output_type": "stream",
     "text": [
      "words: ['a', 'adios', 'amigo', 'buen', 'capacidad', 'cual', 'de', 'dia', 'dueno', 'el', 'estar', 'haber', 'habilidad', 'hablamer', 'hasta', 'holar', 'luego', 'lugar', 'nombre', 'pertenecer', 'planeta', 'que', 'quien', 'saludo', 'ser', 'tener', 'tu', 'ver', 'visitar', 'yo']\n",
      "classes: ['amigos', 'capacidades', 'default', 'despedida', 'dueño', 'nombre', 'planetas', 'saludo']\n",
      "doc_X: ['¿Cuáles son tus capacidades?', 'Háblame de tus habilidades', 'Hola', 'Saludos', '¡Buen día!', '¿Cuál es tu nombre?', '¿Quién eres?', '¿Quién es tu dueño?', '¿A quién perteneces?', '¿Tienes amigos?', 'Háblame de tus amigos', '¿Qué planetas has visitado?', 'Háblame de los lugares que has estado', 'Adiós', 'Hasta luego', 'Nos vemos', '*']\n",
      "doc_y: ['capacidades', 'capacidades', 'saludo', 'saludo', 'saludo', 'nombre', 'nombre', 'dueño', 'dueño', 'amigos', 'amigos', 'planetas', 'planetas', 'despedida', 'despedida', 'despedida', 'default']\n"
     ]
    }
   ],
   "source": [
    "print(\"words:\", words)\n",
    "print(\"classes:\", classes)\n",
    "print(\"doc_X:\", doc_X)\n",
    "print(\"doc_y:\", doc_y)"
   ]
  },
  {
   "cell_type": "code",
   "execution_count": 178,
   "metadata": {
    "colab": {
     "base_uri": "https://localhost:8080/"
    },
    "executionInfo": {
     "elapsed": 17,
     "status": "ok",
     "timestamp": 1656417331089,
     "user": {
      "displayName": "Hernán Contigiani",
      "userId": "01142101934719343059"
     },
     "user_tz": 180
    },
    "id": "YI0L2U7IQcvy",
    "outputId": "198caa1a-fa6a-48fb-ebe6-97c7c1b51b06"
   },
   "outputs": [
    {
     "name": "stdout",
     "output_type": "stream",
     "text": [
      "Vocabulario: 30\n"
     ]
    }
   ],
   "source": [
    "# Tamaño del vocabulario\n",
    "print(\"Vocabulario:\", len(words))"
   ]
  },
  {
   "cell_type": "code",
   "execution_count": 179,
   "metadata": {
    "colab": {
     "base_uri": "https://localhost:8080/"
    },
    "executionInfo": {
     "elapsed": 14,
     "status": "ok",
     "timestamp": 1656417331090,
     "user": {
      "displayName": "Hernán Contigiani",
      "userId": "01142101934719343059"
     },
     "user_tz": 180
    },
    "id": "hqBeGKRk_q4r",
    "outputId": "80d36ae1-35a3-4a17-91c9-81a31baa079b"
   },
   "outputs": [
    {
     "name": "stdout",
     "output_type": "stream",
     "text": [
      "Tags: 8\n"
     ]
    }
   ],
   "source": [
    "# Cantidad de tags\n",
    "print(\"Tags:\", len(classes))"
   ]
  },
  {
   "cell_type": "code",
   "execution_count": 180,
   "metadata": {
    "colab": {
     "base_uri": "https://localhost:8080/"
    },
    "executionInfo": {
     "elapsed": 3097,
     "status": "ok",
     "timestamp": 1656417334176,
     "user": {
      "displayName": "Hernán Contigiani",
      "userId": "01142101934719343059"
     },
     "user_tz": 180
    },
    "id": "vpbJ0guPN2Uq",
    "outputId": "5865dc76-beb9-41dc-b8bd-e8c2a8af4563"
   },
   "outputs": [
    {
     "name": "stdout",
     "output_type": "stream",
     "text": [
      "X: [0.0, 0.0, 0.0, 0.5260675556660943, 0.0, 0.5260675556660943, 0.0, 0.0, 0.0, 0.0, 0.0, 0.0, 0.0, 0.0, 0.0, 0.0, 0.0, 0.0, 0.0, 0.0, 0.0, 0.0, 0.0, 0.0, 0.0, 0.0, 0.0, 0.0, 0.5260675556660943, 0.0, 0.0, 0.4120179372630547, 0.0, 0.0] y: [0, 1, 0, 0, 0, 0, 0, 0]\n",
      "X: [0.0, 0.0, 0.0, 0.0, 0.0, 0.0, 0.4647275100387686, 0.0, 0.0, 0.0, 0.0, 0.0, 0.5933675288044491, 0.0, 0.0, 0.0, 0.4647275100387686, 0.0, 0.0, 0.0, 0.0, 0.0, 0.0, 0.0, 0.0, 0.0, 0.0, 0.0, 0.0, 0.0, 0.0, 0.4647275100387686, 0.0, 0.0] y: [0, 1, 0, 0, 0, 0, 0, 0]\n",
      "X: [0.0, 0.0, 0.0, 0.0, 0.0, 0.0, 0.0, 0.0, 0.0, 0.0, 0.0, 0.0, 0.0, 0.0, 0.0, 1.0, 0.0, 0.0, 0.0, 0.0, 0.0, 0.0, 0.0, 0.0, 0.0, 0.0, 0.0, 0.0, 0.0, 0.0, 0.0, 0.0, 0.0, 0.0] y: [0, 0, 0, 0, 0, 0, 0, 1]\n",
      "X: [0.0, 0.0, 0.0, 0.0, 0.0, 0.0, 0.0, 0.0, 0.0, 0.0, 0.0, 0.0, 0.0, 0.0, 0.0, 0.0, 0.0, 0.0, 0.0, 0.0, 0.0, 0.0, 0.0, 0.0, 0.0, 0.0, 0.0, 1.0, 0.0, 0.0, 0.0, 0.0, 0.0, 0.0] y: [0, 0, 0, 0, 0, 0, 0, 1]\n",
      "X: [0.0, 0.0, 0.7071067811865476, 0.0, 0.0, 0.0, 0.0, 0.0, 0.7071067811865476, 0.0, 0.0, 0.0, 0.0, 0.0, 0.0, 0.0, 0.0, 0.0, 0.0, 0.0, 0.0, 0.0, 0.0, 0.0, 0.0, 0.0, 0.0, 0.0, 0.0, 0.0, 0.0, 0.0, 0.0, 0.0] y: [0, 0, 0, 0, 0, 0, 0, 1]\n",
      "X: [0.0, 0.0, 0.0, 0.0, 0.5326316363791196, 0.0, 0.0, 0.0, 0.0, 0.0, 0.4650844438681015, 0.0, 0.0, 0.0, 0.0, 0.0, 0.0, 0.0, 0.0, 0.0, 0.5326316363791196, 0.0, 0.0, 0.0, 0.0, 0.0, 0.0, 0.0, 0.0, 0.0, 0.4650844438681015, 0.0, 0.0, 0.0] y: [0, 0, 0, 0, 0, 1, 0, 0]\n",
      "X: [0.0, 0.0, 0.0, 0.0, 0.0, 0.0, 0.0, 0.0, 0.0, 0.7872776814236067, 0.0, 0.0, 0.0, 0.0, 0.0, 0.0, 0.0, 0.0, 0.0, 0.0, 0.0, 0.0, 0.0, 0.0, 0.0, 0.6165986152532861, 0.0, 0.0, 0.0, 0.0, 0.0, 0.0, 0.0, 0.0] y: [0, 0, 0, 0, 0, 1, 0, 0]\n",
      "X: [0.0, 0.0, 0.0, 0.0, 0.0, 0.0, 0.0, 0.5644853081049033, 0.0, 0.0, 0.4928985018171459, 0.0, 0.0, 0.0, 0.0, 0.0, 0.0, 0.0, 0.0, 0.0, 0.0, 0.0, 0.0, 0.0, 0.0, 0.4421068544441926, 0.0, 0.0, 0.0, 0.0, 0.4928985018171459, 0.0, 0.0, 0.0] y: [0, 0, 0, 0, 1, 0, 0, 0]\n",
      "X: [0.0, 0.0, 0.0, 0.0, 0.0, 0.0, 0.0, 0.0, 0.0, 0.0, 0.0, 0.0, 0.0, 0.0, 0.0, 0.0, 0.0, 0.0, 0.0, 0.0, 0.0, 0.0, 0.7872776814236067, 0.0, 0.0, 0.6165986152532861, 0.0, 0.0, 0.0, 0.0, 0.0, 0.0, 0.0, 0.0] y: [0, 0, 0, 0, 1, 0, 0, 0]\n",
      "X: [0.0, 0.6577287281670176, 0.0, 0.0, 0.0, 0.0, 0.0, 0.0, 0.0, 0.0, 0.0, 0.0, 0.0, 0.0, 0.0, 0.0, 0.0, 0.0, 0.0, 0.0, 0.0, 0.0, 0.0, 0.0, 0.0, 0.0, 0.0, 0.0, 0.0, 0.7532548839163258, 0.0, 0.0, 0.0, 0.0] y: [1, 0, 0, 0, 0, 0, 0, 0]\n",
      "X: [0.0, 0.5412467365961908, 0.0, 0.0, 0.0, 0.0, 0.48547295500503895, 0.0, 0.0, 0.0, 0.0, 0.0, 0.0, 0.0, 0.0, 0.0, 0.48547295500503895, 0.0, 0.0, 0.0, 0.0, 0.0, 0.0, 0.0, 0.0, 0.0, 0.0, 0.0, 0.0, 0.0, 0.0, 0.48547295500503895, 0.0, 0.0] y: [1, 0, 0, 0, 0, 0, 0, 0]\n",
      "X: [0.0, 0.0, 0.0, 0.0, 0.0, 0.0, 0.0, 0.0, 0.0, 0.0, 0.0, 0.0, 0.0, 0.4501628529638362, 0.0, 0.0, 0.0, 0.0, 0.0, 0.0, 0.0, 0.0, 0.0, 0.5155428872594595, 0.0, 0.0, 0.5155428872594595, 0.0, 0.0, 0.0, 0.0, 0.0, 0.0, 0.5155428872594595] y: [0, 0, 0, 0, 0, 0, 1, 0]\n",
      "X: [0.0, 0.0, 0.0, 0.0, 0.0, 0.0, 0.3200279672916416, 0.0, 0.0, 0.0, 0.0, 0.40861408029042884, 0.0, 0.35679452610149137, 0.0, 0.0, 0.3200279672916416, 0.40861408029042884, 0.0, 0.40861408029042884, 0.0, 0.0, 0.0, 0.0, 0.40861408029042884, 0.0, 0.0, 0.0, 0.0, 0.0, 0.0, 0.0, 0.0, 0.0] y: [0, 0, 0, 0, 0, 0, 1, 0]\n",
      "X: [1.0, 0.0, 0.0, 0.0, 0.0, 0.0, 0.0, 0.0, 0.0, 0.0, 0.0, 0.0, 0.0, 0.0, 0.0, 0.0, 0.0, 0.0, 0.0, 0.0, 0.0, 0.0, 0.0, 0.0, 0.0, 0.0, 0.0, 0.0, 0.0, 0.0, 0.0, 0.0, 0.0, 0.0] y: [0, 0, 0, 1, 0, 0, 0, 0]\n",
      "X: [0.0, 0.0, 0.0, 0.0, 0.0, 0.0, 0.0, 0.0, 0.0, 0.0, 0.0, 0.0, 0.0, 0.0, 0.7071067811865476, 0.0, 0.0, 0.0, 0.7071067811865476, 0.0, 0.0, 0.0, 0.0, 0.0, 0.0, 0.0, 0.0, 0.0, 0.0, 0.0, 0.0, 0.0, 0.0, 0.0] y: [0, 0, 0, 1, 0, 0, 0, 0]\n",
      "X: [0.0, 0.0, 0.0, 0.0, 0.0, 0.0, 0.0, 0.0, 0.0, 0.0, 0.0, 0.0, 0.0, 0.0, 0.0, 0.0, 0.0, 0.0, 0.0, 0.0, 0.0, 0.7071067811865476, 0.0, 0.0, 0.0, 0.0, 0.0, 0.0, 0.0, 0.0, 0.0, 0.0, 0.7071067811865476, 0.0] y: [0, 0, 0, 1, 0, 0, 0, 0]\n",
      "X: [0.0, 0.0, 0.0, 0.0, 0.0, 0.0, 0.0, 0.0, 0.0, 0.0, 0.0, 0.0, 0.0, 0.0, 0.0, 0.0, 0.0, 0.0, 0.0, 0.0, 0.0, 0.0, 0.0, 0.0, 0.0, 0.0, 0.0, 0.0, 0.0, 0.0, 0.0, 0.0, 0.0, 0.0] y: [0, 0, 1, 0, 0, 0, 0, 0]\n"
     ]
    }
   ],
   "source": [
    "# Transformar doc_X en bag of words por oneHotEncoding\n",
    "# Transformar doc_Y en un vector de clases multicategórico con oneHotEncoding\n",
    "\n",
    "from sklearn.feature_extraction.text import TfidfVectorizer\n",
    "\n",
    "vectorizer = TfidfVectorizer()\n",
    "tfidf_matrix = vectorizer.fit_transform(doc_X)\n",
    "tfidf_vector = vectorizer.transform(doc_X)\n",
    "tfidf_array = tfidf_vector.toarray()\n",
    "\n",
    "training = []\n",
    "out_empty = [0] * len(classes)\n",
    "\n",
    "for idx, row in enumerate(tfidf_array):\n",
    "    output_row = list(out_empty)\n",
    "    output_row[classes.index(doc_y[idx])] = 1\n",
    "    print(\"X:\", row.tolist(), \"y:\", output_row)\n",
    "    training.append([row.tolist(), output_row])\n",
    "\n",
    "# Shuffle the training data\n",
    "random.shuffle(training)\n",
    "\n",
    "# Convert training data to a numpy array\n",
    "training = np.array(training, dtype=object)\n",
    "\n",
    "# Split into input and output data\n",
    "train_X = np.array(list(training[:, 0]))\n",
    "train_y = np.array(list(training[:, 1]))"
   ]
  },
  {
   "cell_type": "code",
   "execution_count": 181,
   "metadata": {
    "colab": {
     "base_uri": "https://localhost:8080/"
    },
    "executionInfo": {
     "elapsed": 25,
     "status": "ok",
     "timestamp": 1656417334177,
     "user": {
      "displayName": "Hernán Contigiani",
      "userId": "01142101934719343059"
     },
     "user_tz": 180
    },
    "id": "GQaGSWBtauBn",
    "outputId": "cb51b63a-4b96-4cf7-ef57-b8440084913b"
   },
   "outputs": [
    {
     "name": "stdout",
     "output_type": "stream",
     "text": [
      "Input dim 34\n",
      "Output dim 8\n"
     ]
    }
   ],
   "source": [
    "class Data(Dataset):\n",
    "    def __init__(self, x, y):\n",
    "        # Convertir los arrays de numpy a tensores. \n",
    "        # pytorch espera en general entradas 32bits\n",
    "        self.x = torch.from_numpy(x.astype(np.float32))\n",
    "        # las loss function esperan la salida float\n",
    "        self.y = torch.from_numpy(y.astype(np.float32))\n",
    "\n",
    "        self.len = self.y.shape[0]\n",
    "\n",
    "    def __getitem__(self,index):\n",
    "        return self.x[index], self.y[index]\n",
    "\n",
    "    def __len__(self):\n",
    "        return self.len\n",
    "\n",
    "data_set = Data(train_X, train_y)\n",
    "\n",
    "input_dim = data_set.x.shape[1]\n",
    "print(\"Input dim\", input_dim)\n",
    "\n",
    "output_dim = data_set.y.shape[1]\n",
    "print(\"Output dim\", output_dim)"
   ]
  },
  {
   "cell_type": "code",
   "execution_count": 182,
   "metadata": {
    "executionInfo": {
     "elapsed": 426,
     "status": "ok",
     "timestamp": 1656417892198,
     "user": {
      "displayName": "Hernán Contigiani",
      "userId": "01142101934719343059"
     },
     "user_tz": 180
    },
    "id": "cGw7uV47LuJx"
   },
   "outputs": [],
   "source": [
    "from torch.utils.data import DataLoader\n",
    "\n",
    "train_loader = DataLoader(data_set, batch_size=32, shuffle=False)"
   ]
  },
  {
   "cell_type": "markdown",
   "metadata": {
    "id": "a_Hr8QaDfRf3"
   },
   "source": [
    "### 5 - Entrenamiento del modelo"
   ]
  },
  {
   "cell_type": "code",
   "execution_count": 183,
   "metadata": {
    "colab": {
     "base_uri": "https://localhost:8080/"
    },
    "executionInfo": {
     "elapsed": 500,
     "status": "ok",
     "timestamp": 1656417894757,
     "user": {
      "displayName": "Hernán Contigiani",
      "userId": "01142101934719343059"
     },
     "user_tz": 180
    },
    "id": "7FNoKNeSbVmY",
    "outputId": "40139e9e-1f2d-47f9-f4aa-905dc1e055a8"
   },
   "outputs": [
    {
     "name": "stdout",
     "output_type": "stream",
     "text": [
      "----------------------------------------------------------------\n",
      "        Layer (type)               Output Shape         Param #\n",
      "================================================================\n",
      "            Linear-1               [-1, 1, 128]           4,480\n",
      "              ReLU-2               [-1, 1, 128]               0\n",
      "           Dropout-3               [-1, 1, 128]               0\n",
      "            Linear-4                [-1, 1, 64]           8,256\n",
      "              ReLU-5                [-1, 1, 64]               0\n",
      "           Dropout-6                [-1, 1, 64]               0\n",
      "            Linear-7                 [-1, 1, 8]             520\n",
      "           Softmax-8                 [-1, 1, 8]               0\n",
      "================================================================\n",
      "Total params: 13,256\n",
      "Trainable params: 13,256\n",
      "Non-trainable params: 0\n",
      "----------------------------------------------------------------\n",
      "Input size (MB): 0.00\n",
      "Forward/backward pass size (MB): 0.00\n",
      "Params size (MB): 0.05\n",
      "Estimated Total Size (MB): 0.06\n",
      "----------------------------------------------------------------\n"
     ]
    }
   ],
   "source": [
    "class Model1(nn.Module):\n",
    "    def __init__(self, input_dim, output_dim):\n",
    "        super().__init__()\n",
    "        self.fc1 = nn.Linear(in_features=input_dim, out_features=128) # fully connected layer\n",
    "        self.fc2 = nn.Linear(in_features=128, out_features=64) # fully connected layer\n",
    "        self.fc3 = nn.Linear(in_features=64, out_features=output_dim) # fully connected layer\n",
    "        \n",
    "        self.relu = nn.ReLU()\n",
    "        self.softmax = nn.Softmax(dim=1) # normalize in dim 1\n",
    "        self.dropout = nn.Dropout(0.5)\n",
    "\n",
    "    def forward(self, x):\n",
    "        out = self.relu(self.fc1(x))\n",
    "        out = self.dropout(out)\n",
    "        out = self.relu(self.fc2(out))\n",
    "        out = self.dropout(out)\n",
    "        out = self.softmax(self.fc3(out))\n",
    "        return out\n",
    "\n",
    "# Crear el modelo basado en la arquitectura definida\n",
    "model1 = Model1(input_dim=input_dim, output_dim=output_dim)\n",
    "# Crear el optimizador la una función de error\n",
    "model1_optimizer = torch.optim.Adam(model1.parameters(), lr=0.001)\n",
    "model1_criterion = torch.nn.CrossEntropyLoss()  # Para clasificación multi categórica\n",
    "\n",
    "torchsummary.summary(model1, input_size=(1, input_dim))"
   ]
  },
  {
   "cell_type": "code",
   "execution_count": 184,
   "metadata": {
    "executionInfo": {
     "elapsed": 6,
     "status": "ok",
     "timestamp": 1656417873035,
     "user": {
      "displayName": "Hernán Contigiani",
      "userId": "01142101934719343059"
     },
     "user_tz": 180
    },
    "id": "-Ap_Ts8Ga39y"
   },
   "outputs": [],
   "source": [
    "from torch_helpers import categorical_acc\n",
    "\n",
    "def train(model, train_loader, optimizer, criterion, epochs=100):\n",
    "    # Defino listas para realizar graficas de los resultados\n",
    "    train_loss = []\n",
    "    train_accuracy = []\n",
    "\n",
    "    ## Defino mi loop de entrenamiento\n",
    "\n",
    "    for epoch in range(epochs):\n",
    "\n",
    "        epoch_train_loss = 0.0\n",
    "        epoch_train_accuracy = 0.0\n",
    "\n",
    "        for train_data, train_target in train_loader:\n",
    "\n",
    "            # Seteo los gradientes en cero ya que, por defecto, PyTorch\n",
    "            # los va acumulando\n",
    "            optimizer.zero_grad()\n",
    "\n",
    "            output = model(train_data)\n",
    "\n",
    "            # Computo el error de la salida comparando contra las etiquetas\n",
    "            loss = criterion(output, train_target)\n",
    "\n",
    "            # Almaceno el error del batch para luego tener el error promedio de la epoca\n",
    "            epoch_train_loss += loss.item()\n",
    "\n",
    "            # Computo el nuevo set de gradientes a lo largo de toda la red\n",
    "            loss.backward()\n",
    "\n",
    "            # Realizo el paso de optimizacion actualizando los parametros de toda la red\n",
    "            optimizer.step()\n",
    "            \n",
    "            # Calculo el accuracy del batch\n",
    "            accuracy = categorical_acc(output, train_target)\n",
    "            # Almaceno el accuracy del batch para luego tener el accuracy promedio de la epoca\n",
    "            epoch_train_accuracy += accuracy.item()\n",
    "\n",
    "        # Calculo la media de error y accuracy para la epoca de entrenamiento.\n",
    "        # La longitud de train_loader es igual a la cantidad de batches dentro de una epoca.\n",
    "        epoch_train_loss = epoch_train_loss / len(train_loader)\n",
    "        train_loss.append(epoch_train_loss)\n",
    "        epoch_train_accuracy = epoch_train_accuracy / len(train_loader)        \n",
    "        train_accuracy.append(epoch_train_accuracy)\n",
    "\n",
    "        print(f\"Epoch: {epoch+1}/{epochs} - Train loss {epoch_train_loss:.3f} - Train accuracy {epoch_train_accuracy:.3f}\")\n",
    "\n",
    "    history = {\n",
    "        \"loss\": train_loss,\n",
    "        \"accuracy\": train_accuracy,\n",
    "    }\n",
    "    \n",
    "    return history"
   ]
  },
  {
   "cell_type": "code",
   "execution_count": 185,
   "metadata": {
    "colab": {
     "base_uri": "https://localhost:8080/"
    },
    "executionInfo": {
     "elapsed": 961,
     "status": "ok",
     "timestamp": 1656417901433,
     "user": {
      "displayName": "Hernán Contigiani",
      "userId": "01142101934719343059"
     },
     "user_tz": 180
    },
    "id": "r6hi4EcdOghm",
    "outputId": "03a56f27-fa93-4990-fabe-2113da72cdf5"
   },
   "outputs": [
    {
     "name": "stdout",
     "output_type": "stream",
     "text": [
      "Epoch: 1/200 - Train loss 2.077 - Train accuracy 0.118\n",
      "Epoch: 2/200 - Train loss 2.079 - Train accuracy 0.176\n",
      "Epoch: 3/200 - Train loss 2.079 - Train accuracy 0.176\n",
      "Epoch: 4/200 - Train loss 2.078 - Train accuracy 0.176\n",
      "Epoch: 5/200 - Train loss 2.078 - Train accuracy 0.176\n",
      "Epoch: 6/200 - Train loss 2.076 - Train accuracy 0.118\n",
      "Epoch: 7/200 - Train loss 2.078 - Train accuracy 0.118\n",
      "Epoch: 8/200 - Train loss 2.076 - Train accuracy 0.059\n",
      "Epoch: 9/200 - Train loss 2.076 - Train accuracy 0.235\n",
      "Epoch: 10/200 - Train loss 2.078 - Train accuracy 0.176\n",
      "Epoch: 11/200 - Train loss 2.077 - Train accuracy 0.059\n",
      "Epoch: 12/200 - Train loss 2.075 - Train accuracy 0.059\n",
      "Epoch: 13/200 - Train loss 2.075 - Train accuracy 0.118\n",
      "Epoch: 14/200 - Train loss 2.072 - Train accuracy 0.235\n",
      "Epoch: 15/200 - Train loss 2.073 - Train accuracy 0.176\n",
      "Epoch: 16/200 - Train loss 2.074 - Train accuracy 0.118\n",
      "Epoch: 17/200 - Train loss 2.076 - Train accuracy 0.176\n",
      "Epoch: 18/200 - Train loss 2.071 - Train accuracy 0.353\n",
      "Epoch: 19/200 - Train loss 2.071 - Train accuracy 0.412\n",
      "Epoch: 20/200 - Train loss 2.071 - Train accuracy 0.294\n",
      "Epoch: 21/200 - Train loss 2.070 - Train accuracy 0.353\n",
      "Epoch: 22/200 - Train loss 2.071 - Train accuracy 0.353\n",
      "Epoch: 23/200 - Train loss 2.070 - Train accuracy 0.294\n",
      "Epoch: 24/200 - Train loss 2.068 - Train accuracy 0.294\n",
      "Epoch: 25/200 - Train loss 2.068 - Train accuracy 0.176\n",
      "Epoch: 26/200 - Train loss 2.071 - Train accuracy 0.294\n",
      "Epoch: 27/200 - Train loss 2.071 - Train accuracy 0.235\n",
      "Epoch: 28/200 - Train loss 2.069 - Train accuracy 0.294\n",
      "Epoch: 29/200 - Train loss 2.068 - Train accuracy 0.294\n",
      "Epoch: 30/200 - Train loss 2.067 - Train accuracy 0.294\n",
      "Epoch: 31/200 - Train loss 2.067 - Train accuracy 0.294\n",
      "Epoch: 32/200 - Train loss 2.063 - Train accuracy 0.353\n",
      "Epoch: 33/200 - Train loss 2.067 - Train accuracy 0.176\n",
      "Epoch: 34/200 - Train loss 2.063 - Train accuracy 0.353\n",
      "Epoch: 35/200 - Train loss 2.067 - Train accuracy 0.353\n",
      "Epoch: 36/200 - Train loss 2.064 - Train accuracy 0.235\n",
      "Epoch: 37/200 - Train loss 2.061 - Train accuracy 0.412\n",
      "Epoch: 38/200 - Train loss 2.066 - Train accuracy 0.235\n",
      "Epoch: 39/200 - Train loss 2.062 - Train accuracy 0.294\n",
      "Epoch: 40/200 - Train loss 2.062 - Train accuracy 0.235\n",
      "Epoch: 41/200 - Train loss 2.062 - Train accuracy 0.353\n",
      "Epoch: 42/200 - Train loss 2.055 - Train accuracy 0.294\n",
      "Epoch: 43/200 - Train loss 2.059 - Train accuracy 0.176\n",
      "Epoch: 44/200 - Train loss 2.060 - Train accuracy 0.235\n",
      "Epoch: 45/200 - Train loss 2.056 - Train accuracy 0.353\n",
      "Epoch: 46/200 - Train loss 2.055 - Train accuracy 0.353\n",
      "Epoch: 47/200 - Train loss 2.055 - Train accuracy 0.294\n",
      "Epoch: 48/200 - Train loss 2.049 - Train accuracy 0.235\n",
      "Epoch: 49/200 - Train loss 2.057 - Train accuracy 0.235\n",
      "Epoch: 50/200 - Train loss 2.051 - Train accuracy 0.176\n",
      "Epoch: 51/200 - Train loss 2.053 - Train accuracy 0.176\n",
      "Epoch: 52/200 - Train loss 2.045 - Train accuracy 0.235\n",
      "Epoch: 53/200 - Train loss 2.046 - Train accuracy 0.294\n",
      "Epoch: 54/200 - Train loss 2.045 - Train accuracy 0.294\n",
      "Epoch: 55/200 - Train loss 2.033 - Train accuracy 0.588\n",
      "Epoch: 56/200 - Train loss 2.041 - Train accuracy 0.294\n",
      "Epoch: 57/200 - Train loss 2.037 - Train accuracy 0.235\n",
      "Epoch: 58/200 - Train loss 2.035 - Train accuracy 0.294\n",
      "Epoch: 59/200 - Train loss 2.027 - Train accuracy 0.412\n",
      "Epoch: 60/200 - Train loss 2.037 - Train accuracy 0.235\n",
      "Epoch: 61/200 - Train loss 2.033 - Train accuracy 0.353\n",
      "Epoch: 62/200 - Train loss 2.029 - Train accuracy 0.235\n",
      "Epoch: 63/200 - Train loss 2.026 - Train accuracy 0.353\n",
      "Epoch: 64/200 - Train loss 2.020 - Train accuracy 0.529\n",
      "Epoch: 65/200 - Train loss 2.020 - Train accuracy 0.294\n",
      "Epoch: 66/200 - Train loss 1.991 - Train accuracy 0.588\n",
      "Epoch: 67/200 - Train loss 2.018 - Train accuracy 0.235\n",
      "Epoch: 68/200 - Train loss 2.026 - Train accuracy 0.294\n",
      "Epoch: 69/200 - Train loss 1.996 - Train accuracy 0.471\n",
      "Epoch: 70/200 - Train loss 2.025 - Train accuracy 0.294\n",
      "Epoch: 71/200 - Train loss 2.013 - Train accuracy 0.235\n",
      "Epoch: 72/200 - Train loss 1.998 - Train accuracy 0.353\n",
      "Epoch: 73/200 - Train loss 1.999 - Train accuracy 0.294\n",
      "Epoch: 74/200 - Train loss 1.972 - Train accuracy 0.471\n",
      "Epoch: 75/200 - Train loss 1.976 - Train accuracy 0.412\n",
      "Epoch: 76/200 - Train loss 1.987 - Train accuracy 0.176\n",
      "Epoch: 77/200 - Train loss 1.972 - Train accuracy 0.471\n",
      "Epoch: 78/200 - Train loss 1.990 - Train accuracy 0.294\n",
      "Epoch: 79/200 - Train loss 1.970 - Train accuracy 0.471\n",
      "Epoch: 80/200 - Train loss 1.973 - Train accuracy 0.412\n",
      "Epoch: 81/200 - Train loss 1.969 - Train accuracy 0.294\n",
      "Epoch: 82/200 - Train loss 1.951 - Train accuracy 0.353\n",
      "Epoch: 83/200 - Train loss 1.947 - Train accuracy 0.353\n",
      "Epoch: 84/200 - Train loss 1.916 - Train accuracy 0.588\n",
      "Epoch: 85/200 - Train loss 1.919 - Train accuracy 0.353\n",
      "Epoch: 86/200 - Train loss 1.938 - Train accuracy 0.412\n",
      "Epoch: 87/200 - Train loss 1.940 - Train accuracy 0.529\n",
      "Epoch: 88/200 - Train loss 1.900 - Train accuracy 0.471\n",
      "Epoch: 89/200 - Train loss 1.911 - Train accuracy 0.588\n",
      "Epoch: 90/200 - Train loss 1.911 - Train accuracy 0.471\n",
      "Epoch: 91/200 - Train loss 1.895 - Train accuracy 0.529\n",
      "Epoch: 92/200 - Train loss 1.882 - Train accuracy 0.588\n",
      "Epoch: 93/200 - Train loss 1.884 - Train accuracy 0.529\n",
      "Epoch: 94/200 - Train loss 1.868 - Train accuracy 0.529\n",
      "Epoch: 95/200 - Train loss 1.904 - Train accuracy 0.529\n",
      "Epoch: 96/200 - Train loss 1.889 - Train accuracy 0.471\n",
      "Epoch: 97/200 - Train loss 1.883 - Train accuracy 0.588\n",
      "Epoch: 98/200 - Train loss 1.891 - Train accuracy 0.647\n",
      "Epoch: 99/200 - Train loss 1.855 - Train accuracy 0.588\n",
      "Epoch: 100/200 - Train loss 1.840 - Train accuracy 0.529\n",
      "Epoch: 101/200 - Train loss 1.848 - Train accuracy 0.647\n",
      "Epoch: 102/200 - Train loss 1.800 - Train accuracy 0.706\n",
      "Epoch: 103/200 - Train loss 1.817 - Train accuracy 0.706\n",
      "Epoch: 104/200 - Train loss 1.774 - Train accuracy 0.706\n",
      "Epoch: 105/200 - Train loss 1.836 - Train accuracy 0.647\n",
      "Epoch: 106/200 - Train loss 1.810 - Train accuracy 0.588\n",
      "Epoch: 107/200 - Train loss 1.813 - Train accuracy 0.588\n",
      "Epoch: 108/200 - Train loss 1.739 - Train accuracy 0.647\n",
      "Epoch: 109/200 - Train loss 1.755 - Train accuracy 0.706\n",
      "Epoch: 110/200 - Train loss 1.796 - Train accuracy 0.824\n",
      "Epoch: 111/200 - Train loss 1.728 - Train accuracy 0.706\n",
      "Epoch: 112/200 - Train loss 1.730 - Train accuracy 0.882\n",
      "Epoch: 113/200 - Train loss 1.779 - Train accuracy 0.765\n",
      "Epoch: 114/200 - Train loss 1.743 - Train accuracy 0.647\n",
      "Epoch: 115/200 - Train loss 1.704 - Train accuracy 0.824\n",
      "Epoch: 116/200 - Train loss 1.684 - Train accuracy 0.824\n",
      "Epoch: 117/200 - Train loss 1.662 - Train accuracy 0.765\n",
      "Epoch: 118/200 - Train loss 1.701 - Train accuracy 0.706\n",
      "Epoch: 119/200 - Train loss 1.739 - Train accuracy 0.765\n",
      "Epoch: 120/200 - Train loss 1.673 - Train accuracy 0.824\n",
      "Epoch: 121/200 - Train loss 1.653 - Train accuracy 0.765\n",
      "Epoch: 122/200 - Train loss 1.626 - Train accuracy 0.824\n",
      "Epoch: 123/200 - Train loss 1.620 - Train accuracy 0.882\n",
      "Epoch: 124/200 - Train loss 1.632 - Train accuracy 0.824\n",
      "Epoch: 125/200 - Train loss 1.625 - Train accuracy 0.824\n",
      "Epoch: 126/200 - Train loss 1.580 - Train accuracy 0.882\n",
      "Epoch: 127/200 - Train loss 1.655 - Train accuracy 0.824\n",
      "Epoch: 128/200 - Train loss 1.675 - Train accuracy 0.882\n",
      "Epoch: 129/200 - Train loss 1.555 - Train accuracy 0.882\n",
      "Epoch: 130/200 - Train loss 1.681 - Train accuracy 0.824\n",
      "Epoch: 131/200 - Train loss 1.636 - Train accuracy 0.882\n",
      "Epoch: 132/200 - Train loss 1.632 - Train accuracy 0.765\n",
      "Epoch: 133/200 - Train loss 1.621 - Train accuracy 0.824\n",
      "Epoch: 134/200 - Train loss 1.626 - Train accuracy 0.824\n",
      "Epoch: 135/200 - Train loss 1.519 - Train accuracy 0.824\n",
      "Epoch: 136/200 - Train loss 1.595 - Train accuracy 0.824\n",
      "Epoch: 137/200 - Train loss 1.551 - Train accuracy 0.824\n",
      "Epoch: 138/200 - Train loss 1.567 - Train accuracy 0.882\n",
      "Epoch: 139/200 - Train loss 1.526 - Train accuracy 0.882\n",
      "Epoch: 140/200 - Train loss 1.502 - Train accuracy 0.824\n",
      "Epoch: 141/200 - Train loss 1.579 - Train accuracy 0.824\n",
      "Epoch: 142/200 - Train loss 1.551 - Train accuracy 0.824\n",
      "Epoch: 143/200 - Train loss 1.536 - Train accuracy 0.941\n",
      "Epoch: 144/200 - Train loss 1.505 - Train accuracy 0.882\n",
      "Epoch: 145/200 - Train loss 1.487 - Train accuracy 0.941\n",
      "Epoch: 146/200 - Train loss 1.530 - Train accuracy 0.941\n",
      "Epoch: 147/200 - Train loss 1.494 - Train accuracy 0.882\n",
      "Epoch: 148/200 - Train loss 1.506 - Train accuracy 0.882\n",
      "Epoch: 149/200 - Train loss 1.489 - Train accuracy 0.941\n",
      "Epoch: 150/200 - Train loss 1.444 - Train accuracy 0.941\n",
      "Epoch: 151/200 - Train loss 1.536 - Train accuracy 0.882\n",
      "Epoch: 152/200 - Train loss 1.513 - Train accuracy 0.824\n",
      "Epoch: 153/200 - Train loss 1.497 - Train accuracy 0.941\n",
      "Epoch: 154/200 - Train loss 1.481 - Train accuracy 0.882\n",
      "Epoch: 155/200 - Train loss 1.486 - Train accuracy 0.941\n",
      "Epoch: 156/200 - Train loss 1.499 - Train accuracy 0.882\n",
      "Epoch: 157/200 - Train loss 1.485 - Train accuracy 0.882\n",
      "Epoch: 158/200 - Train loss 1.460 - Train accuracy 0.941\n",
      "Epoch: 159/200 - Train loss 1.454 - Train accuracy 0.941\n"
     ]
    },
    {
     "name": "stdout",
     "output_type": "stream",
     "text": [
      "Epoch: 160/200 - Train loss 1.474 - Train accuracy 0.941\n",
      "Epoch: 161/200 - Train loss 1.423 - Train accuracy 0.941\n",
      "Epoch: 162/200 - Train loss 1.445 - Train accuracy 0.941\n",
      "Epoch: 163/200 - Train loss 1.477 - Train accuracy 0.941\n",
      "Epoch: 164/200 - Train loss 1.453 - Train accuracy 0.941\n",
      "Epoch: 165/200 - Train loss 1.420 - Train accuracy 0.882\n",
      "Epoch: 166/200 - Train loss 1.470 - Train accuracy 0.941\n",
      "Epoch: 167/200 - Train loss 1.386 - Train accuracy 0.941\n",
      "Epoch: 168/200 - Train loss 1.428 - Train accuracy 0.941\n",
      "Epoch: 169/200 - Train loss 1.470 - Train accuracy 0.941\n",
      "Epoch: 170/200 - Train loss 1.416 - Train accuracy 0.941\n",
      "Epoch: 171/200 - Train loss 1.442 - Train accuracy 0.941\n",
      "Epoch: 172/200 - Train loss 1.491 - Train accuracy 0.882\n",
      "Epoch: 173/200 - Train loss 1.427 - Train accuracy 0.941\n",
      "Epoch: 174/200 - Train loss 1.382 - Train accuracy 0.941\n",
      "Epoch: 175/200 - Train loss 1.416 - Train accuracy 0.941\n",
      "Epoch: 176/200 - Train loss 1.406 - Train accuracy 0.941\n",
      "Epoch: 177/200 - Train loss 1.418 - Train accuracy 0.941\n",
      "Epoch: 178/200 - Train loss 1.389 - Train accuracy 0.941\n",
      "Epoch: 179/200 - Train loss 1.401 - Train accuracy 0.941\n",
      "Epoch: 180/200 - Train loss 1.389 - Train accuracy 0.941\n",
      "Epoch: 181/200 - Train loss 1.441 - Train accuracy 0.882\n",
      "Epoch: 182/200 - Train loss 1.422 - Train accuracy 0.941\n",
      "Epoch: 183/200 - Train loss 1.430 - Train accuracy 0.882\n",
      "Epoch: 184/200 - Train loss 1.435 - Train accuracy 0.941\n",
      "Epoch: 185/200 - Train loss 1.445 - Train accuracy 0.941\n",
      "Epoch: 186/200 - Train loss 1.400 - Train accuracy 0.882\n",
      "Epoch: 187/200 - Train loss 1.434 - Train accuracy 0.941\n",
      "Epoch: 188/200 - Train loss 1.446 - Train accuracy 0.882\n",
      "Epoch: 189/200 - Train loss 1.406 - Train accuracy 0.882\n",
      "Epoch: 190/200 - Train loss 1.461 - Train accuracy 0.882\n",
      "Epoch: 191/200 - Train loss 1.400 - Train accuracy 0.941\n",
      "Epoch: 192/200 - Train loss 1.407 - Train accuracy 0.882\n",
      "Epoch: 193/200 - Train loss 1.412 - Train accuracy 0.941\n",
      "Epoch: 194/200 - Train loss 1.422 - Train accuracy 0.882\n",
      "Epoch: 195/200 - Train loss 1.436 - Train accuracy 0.941\n",
      "Epoch: 196/200 - Train loss 1.388 - Train accuracy 0.941\n",
      "Epoch: 197/200 - Train loss 1.447 - Train accuracy 0.882\n",
      "Epoch: 198/200 - Train loss 1.384 - Train accuracy 0.941\n",
      "Epoch: 199/200 - Train loss 1.377 - Train accuracy 0.941\n",
      "Epoch: 200/200 - Train loss 1.376 - Train accuracy 0.941\n"
     ]
    }
   ],
   "source": [
    "history1 = train(model1,\n",
    "                train_loader,\n",
    "                model1_optimizer,\n",
    "                model1_criterion,\n",
    "                epochs=200\n",
    "                )"
   ]
  },
  {
   "cell_type": "code",
   "execution_count": 186,
   "metadata": {
    "colab": {
     "base_uri": "https://localhost:8080/",
     "height": 265
    },
    "executionInfo": {
     "elapsed": 1034,
     "status": "ok",
     "timestamp": 1656417942693,
     "user": {
      "displayName": "Hernán Contigiani",
      "userId": "01142101934719343059"
     },
     "user_tz": 180
    },
    "id": "Pb1GZDjGRP6Q",
    "outputId": "c04d5435-c5e6-48ac-9f13-9de67e493a7c"
   },
   "outputs": [
    {
     "name": "stderr",
     "output_type": "stream",
     "text": [
      "/home/rodrigo/projects/posgrado/procesamiento_lenguaje_natural/.conda/lib/python3.10/site-packages/seaborn/_oldcore.py:1498: FutureWarning: is_categorical_dtype is deprecated and will be removed in a future version. Use isinstance(dtype, CategoricalDtype) instead\n",
      "  if pd.api.types.is_categorical_dtype(vector):\n",
      "/home/rodrigo/projects/posgrado/procesamiento_lenguaje_natural/.conda/lib/python3.10/site-packages/seaborn/_oldcore.py:1498: FutureWarning: is_categorical_dtype is deprecated and will be removed in a future version. Use isinstance(dtype, CategoricalDtype) instead\n",
      "  if pd.api.types.is_categorical_dtype(vector):\n",
      "/home/rodrigo/projects/posgrado/procesamiento_lenguaje_natural/.conda/lib/python3.10/site-packages/seaborn/_oldcore.py:1119: FutureWarning: use_inf_as_na option is deprecated and will be removed in a future version. Convert inf values to NaN before operating instead.\n",
      "  with pd.option_context('mode.use_inf_as_na', True):\n",
      "/home/rodrigo/projects/posgrado/procesamiento_lenguaje_natural/.conda/lib/python3.10/site-packages/seaborn/_oldcore.py:1119: FutureWarning: use_inf_as_na option is deprecated and will be removed in a future version. Convert inf values to NaN before operating instead.\n",
      "  with pd.option_context('mode.use_inf_as_na', True):\n"
     ]
    },
    {
     "data": {
      "image/png": "[encoded data removed]",
      "text/plain": [
       "<Figure size 640x480 with 1 Axes>"
      ]
     },
     "metadata": {},
     "output_type": "display_data"
    }
   ],
   "source": [
    "epoch_count = range(1, len(history1['accuracy']) + 1)\n",
    "sns.lineplot(x=epoch_count,  y=history1['accuracy'], label='train')\n",
    "plt.show()"
   ]
  },
  {
   "cell_type": "markdown",
   "metadata": {
    "id": "TnD1WvhBfVYR"
   },
   "source": [
    "### 6 - Testing y validación"
   ]
  },
  {
   "cell_type": "code",
   "execution_count": 187,
   "metadata": {
    "executionInfo": {
     "elapsed": 4,
     "status": "ok",
     "timestamp": 1656418138142,
     "user": {
      "displayName": "Hernán Contigiani",
      "userId": "01142101934719343059"
     },
     "user_tz": 180
    },
    "id": "kqBdSGt8Orkm"
   },
   "outputs": [],
   "source": [
    "def text_to_tokens(text): \n",
    "    lemma_tokens = []\n",
    "    tokens = nlp(preprocess_clean_text(text.lower()))\n",
    "    for token in tokens:\n",
    "        lemma_tokens.append(token.lemma_)\n",
    "    #print(lemma_tokens)\n",
    "    return lemma_tokens\n",
    "\n",
    "def tfidf_representation(text):\n",
    "    tfidf_vector = vectorizer.transform([text])\n",
    "    tfidf_array = tfidf_vector.toarray()\n",
    "    return tfidf_array\n",
    "\n",
    "def pred_class(text, vocab, labels):\n",
    "    tfidf_array = tfidf_representation(text)\n",
    "    \n",
    "    return_list = []\n",
    "    \n",
    "    if not np.all(tfidf_array == 0):  # Check if the TF-IDF array is not all zeros\n",
    "        x = torch.from_numpy(tfidf_array.astype(np.float32))\n",
    "        result = model1(x)[0].detach().numpy()\n",
    "        \n",
    "        thresh = 0.2\n",
    "        y_pred = [[idx, res] for idx, res in enumerate(result) if res > thresh]\n",
    "        y_pred.sort(key=lambda x: x[1], reverse=True)\n",
    "        \n",
    "        for r in y_pred:\n",
    "            return_list.append(labels[r[0]])\n",
    "    \n",
    "    return return_list\n",
    "\n",
    "def get_response(intents_list, intents_json):\n",
    "    tag = intents_list[0]\n",
    "    list_of_intents = intents_json[\"intents\"]\n",
    "    for i in list_of_intents: \n",
    "        if i[\"tag\"] == tag:\n",
    "            result = \"BOT: \" + random.choice(i[\"responses\"])\n",
    "            break\n",
    "    return result"
   ]
  },
  {
   "cell_type": "code",
   "execution_count": 188,
   "metadata": {
    "colab": {
     "base_uri": "https://localhost:8080/"
    },
    "executionInfo": {
     "elapsed": 562,
     "status": "ok",
     "timestamp": 1656418140912,
     "user": {
      "displayName": "Hernán Contigiani",
      "userId": "01142101934719343059"
     },
     "user_tz": 180
    },
    "id": "CivDeypZNF2o",
    "outputId": "3885edbb-f1aa-44ca-e716-e9ac777f43d2"
   },
   "outputs": [
    {
     "name": "stdout",
     "output_type": "stream",
     "text": [
      "BOT: Fui creado por Anakin Skywalker, y posteriormente, serví a su hijo, Luke Skywalker, en muchas aventuras galácticas.\n",
      "BOT: Soy C-3PO, un droide de protocolo con amplios conocimientos en lenguaje humano y etiqueta.\n",
      "BOT: He tenido el privilegio de visitar muchos planetas en la galaxia, incluyendo Tatooine, Endor y Hoth.\n",
      "BOT: Soy C-3PO, un droide de protocolo con amplios conocimientos en lenguaje humano y etiqueta.\n",
      "BOT: ¡Hasta luego, que la Fuerza te acompañe en tus aventuras!\n"
     ]
    }
   ],
   "source": [
    "messages = [\"Quienes es Anakin?\", \"Cual es tu nombre?\", \"Que planetas conoces?\", \"Tenes habilidades?\", \"Hasta luego!\"]\n",
    "\n",
    "for message in messages:\n",
    "    intents = pred_class(message, words, classes)\n",
    "    if len(intents) > 0:\n",
    "        result = get_response(intents, dataset)\n",
    "        print(result)"
   ]
  },
  {
   "cell_type": "markdown",
   "metadata": {
    "id": "ayatkwp4fYQx"
   },
   "source": [
    "### 7 - Conclusiones\n",
    "El bot tal cual está definido es capaz de responder a bastantes tipos de preguntas con gran precisión. Algunas técnicas que podrían ensayarse para evaluar como impactan en el sistema son:\n",
    "- Filtrar los stop words\n",
    "- Utilizar multi label classification:\\\n",
    "https://machinelearningmastery.com/multi-label-classification-with-deep-learning/\n",
    "- Utilizar TF-IDF en vez de bag of words"
   ]
  }
 ],
 "metadata": {
  "colab": {
   "collapsed_sections": [],
   "name": "2b - bot_dnn_spacy_esp.ipynb",
   "provenance": []
  },
  "kernelspec": {
   "display_name": "Python 3 (ipykernel)",
   "language": "python",
   "name": "python3"
  },
  "language_info": {
   "codemirror_mode": {
    "name": "ipython",
    "version": 3
   },
   "file_extension": ".py",
   "mimetype": "text/x-python",
   "name": "python",
   "nbconvert_exporter": "python",
   "pygments_lexer": "ipython3",
   "version": "3.10.12"
  },
  "widgets": {
   "application/vnd.jupyter.widget-state+json": {
    "02e0f9329403449abcec9511e0adf222": {
     "model_module": "@jupyter-widgets/base",
     "model_module_version": "1.2.0",
     "model_name": "LayoutModel",
     "state": {
      "_model_module": "@jupyter-widgets/base",
      "_model_module_version": "1.2.0",
      "_model_name": "LayoutModel",
      "_view_count": null,
      "_view_module": "@jupyter-widgets/base",
      "_view_module_version": "1.2.0",
      "_view_name": "LayoutView",
      "align_content": null,
      "align_items": null,
      "align_self": null,
      "border": null,
      "bottom": null,
      "display": null,
      "flex": null,
      "flex_flow": null,
      "grid_area": null,
      "grid_auto_columns": null,
      "grid_auto_flow": null,
      "grid_auto_rows": null,
      "grid_column": null,
      "grid_gap": null,
      "grid_row": null,
      "grid_template_areas": null,
      "grid_template_columns": null,
      "grid_template_rows": null,
      "height": null,
      "justify_content": null,
      "justify_items": null,
      "left": null,
      "margin": null,
      "max_height": null,
      "max_width": null,
      "min_height": null,
      "min_width": null,
      "object_fit": null,
      "object_position": null,
      "order": null,
      "overflow": null,
      "overflow_x": null,
      "overflow_y": null,
      "padding": null,
      "right": null,
      "top": null,
      "visibility": null,
      "width": null
     }
    },
    "17aa0034e7e9403c8e0e23d10242a82e": {
     "model_module": "@jupyter-widgets/controls",
     "model_module_version": "1.5.0",
     "model_name": "DescriptionStyleModel",
     "state": {
      "_model_module": "@jupyter-widgets/controls",
      "_model_module_version": "1.5.0",
      "_model_name": "DescriptionStyleModel",
      "_view_count": null,
      "_view_module": "@jupyter-widgets/base",
      "_view_module_version": "1.2.0",
      "_view_name": "StyleView",
      "description_width": ""
     }
    },
    "17d1a7147abd43c98f9519a914028b3a": {
     "model_module": "@jupyter-widgets/controls",
     "model_module_version": "1.5.0",
     "model_name": "HTMLModel",
     "state": {
      "_dom_classes": [],
      "_model_module": "@jupyter-widgets/controls",
      "_model_module_version": "1.5.0",
      "_model_name": "HTMLModel",
      "_view_count": null,
      "_view_module": "@jupyter-widgets/controls",
      "_view_module_version": "1.5.0",
      "_view_name": "HTMLView",
      "description": "",
      "description_tooltip": null,
      "layout": "IPY_MODEL_45efd8b1dc4e476e91c6c1b2d95a685e",
      "placeholder": "​",
      "style": "IPY_MODEL_52862d780e66465db8dea872b33e912d",
      "value": " 140k/? [00:00&lt;00:00, 3.10MB/s]"
     }
    },
    "1935d7a1124e4da0b4fe833eea463e1c": {
     "model_module": "@jupyter-widgets/controls",
     "model_module_version": "1.5.0",
     "model_name": "ProgressStyleModel",
     "state": {
      "_model_module": "@jupyter-widgets/controls",
      "_model_module_version": "1.5.0",
      "_model_name": "ProgressStyleModel",
      "_view_count": null,
      "_view_module": "@jupyter-widgets/base",
      "_view_module_version": "1.2.0",
      "_view_name": "StyleView",
      "bar_color": null,
      "description_width": ""
     }
    },
    "2085f017f7bd4edea914d77864d8e857": {
     "model_module": "@jupyter-widgets/base",
     "model_module_version": "1.2.0",
     "model_name": "LayoutModel",
     "state": {
      "_model_module": "@jupyter-widgets/base",
      "_model_module_version": "1.2.0",
      "_model_name": "LayoutModel",
      "_view_count": null,
      "_view_module": "@jupyter-widgets/base",
      "_view_module_version": "1.2.0",
      "_view_name": "LayoutView",
      "align_content": null,
      "align_items": null,
      "align_self": null,
      "border": null,
      "bottom": null,
      "display": null,
      "flex": null,
      "flex_flow": null,
      "grid_area": null,
      "grid_auto_columns": null,
      "grid_auto_flow": null,
      "grid_auto_rows": null,
      "grid_column": null,
      "grid_gap": null,
      "grid_row": null,
      "grid_template_areas": null,
      "grid_template_columns": null,
      "grid_template_rows": null,
      "height": null,
      "justify_content": null,
      "justify_items": null,
      "left": null,
      "margin": null,
      "max_height": null,
      "max_width": null,
      "min_height": null,
      "min_width": null,
      "object_fit": null,
      "object_position": null,
      "order": null,
      "overflow": null,
      "overflow_x": null,
      "overflow_y": null,
      "padding": null,
      "right": null,
      "top": null,
      "visibility": null,
      "width": null
     }
    },
    "28646eec34a843de818b6693e9c6d341": {
     "model_module": "@jupyter-widgets/controls",
     "model_module_version": "1.5.0",
     "model_name": "HBoxModel",
     "state": {
      "_dom_classes": [],
      "_model_module": "@jupyter-widgets/controls",
      "_model_module_version": "1.5.0",
      "_model_name": "HBoxModel",
      "_view_count": null,
      "_view_module": "@jupyter-widgets/controls",
      "_view_module_version": "1.5.0",
      "_view_name": "HBoxView",
      "box_style": "",
      "children": [
       "IPY_MODEL_5fef8dc909834f8ea1cb2dc92dad353c",
       "IPY_MODEL_a70c05f499214f229bc2216041af3bc6",
       "IPY_MODEL_d3f53a10da4e479e9cf8569a2cb922ae"
      ],
      "layout": "IPY_MODEL_2085f017f7bd4edea914d77864d8e857"
     }
    },
    "2e1491f09b1d4d83aa23f9e048f12549": {
     "model_module": "@jupyter-widgets/controls",
     "model_module_version": "1.5.0",
     "model_name": "HBoxModel",
     "state": {
      "_dom_classes": [],
      "_model_module": "@jupyter-widgets/controls",
      "_model_module_version": "1.5.0",
      "_model_name": "HBoxModel",
      "_view_count": null,
      "_view_module": "@jupyter-widgets/controls",
      "_view_module_version": "1.5.0",
      "_view_name": "HBoxView",
      "box_style": "",
      "children": [
       "IPY_MODEL_318284ecca2048b3ac6f4fdb62d62d66",
       "IPY_MODEL_65463115440c45d48e3367298a1c3173",
       "IPY_MODEL_17d1a7147abd43c98f9519a914028b3a"
      ],
      "layout": "IPY_MODEL_752b24a570d14bc198ab4fc44d35d39e"
     }
    },
    "318284ecca2048b3ac6f4fdb62d62d66": {
     "model_module": "@jupyter-widgets/controls",
     "model_module_version": "1.5.0",
     "model_name": "HTMLModel",
     "state": {
      "_dom_classes": [],
      "_model_module": "@jupyter-widgets/controls",
      "_model_module_version": "1.5.0",
      "_model_name": "HTMLModel",
      "_view_count": null,
      "_view_module": "@jupyter-widgets/controls",
      "_view_module_version": "1.5.0",
      "_view_name": "HTMLView",
      "description": "",
      "description_tooltip": null,
      "layout": "IPY_MODEL_ff2691c1fb714279bd03a28fda9252a6",
      "placeholder": "​",
      "style": "IPY_MODEL_c20de27ec6b4450dbb1a7df4f208a89c",
      "value": "Downloading https://raw.githubusercontent.com/stanfordnlp/stanza-resources/main/resources_1.2.2.json: "
     }
    },
    "4291c806ae8348508bd38933f56230af": {
     "model_module": "@jupyter-widgets/base",
     "model_module_version": "1.2.0",
     "model_name": "LayoutModel",
     "state": {
      "_model_module": "@jupyter-widgets/base",
      "_model_module_version": "1.2.0",
      "_model_name": "LayoutModel",
      "_view_count": null,
      "_view_module": "@jupyter-widgets/base",
      "_view_module_version": "1.2.0",
      "_view_name": "LayoutView",
      "align_content": null,
      "align_items": null,
      "align_self": null,
      "border": null,
      "bottom": null,
      "display": null,
      "flex": null,
      "flex_flow": null,
      "grid_area": null,
      "grid_auto_columns": null,
      "grid_auto_flow": null,
      "grid_auto_rows": null,
      "grid_column": null,
      "grid_gap": null,
      "grid_row": null,
      "grid_template_areas": null,
      "grid_template_columns": null,
      "grid_template_rows": null,
      "height": null,
      "justify_content": null,
      "justify_items": null,
      "left": null,
      "margin": null,
      "max_height": null,
      "max_width": null,
      "min_height": null,
      "min_width": null,
      "object_fit": null,
      "object_position": null,
      "order": null,
      "overflow": null,
      "overflow_x": null,
      "overflow_y": null,
      "padding": null,
      "right": null,
      "top": null,
      "visibility": null,
      "width": null
     }
    },
    "45efd8b1dc4e476e91c6c1b2d95a685e": {
     "model_module": "@jupyter-widgets/base",
     "model_module_version": "1.2.0",
     "model_name": "LayoutModel",
     "state": {
      "_model_module": "@jupyter-widgets/base",
      "_model_module_version": "1.2.0",
      "_model_name": "LayoutModel",
      "_view_count": null,
      "_view_module": "@jupyter-widgets/base",
      "_view_module_version": "1.2.0",
      "_view_name": "LayoutView",
      "align_content": null,
      "align_items": null,
      "align_self": null,
      "border": null,
      "bottom": null,
      "display": null,
      "flex": null,
      "flex_flow": null,
      "grid_area": null,
      "grid_auto_columns": null,
      "grid_auto_flow": null,
      "grid_auto_rows": null,
      "grid_column": null,
      "grid_gap": null,
      "grid_row": null,
      "grid_template_areas": null,
      "grid_template_columns": null,
      "grid_template_rows": null,
      "height": null,
      "justify_content": null,
      "justify_items": null,
      "left": null,
      "margin": null,
      "max_height": null,
      "max_width": null,
      "min_height": null,
      "min_width": null,
      "object_fit": null,
      "object_position": null,
      "order": null,
      "overflow": null,
      "overflow_x": null,
      "overflow_y": null,
      "padding": null,
      "right": null,
      "top": null,
      "visibility": null,
      "width": null
     }
    },
    "52862d780e66465db8dea872b33e912d": {
     "model_module": "@jupyter-widgets/controls",
     "model_module_version": "1.5.0",
     "model_name": "DescriptionStyleModel",
     "state": {
      "_model_module": "@jupyter-widgets/controls",
      "_model_module_version": "1.5.0",
      "_model_name": "DescriptionStyleModel",
      "_view_count": null,
      "_view_module": "@jupyter-widgets/base",
      "_view_module_version": "1.2.0",
      "_view_name": "StyleView",
      "description_width": ""
     }
    },
    "5fef8dc909834f8ea1cb2dc92dad353c": {
     "model_module": "@jupyter-widgets/controls",
     "model_module_version": "1.5.0",
     "model_name": "HTMLModel",
     "state": {
      "_dom_classes": [],
      "_model_module": "@jupyter-widgets/controls",
      "_model_module_version": "1.5.0",
      "_model_name": "HTMLModel",
      "_view_count": null,
      "_view_module": "@jupyter-widgets/controls",
      "_view_module_version": "1.5.0",
      "_view_name": "HTMLView",
      "description": "",
      "description_tooltip": null,
      "layout": "IPY_MODEL_02e0f9329403449abcec9511e0adf222",
      "placeholder": "​",
      "style": "IPY_MODEL_17aa0034e7e9403c8e0e23d10242a82e",
      "value": "Downloading http://nlp.stanford.edu/software/stanza/1.2.2/es/default.zip: 100%"
     }
    },
    "65463115440c45d48e3367298a1c3173": {
     "model_module": "@jupyter-widgets/controls",
     "model_module_version": "1.5.0",
     "model_name": "FloatProgressModel",
     "state": {
      "_dom_classes": [],
      "_model_module": "@jupyter-widgets/controls",
      "_model_module_version": "1.5.0",
      "_model_name": "FloatProgressModel",
      "_view_count": null,
      "_view_module": "@jupyter-widgets/controls",
      "_view_module_version": "1.5.0",
      "_view_name": "ProgressView",
      "bar_style": "success",
      "description": "",
      "description_tooltip": null,
      "layout": "IPY_MODEL_71bd5ed6192b4c99969afc81d3873292",
      "max": 24144,
      "min": 0,
      "orientation": "horizontal",
      "style": "IPY_MODEL_acea3df585d042c1a8ee0416cda3e283",
      "value": 24144
     }
    },
    "71bd5ed6192b4c99969afc81d3873292": {
     "model_module": "@jupyter-widgets/base",
     "model_module_version": "1.2.0",
     "model_name": "LayoutModel",
     "state": {
      "_model_module": "@jupyter-widgets/base",
      "_model_module_version": "1.2.0",
      "_model_name": "LayoutModel",
      "_view_count": null,
      "_view_module": "@jupyter-widgets/base",
      "_view_module_version": "1.2.0",
      "_view_name": "LayoutView",
      "align_content": null,
      "align_items": null,
      "align_self": null,
      "border": null,
      "bottom": null,
      "display": null,
      "flex": null,
      "flex_flow": null,
      "grid_area": null,
      "grid_auto_columns": null,
      "grid_auto_flow": null,
      "grid_auto_rows": null,
      "grid_column": null,
      "grid_gap": null,
      "grid_row": null,
      "grid_template_areas": null,
      "grid_template_columns": null,
      "grid_template_rows": null,
      "height": null,
      "justify_content": null,
      "justify_items": null,
      "left": null,
      "margin": null,
      "max_height": null,
      "max_width": null,
      "min_height": null,
      "min_width": null,
      "object_fit": null,
      "object_position": null,
      "order": null,
      "overflow": null,
      "overflow_x": null,
      "overflow_y": null,
      "padding": null,
      "right": null,
      "top": null,
      "visibility": null,
      "width": null
     }
    },
    "752b24a570d14bc198ab4fc44d35d39e": {
     "model_module": "@jupyter-widgets/base",
     "model_module_version": "1.2.0",
     "model_name": "LayoutModel",
     "state": {
      "_model_module": "@jupyter-widgets/base",
      "_model_module_version": "1.2.0",
      "_model_name": "LayoutModel",
      "_view_count": null,
      "_view_module": "@jupyter-widgets/base",
      "_view_module_version": "1.2.0",
      "_view_name": "LayoutView",
      "align_content": null,
      "align_items": null,
      "align_self": null,
      "border": null,
      "bottom": null,
      "display": null,
      "flex": null,
      "flex_flow": null,
      "grid_area": null,
      "grid_auto_columns": null,
      "grid_auto_flow": null,
      "grid_auto_rows": null,
      "grid_column": null,
      "grid_gap": null,
      "grid_row": null,
      "grid_template_areas": null,
      "grid_template_columns": null,
      "grid_template_rows": null,
      "height": null,
      "justify_content": null,
      "justify_items": null,
      "left": null,
      "margin": null,
      "max_height": null,
      "max_width": null,
      "min_height": null,
      "min_width": null,
      "object_fit": null,
      "object_position": null,
      "order": null,
      "overflow": null,
      "overflow_x": null,
      "overflow_y": null,
      "padding": null,
      "right": null,
      "top": null,
      "visibility": null,
      "width": null
     }
    },
    "8b9903ed978a4db2899f61f747011173": {
     "model_module": "@jupyter-widgets/base",
     "model_module_version": "1.2.0",
     "model_name": "LayoutModel",
     "state": {
      "_model_module": "@jupyter-widgets/base",
      "_model_module_version": "1.2.0",
      "_model_name": "LayoutModel",
      "_view_count": null,
      "_view_module": "@jupyter-widgets/base",
      "_view_module_version": "1.2.0",
      "_view_name": "LayoutView",
      "align_content": null,
      "align_items": null,
      "align_self": null,
      "border": null,
      "bottom": null,
      "display": null,
      "flex": null,
      "flex_flow": null,
      "grid_area": null,
      "grid_auto_columns": null,
      "grid_auto_flow": null,
      "grid_auto_rows": null,
      "grid_column": null,
      "grid_gap": null,
      "grid_row": null,
      "grid_template_areas": null,
      "grid_template_columns": null,
      "grid_template_rows": null,
      "height": null,
      "justify_content": null,
      "justify_items": null,
      "left": null,
      "margin": null,
      "max_height": null,
      "max_width": null,
      "min_height": null,
      "min_width": null,
      "object_fit": null,
      "object_position": null,
      "order": null,
      "overflow": null,
      "overflow_x": null,
      "overflow_y": null,
      "padding": null,
      "right": null,
      "top": null,
      "visibility": null,
      "width": null
     }
    },
    "9f8ac2f26e9648dd9a7befff9b6b1e10": {
     "model_module": "@jupyter-widgets/controls",
     "model_module_version": "1.5.0",
     "model_name": "DescriptionStyleModel",
     "state": {
      "_model_module": "@jupyter-widgets/controls",
      "_model_module_version": "1.5.0",
      "_model_name": "DescriptionStyleModel",
      "_view_count": null,
      "_view_module": "@jupyter-widgets/base",
      "_view_module_version": "1.2.0",
      "_view_name": "StyleView",
      "description_width": ""
     }
    },
    "a70c05f499214f229bc2216041af3bc6": {
     "model_module": "@jupyter-widgets/controls",
     "model_module_version": "1.5.0",
     "model_name": "FloatProgressModel",
     "state": {
      "_dom_classes": [],
      "_model_module": "@jupyter-widgets/controls",
      "_model_module_version": "1.5.0",
      "_model_name": "FloatProgressModel",
      "_view_count": null,
      "_view_module": "@jupyter-widgets/controls",
      "_view_module_version": "1.5.0",
      "_view_name": "ProgressView",
      "bar_style": "success",
      "description": "",
      "description_tooltip": null,
      "layout": "IPY_MODEL_4291c806ae8348508bd38933f56230af",
      "max": 565553347,
      "min": 0,
      "orientation": "horizontal",
      "style": "IPY_MODEL_1935d7a1124e4da0b4fe833eea463e1c",
      "value": 565553347
     }
    },
    "acea3df585d042c1a8ee0416cda3e283": {
     "model_module": "@jupyter-widgets/controls",
     "model_module_version": "1.5.0",
     "model_name": "ProgressStyleModel",
     "state": {
      "_model_module": "@jupyter-widgets/controls",
      "_model_module_version": "1.5.0",
      "_model_name": "ProgressStyleModel",
      "_view_count": null,
      "_view_module": "@jupyter-widgets/base",
      "_view_module_version": "1.2.0",
      "_view_name": "StyleView",
      "bar_color": null,
      "description_width": ""
     }
    },
    "c20de27ec6b4450dbb1a7df4f208a89c": {
     "model_module": "@jupyter-widgets/controls",
     "model_module_version": "1.5.0",
     "model_name": "DescriptionStyleModel",
     "state": {
      "_model_module": "@jupyter-widgets/controls",
      "_model_module_version": "1.5.0",
      "_model_name": "DescriptionStyleModel",
      "_view_count": null,
      "_view_module": "@jupyter-widgets/base",
      "_view_module_version": "1.2.0",
      "_view_name": "StyleView",
      "description_width": ""
     }
    },
    "d3f53a10da4e479e9cf8569a2cb922ae": {
     "model_module": "@jupyter-widgets/controls",
     "model_module_version": "1.5.0",
     "model_name": "HTMLModel",
     "state": {
      "_dom_classes": [],
      "_model_module": "@jupyter-widgets/controls",
      "_model_module_version": "1.5.0",
      "_model_name": "HTMLModel",
      "_view_count": null,
      "_view_module": "@jupyter-widgets/controls",
      "_view_module_version": "1.5.0",
      "_view_name": "HTMLView",
      "description": "",
      "description_tooltip": null,
      "layout": "IPY_MODEL_8b9903ed978a4db2899f61f747011173",
      "placeholder": "​",
      "style": "IPY_MODEL_9f8ac2f26e9648dd9a7befff9b6b1e10",
      "value": " 566M/566M [01:44&lt;00:00, 5.27MB/s]"
     }
    },
    "ff2691c1fb714279bd03a28fda9252a6": {
     "model_module": "@jupyter-widgets/base",
     "model_module_version": "1.2.0",
     "model_name": "LayoutModel",
     "state": {
      "_model_module": "@jupyter-widgets/base",
      "_model_module_version": "1.2.0",
      "_model_name": "LayoutModel",
      "_view_count": null,
      "_view_module": "@jupyter-widgets/base",
      "_view_module_version": "1.2.0",
      "_view_name": "LayoutView",
      "align_content": null,
      "align_items": null,
      "align_self": null,
      "border": null,
      "bottom": null,
      "display": null,
      "flex": null,
      "flex_flow": null,
      "grid_area": null,
      "grid_auto_columns": null,
      "grid_auto_flow": null,
      "grid_auto_rows": null,
      "grid_column": null,
      "grid_gap": null,
      "grid_row": null,
      "grid_template_areas": null,
      "grid_template_columns": null,
      "grid_template_rows": null,
      "height": null,
      "justify_content": null,
      "justify_items": null,
      "left": null,
      "margin": null,
      "max_height": null,
      "max_width": null,
      "min_height": null,
      "min_width": null,
      "object_fit": null,
      "object_position": null,
      "order": null,
      "overflow": null,
      "overflow_x": null,
      "overflow_y": null,
      "padding": null,
      "right": null,
      "top": null,
      "visibility": null,
      "width": null
     }
    }
   }
  }
 },
 "nbformat": 4,
 "nbformat_minor": 4
}
