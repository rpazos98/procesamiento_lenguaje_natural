{
 "cells": [
  {
   "cell_type": "markdown",
   "metadata": {
    "id": "sZd5yLnnHOK0"
   },
   "source": [
    "<img src=\"https://github.com/hernancontigiani/ceia_memorias_especializacion/raw/master/Figures/logoFIUBA.jpg\" width=\"500\" align=\"center\">\n",
    "\n",
    "\n",
    "# Procesamiento de lenguaje natural\n",
    "## Custom embedddings con Gensim\n",
    "\n"
   ]
  },
  {
   "cell_type": "markdown",
   "metadata": {
    "id": "vA7nqkumo9z9"
   },
   "source": [
    "### Objetivo\n",
    "El objetivo es utilizar documentos / corpus para crear embeddings de palabras basado en ese contexto. Se utilizará canciones de bandas para generar los embeddings, es decir, que los vectores tendrán la forma en función de como esa banda haya utilizado las palabras en sus canciones."
   ]
  },
  {
   "cell_type": "code",
   "execution_count": 5,
   "metadata": {
    "id": "lFToQs5FK5uZ"
   },
   "outputs": [
    {
     "name": "stdout",
     "output_type": "stream",
     "text": [
      "Package                       Version\n",
      "----------------------------- ------------\n",
      "absl-py                       1.4.0\n",
      "asttokens                     2.4.0\n",
      "astunparse                    1.6.3\n",
      "attrs                         23.1.0\n",
      "backcall                      0.2.0\n",
      "backports.functools-lru-cache 1.6.5\n",
      "cachetools                    5.3.1\n",
      "certifi                       2023.7.22\n",
      "charset-normalizer            3.2.0\n",
      "cmake                         3.27.4.1\n",
      "comm                          0.1.4\n",
      "contourpy                     1.1.0\n",
      "cycler                        0.11.0\n",
      "debugpy                       1.7.0\n",
      "decorator                     5.1.1\n",
      "emoji                         2.8.0\n",
      "exceptiongroup                1.1.3\n",
      "executing                     1.2.0\n",
      "fastjsonschema                2.18.0\n",
      "filelock                      3.12.3\n",
      "flatbuffers                   23.5.26\n",
      "fonttools                     4.42.1\n",
      "gast                          0.4.0\n",
      "gensim                        4.3.2\n",
      "google-auth                   2.22.0\n",
      "google-auth-oauthlib          1.0.0\n",
      "google-pasta                  0.2.0\n",
      "grpcio                        1.58.0\n",
      "h5py                          3.9.0\n",
      "idna                          3.4\n",
      "importlib-metadata            6.8.0\n",
      "importlib-resources           6.0.1\n",
      "ipykernel                     6.25.2\n",
      "ipython                       8.15.0\n",
      "jedi                          0.19.0\n",
      "Jinja2                        3.1.2\n",
      "joblib                        1.3.2\n",
      "jsonschema                    4.19.0\n",
      "jsonschema-specifications     2023.7.1\n",
      "jupyter_client                8.3.1\n",
      "jupyter_core                  5.3.1\n",
      "keras                         2.13.1\n",
      "kiwisolver                    1.4.5\n",
      "libclang                      16.0.6\n",
      "lit                           16.0.6\n",
      "Markdown                      3.4.4\n",
      "MarkupSafe                    2.1.3\n",
      "matplotlib                    3.7.2\n",
      "matplotlib-inline             0.1.6\n",
      "mpmath                        1.3.0\n",
      "nbformat                      5.9.2\n",
      "nest-asyncio                  1.5.6\n",
      "networkx                      3.1\n",
      "numpy                         1.24.3\n",
      "nvidia-cublas-cu11            11.10.3.66\n",
      "nvidia-cuda-cupti-cu11        11.7.101\n",
      "nvidia-cuda-nvrtc-cu11        11.7.99\n",
      "nvidia-cuda-runtime-cu11      11.7.99\n",
      "nvidia-cudnn-cu11             8.5.0.96\n",
      "nvidia-cufft-cu11             10.9.0.58\n",
      "nvidia-curand-cu11            10.2.10.91\n",
      "nvidia-cusolver-cu11          11.4.0.1\n",
      "nvidia-cusparse-cu11          11.7.4.91\n",
      "nvidia-nccl-cu11              2.14.3\n",
      "nvidia-nvtx-cu11              11.7.91\n",
      "oauthlib                      3.2.2\n",
      "opt-einsum                    3.3.0\n",
      "packaging                     23.1\n",
      "pandas                        2.1.0\n",
      "parso                         0.8.3\n",
      "pexpect                       4.8.0\n",
      "pickleshare                   0.7.5\n",
      "Pillow                        10.0.0\n",
      "pip                           23.2.1\n",
      "platformdirs                  3.10.0\n",
      "plotly                        5.16.1\n",
      "prompt-toolkit                3.0.39\n",
      "protobuf                      4.24.3\n",
      "psutil                        5.9.5\n",
      "ptyprocess                    0.7.0\n",
      "pure-eval                     0.2.2\n",
      "pyasn1                        0.5.0\n",
      "pyasn1-modules                0.3.0\n",
      "Pygments                      2.16.1\n",
      "pyparsing                     3.0.9\n",
      "python-dateutil               2.8.2\n",
      "pytz                          2023.3.post1\n",
      "pyzmq                         25.1.1\n",
      "referencing                   0.30.2\n",
      "requests                      2.31.0\n",
      "requests-oauthlib             1.3.1\n",
      "rpds-py                       0.10.2\n",
      "rsa                           4.9\n",
      "scikit-learn                  1.3.0\n",
      "scipy                         1.11.2\n",
      "seaborn                       0.12.2\n",
      "setuptools                    68.1.2\n",
      "six                           1.16.0\n",
      "smart-open                    6.4.0\n",
      "stack-data                    0.6.2\n",
      "stanza                        1.5.1\n",
      "sympy                         1.12\n",
      "tenacity                      8.2.3\n",
      "tensorboard                   2.13.0\n",
      "tensorboard-data-server       0.7.1\n",
      "tensorflow                    2.13.0\n",
      "tensorflow-estimator          2.13.0\n",
      "tensorflow-io-gcs-filesystem  0.34.0\n",
      "termcolor                     2.3.0\n",
      "threadpoolctl                 3.2.0\n",
      "torch                         2.0.1\n",
      "tornado                       6.3.3\n",
      "tqdm                          4.66.1\n",
      "traitlets                     5.9.0\n",
      "triton                        2.0.0\n",
      "typing_extensions             4.7.1\n",
      "tzdata                        2023.3\n",
      "urllib3                       1.26.16\n",
      "wcwidth                       0.2.6\n",
      "Werkzeug                      2.3.7\n",
      "wheel                         0.41.2\n",
      "wrapt                         1.15.0\n",
      "zipp                          3.16.2\n",
      "Note: you may need to restart the kernel to use updated packages.\n"
     ]
    }
   ],
   "source": [
    "%pip list\n",
    "\n",
    "import pandas as pd\n",
    "import matplotlib.pyplot as plt\n",
    "import seaborn as sns\n",
    "\n",
    "import multiprocessing\n",
    "from gensim.models import Word2Vec"
   ]
  },
  {
   "cell_type": "markdown",
   "metadata": {
    "id": "g07zJxG7H9vG"
   },
   "source": [
    "### Datos\n",
    "Utilizaremos como dataset canciones de bandas de habla inglesa."
   ]
  },
  {
   "cell_type": "code",
   "execution_count": 6,
   "metadata": {
    "id": "l7z4CSBfpR3X"
   },
   "outputs": [
    {
     "name": "stdout",
     "output_type": "stream",
     "text": [
      "--2023-09-20 19:08:18--  http://songs_dataset.zip/\n",
      "Resolving songs_dataset.zip (songs_dataset.zip)... failed: Name or service not known.\n",
      "wget: unable to resolve host address ‘songs_dataset.zip’\n",
      "--2023-09-20 19:08:19--  https://github.com/FIUBA-Posgrado-Inteligencia-Artificial/procesamiento_lenguaje_natural/raw/main/datasets/songs_dataset.zip\n",
      "Resolving github.com (github.com)... 20.201.28.151\n",
      "Connecting to github.com (github.com)|20.201.28.151|:443... connected.\n",
      "HTTP request sent, awaiting response... 302 Found\n",
      "Location: https://raw.githubusercontent.com/FIUBA-Posgrado-Inteligencia-Artificial/procesamiento_lenguaje_natural/main/datasets/songs_dataset.zip [following]\n",
      "--2023-09-20 19:08:19--  https://raw.githubusercontent.com/FIUBA-Posgrado-Inteligencia-Artificial/procesamiento_lenguaje_natural/main/datasets/songs_dataset.zip\n",
      "Resolving raw.githubusercontent.com (raw.githubusercontent.com)... 185.199.110.133, 185.199.108.133, 185.199.109.133, ...\n",
      "Connecting to raw.githubusercontent.com (raw.githubusercontent.com)|185.199.110.133|:443... connected.\n",
      "HTTP request sent, awaiting response... 200 OK\n",
      "Length: 2075036 (2.0M) [application/zip]\n",
      "Saving to: ‘songs_dataset.zip’\n",
      "\n",
      "songs_dataset.zip   100%[===================>]   1.98M  10.6MB/s    in 0.2s    \n",
      "\n",
      "2023-09-20 19:08:20 (10.6 MB/s) - ‘songs_dataset.zip’ saved [2075036/2075036]\n",
      "\n",
      "FINISHED --2023-09-20 19:08:20--\n",
      "Total wall clock time: 1.5s\n",
      "Downloaded: 1 files, 2.0M in 0.2s (10.6 MB/s)\n"
     ]
    }
   ],
   "source": [
    "# Descargar la carpeta de dataset\n",
    "import os\n",
    "import platform\n",
    "if os.access('./songs_dataset', os.F_OK) is False:\n",
    "    if os.access('songs_dataset.zip', os.F_OK) is False:\n",
    "        if platform.system() == 'Windows':\n",
    "            !curl https://raw.githubusercontent.com/FIUBA-Posgrado-Inteligencia-Artificial/procesamiento_lenguaje_natural/main/datasets/songs_dataset.zip -o songs_dataset.zip\n",
    "        else:\n",
    "            !wget songs_dataset.zip https://github.com/FIUBA-Posgrado-Inteligencia-Artificial/procesamiento_lenguaje_natural/raw/main/datasets/songs_dataset.zip\n",
    "    !unzip -q songs_dataset.zip\n",
    "else:\n",
    "    print(\"El dataset ya se encuentra descargado\")"
   ]
  },
  {
   "cell_type": "code",
   "execution_count": 7,
   "metadata": {
    "id": "mysGrIw9ljC2"
   },
   "outputs": [
    {
     "data": {
      "text/plain": [
       "['dickinson.txt',\n",
       " 'blink-182.txt',\n",
       " 'britney-spears.txt',\n",
       " 'adele.txt',\n",
       " 'michael-jackson.txt',\n",
       " 'dj-khaled.txt',\n",
       " 'alicia-keys.txt',\n",
       " 'bob-dylan.txt',\n",
       " 'lady-gaga.txt',\n",
       " 'r-kelly.txt',\n",
       " 'missy-elliott.txt',\n",
       " 'joni-mitchell.txt',\n",
       " 'ludacris.txt',\n",
       " 'jimi-hendrix.txt',\n",
       " 'johnny-cash.txt',\n",
       " 'bjork.txt',\n",
       " 'bruce-springsteen.txt',\n",
       " 'lorde.txt',\n",
       " 'nickelback.txt',\n",
       " 'nirvana.txt',\n",
       " 'disney.txt',\n",
       " 'nicki-minaj.txt',\n",
       " 'nursery_rhymes.txt',\n",
       " 'paul-simon.txt',\n",
       " 'janisjoplin.txt',\n",
       " 'patti-smith.txt',\n",
       " 'cake.txt',\n",
       " 'beatles.txt',\n",
       " 'leonard-cohen.txt',\n",
       " 'rihanna.txt',\n",
       " 'bruno-mars.txt',\n",
       " 'amy-winehouse.txt',\n",
       " 'bieber.txt',\n",
       " 'notorious-big.txt',\n",
       " 'kanye.txt',\n",
       " 'drake.txt',\n",
       " 'lil-wayne.txt',\n",
       " 'kanye-west.txt',\n",
       " 'dolly-parton.txt',\n",
       " 'bob-marley.txt',\n",
       " 'notorious_big.txt',\n",
       " 'radiohead.txt',\n",
       " 'dr-seuss.txt',\n",
       " 'eminem.txt',\n",
       " 'lin-manuel-miranda.txt',\n",
       " 'al-green.txt',\n",
       " 'Kanye_West.txt',\n",
       " 'Lil_Wayne.txt',\n",
       " 'prince.txt']"
      ]
     },
     "execution_count": 7,
     "metadata": {},
     "output_type": "execute_result"
    }
   ],
   "source": [
    "# Posibles bandas\n",
    "os.listdir(\"./songs_dataset/\")"
   ]
  },
  {
   "cell_type": "code",
   "execution_count": 8,
   "metadata": {
    "id": "ticoqYD1Z3I7"
   },
   "outputs": [
    {
     "name": "stderr",
     "output_type": "stream",
     "text": [
      "/tmp/ipykernel_44602/9091060.py:2: ParserWarning: Falling back to the 'python' engine because the 'c' engine does not support regex separators (separators > 1 char and different from '\\s+' are interpreted as regex); you can avoid this warning by specifying engine='python'.\n",
      "  df = pd.read_csv('songs_dataset/lin-manuel-miranda.txt', sep='/n', header=None)\n"
     ]
    },
    {
     "data": {
      "text/html": [
       "<div>\n",
       "<style scoped>\n",
       "    .dataframe tbody tr th:only-of-type {\n",
       "        vertical-align: middle;\n",
       "    }\n",
       "\n",
       "    .dataframe tbody tr th {\n",
       "        vertical-align: top;\n",
       "    }\n",
       "\n",
       "    .dataframe thead th {\n",
       "        text-align: right;\n",
       "    }\n",
       "</style>\n",
       "<table border=\"1\" class=\"dataframe\">\n",
       "  <thead>\n",
       "    <tr style=\"text-align: right;\">\n",
       "      <th></th>\n",
       "      <th>0</th>\n",
       "    </tr>\n",
       "  </thead>\n",
       "  <tbody>\n",
       "    <tr>\n",
       "      <th>0</th>\n",
       "      <td>How does a bastard, orphan, son of a whore</td>\n",
       "    </tr>\n",
       "    <tr>\n",
       "      <th>1</th>\n",
       "      <td>And a Scotsman, dropped in the middle of a for...</td>\n",
       "    </tr>\n",
       "    <tr>\n",
       "      <th>2</th>\n",
       "      <td>In squalor, grow up to be a hero and a scholar...</td>\n",
       "    </tr>\n",
       "    <tr>\n",
       "      <th>3</th>\n",
       "      <td>Got a lot farther by working a lot harder</td>\n",
       "    </tr>\n",
       "    <tr>\n",
       "      <th>4</th>\n",
       "      <td>By being a lot smarter By being a self-starter</td>\n",
       "    </tr>\n",
       "  </tbody>\n",
       "</table>\n",
       "</div>"
      ],
      "text/plain": [
       "                                                   0\n",
       "0         How does a bastard, orphan, son of a whore\n",
       "1  And a Scotsman, dropped in the middle of a for...\n",
       "2  In squalor, grow up to be a hero and a scholar...\n",
       "3          Got a lot farther by working a lot harder\n",
       "4     By being a lot smarter By being a self-starter"
      ]
     },
     "execution_count": 8,
     "metadata": {},
     "output_type": "execute_result"
    }
   ],
   "source": [
    "# Armar el dataset utilizando salto de línea para separar las oraciones/docs\n",
    "df = pd.read_csv('songs_dataset/lin-manuel-miranda.txt', sep='/n', header=None)\n",
    "df.head()"
   ]
  },
  {
   "cell_type": "code",
   "execution_count": 9,
   "metadata": {
    "id": "LEpKubK9XzXN"
   },
   "outputs": [
    {
     "name": "stdout",
     "output_type": "stream",
     "text": [
      "Cantidad de documentos: 1084\n"
     ]
    }
   ],
   "source": [
    "print(\"Cantidad de documentos:\", df.shape[0])"
   ]
  },
  {
   "cell_type": "markdown",
   "metadata": {
    "id": "ab94qaFlrA1G"
   },
   "source": [
    "### 1 - Preprocesamiento"
   ]
  },
  {
   "cell_type": "code",
   "execution_count": 10,
   "metadata": {
    "id": "rIsmMWmjrDHd"
   },
   "outputs": [
    {
     "name": "stderr",
     "output_type": "stream",
     "text": [
      "2023-09-20 19:08:21.048882: I tensorflow/core/util/port.cc:110] oneDNN custom operations are on. You may see slightly different numerical results due to floating-point round-off errors from different computation orders. To turn them off, set the environment variable `TF_ENABLE_ONEDNN_OPTS=0`.\n",
      "2023-09-20 19:08:21.074568: I tensorflow/tsl/cuda/cudart_stub.cc:28] Could not find cuda drivers on your machine, GPU will not be used.\n",
      "2023-09-20 19:08:21.235344: I tensorflow/tsl/cuda/cudart_stub.cc:28] Could not find cuda drivers on your machine, GPU will not be used.\n",
      "2023-09-20 19:08:21.236525: I tensorflow/core/platform/cpu_feature_guard.cc:182] This TensorFlow binary is optimized to use available CPU instructions in performance-critical operations.\n",
      "To enable the following instructions: AVX2 AVX512F AVX512_VNNI FMA, in other operations, rebuild TensorFlow with the appropriate compiler flags.\n",
      "2023-09-20 19:08:22.024966: W tensorflow/compiler/tf2tensorrt/utils/py_utils.cc:38] TF-TRT Warning: Could not find TensorRT\n"
     ]
    }
   ],
   "source": [
    "from keras.preprocessing.text import text_to_word_sequence\n",
    "\n",
    "sentence_tokens = []\n",
    "# Recorrer todas las filas y transformar las oraciones\n",
    "# en una secuencia de palabras (esto podría realizarse con NLTK o spaCy también)\n",
    "for _, row in df[:None].iterrows():\n",
    "    sentence_tokens.append(text_to_word_sequence(row[0]))"
   ]
  },
  {
   "cell_type": "code",
   "execution_count": 11,
   "metadata": {
    "id": "CHepi_DGrbhq"
   },
   "outputs": [
    {
     "data": {
      "text/plain": [
       "[['how', 'does', 'a', 'bastard', 'orphan', 'son', 'of', 'a', 'whore'],\n",
       " ['and',\n",
       "  'a',\n",
       "  'scotsman',\n",
       "  'dropped',\n",
       "  'in',\n",
       "  'the',\n",
       "  'middle',\n",
       "  'of',\n",
       "  'a',\n",
       "  'forgotten',\n",
       "  'spot',\n",
       "  'in',\n",
       "  'the',\n",
       "  'caribbean',\n",
       "  'by',\n",
       "  'providence',\n",
       "  'impoverished']]"
      ]
     },
     "execution_count": 11,
     "metadata": {},
     "output_type": "execute_result"
    }
   ],
   "source": [
    "# Demos un vistazo\n",
    "sentence_tokens[:2]"
   ]
  },
  {
   "cell_type": "markdown",
   "metadata": {
    "id": "BaXV6nlHr5Aa"
   },
   "source": [
    "### 2 - Crear los vectores (word2vec)"
   ]
  },
  {
   "cell_type": "code",
   "execution_count": 12,
   "metadata": {
    "id": "OSb0v7h8r7hK"
   },
   "outputs": [],
   "source": [
    "from gensim.models.callbacks import CallbackAny2Vec\n",
    "# Durante el entrenamiento gensim por defecto no informa el \"loss\" en cada época\n",
    "# Sobrecargamos el callback para poder tener esta información\n",
    "class callback(CallbackAny2Vec):\n",
    "    \"\"\"\n",
    "    Callback to print loss after each epoch\n",
    "    \"\"\"\n",
    "    def __init__(self):\n",
    "        self.epoch = 0\n",
    "\n",
    "    def on_epoch_end(self, model):\n",
    "        loss = model.get_latest_training_loss()\n",
    "        if self.epoch == 0:\n",
    "            print('Loss after epoch {}: {}'.format(self.epoch, loss))\n",
    "        else:\n",
    "            print('Loss after epoch {}: {}'.format(self.epoch, loss- self.loss_previous_step))\n",
    "        self.epoch += 1\n",
    "        self.loss_previous_step = loss"
   ]
  },
  {
   "cell_type": "code",
   "execution_count": 13,
   "metadata": {
    "id": "i0wnDdv9sJ47"
   },
   "outputs": [],
   "source": [
    "# Crearmos el modelo generador de vectores\n",
    "# En este caso utilizaremos la estructura modelo Skipgram\n",
    "w2v_model = Word2Vec(min_count=5,    # frecuencia mínima de palabra para incluirla en el vocabulario\n",
    "                     window=2,       # cant de palabras antes y desp de la predicha\n",
    "                     vector_size=300,       # dimensionalidad de los vectores \n",
    "                     negative=20,    # cantidad de negative samples... 0 es no se usa\n",
    "                     workers=1,      # si tienen más cores pueden cambiar este valor\n",
    "                     sg=1)           # modelo 0:CBOW  1:skipgram"
   ]
  },
  {
   "cell_type": "code",
   "execution_count": 14,
   "metadata": {
    "id": "5lTt8wErsf17"
   },
   "outputs": [],
   "source": [
    "# Obtener el vocabulario con los tokens\n",
    "w2v_model.build_vocab(sentence_tokens)"
   ]
  },
  {
   "cell_type": "code",
   "execution_count": 15,
   "metadata": {
    "id": "TNc9qt4os5AT"
   },
   "outputs": [
    {
     "name": "stdout",
     "output_type": "stream",
     "text": [
      "Cantidad de docs en el corpus: 1084\n"
     ]
    }
   ],
   "source": [
    "# Cantidad de filas/docs encontradas en el corpus\n",
    "print(\"Cantidad de docs en el corpus:\", w2v_model.corpus_count)"
   ]
  },
  {
   "cell_type": "code",
   "execution_count": 16,
   "metadata": {
    "id": "idw9cHF3tSMl"
   },
   "outputs": [
    {
     "name": "stdout",
     "output_type": "stream",
     "text": [
      "Cantidad de words distintas en el corpus: 377\n"
     ]
    }
   ],
   "source": [
    "# Cantidad de words encontradas en el corpus\n",
    "print(\"Cantidad de words distintas en el corpus:\", len(w2v_model.wv.index_to_key))"
   ]
  },
  {
   "cell_type": "markdown",
   "metadata": {
    "id": "fC9mZ8DPk-UC"
   },
   "source": [
    "### 3 - Entrenar embeddings"
   ]
  },
  {
   "cell_type": "code",
   "execution_count": 17,
   "metadata": {
    "id": "QSp-x0PAsq56"
   },
   "outputs": [
    {
     "name": "stdout",
     "output_type": "stream",
     "text": [
      "Loss after epoch 0: 106246.171875\n",
      "Loss after epoch 1: 48196.25\n",
      "Loss after epoch 2: 47919.015625\n",
      "Loss after epoch 3: 47397.5\n",
      "Loss after epoch 4: 46953.875\n",
      "Loss after epoch 5: 46654.125\n",
      "Loss after epoch 6: 46838.78125\n",
      "Loss after epoch 7: 46243.65625\n",
      "Loss after epoch 8: 45127.15625\n",
      "Loss after epoch 9: 44853.65625\n",
      "Loss after epoch 10: 44954.0625\n",
      "Loss after epoch 11: 44544.0\n",
      "Loss after epoch 12: 43379.5\n",
      "Loss after epoch 13: 42164.6875\n",
      "Loss after epoch 14: 42546.4375\n",
      "Loss after epoch 15: 42176.3125\n",
      "Loss after epoch 16: 42370.125\n",
      "Loss after epoch 17: 42268.0\n",
      "Loss after epoch 18: 42837.375\n",
      "Loss after epoch 19: 42812.6875\n"
     ]
    },
    {
     "data": {
      "text/plain": [
       "(105712, 225240)"
      ]
     },
     "execution_count": 17,
     "metadata": {},
     "output_type": "execute_result"
    }
   ],
   "source": [
    "# Entrenamos el modelo generador de vectores\n",
    "# Utilizamos nuestro callback\n",
    "w2v_model.train(sentence_tokens,\n",
    "                 total_examples=w2v_model.corpus_count,\n",
    "                 epochs=20,\n",
    "                 compute_loss = True,\n",
    "                 callbacks=[callback()]\n",
    "                 )"
   ]
  },
  {
   "cell_type": "markdown",
   "metadata": {
    "id": "ddT9NVuNlCAe"
   },
   "source": [
    "### 4 - Ensayar"
   ]
  },
  {
   "cell_type": "markdown",
   "metadata": {},
   "source": [
    "Para poder entender el siguiente analisis es necesario tener un contexto de la trama del musical en cuestion\n",
    "\n",
    "**Acto 1**:\n",
    "\n",
    "El musical comienza con Alexander Hamilton, un inmigrante caribeño, llegando a Nueva York en 1776. Hamilton, un joven ambicioso, se une al ejército revolucionario de George Washington durante la Guerra de Independencia de los Estados Unidos. Rápidamente se destaca por su inteligencia y se convierte en el ayudante de Washington.\n",
    "\n",
    "Durante este tiempo, Hamilton se encuentra con varios personajes clave, incluyendo a Aaron Burr, quien se convierte en su amigo y rival. También conoce a las hermanas Schuyler: Eliza, con quien se casa, y Angelica, con quien tiene una conexión intensa pero no puede estar con ella debido a su compromiso con Eliza.\n",
    "\n",
    "Hamilton juega un papel importante en la victoria de los Estados Unidos en la guerra y se convierte en uno de los autores de los \"Artículos de la Confederación\", que establecen la base para el gobierno de la nueva nación.\n",
    "\n",
    "**Acto 2**:\n",
    "\n",
    "El Acto 2 se centra en los primeros años de los Estados Unidos como una nación independiente y en la creación de la Constitución. Hamilton desempeña un papel fundamental en la redacción de la Constitución y en la promoción de su adopción a través de una serie de ensayos conocidos como \"Los Federalistas\".\n",
    "\n",
    "Thomas Jefferson regresa a los Estados Unidos desde Francia y se convierte en el Secretario de Estado. Jefferson y Hamilton tienen visiones políticas opuestas, lo que lleva a intensos enfrentamientos.\n",
    "\n",
    "El Acto 2 también explora la relación de Hamilton con su familia y los desafíos que enfrenta, incluyendo el escándalo de su affair con Maria Reynolds, que pone en peligro su reputación.\n",
    "\n",
    "**Climax y Trágico Final**:\n",
    "\n",
    "La rivalidad política entre Hamilton y Burr alcanza su punto culminante en un duelo fatal en 1804. Hamilton muere a manos de Burr, lo que pone fin a su historia.\n",
    "\n",
    "La obra concluye con un epílogo que destaca el legado de Hamilton y cómo su influencia perdura en la historia de los Estados Unidos.\n",
    "\n",
    "\"Hamilton\" es un musical lleno de música hip-hop y ritmos contemporáneos que cuenta la historia de uno de los Padres Fundadores de los Estados Unidos a través de una lente moderna y diversa. Explora temas de ambición, legado, amor y traición en el contexto de la formación de una nación. La obra ha sido elogiada por su innovación y ha dejado una marca significativa en el mundo del teatro y la cultura popular."
   ]
  },
  {
   "cell_type": "code",
   "execution_count": 18,
   "metadata": {
    "id": "6cHN9xGLuPEm"
   },
   "outputs": [
    {
     "name": "stdout",
     "output_type": "stream",
     "text": [
      "[('name', 0.9665425419807434), ('alexander', 0.9294832944869995), ('back', 0.9149143099784851), ('hand', 0.906218945980072), ('same', 0.8789875507354736), ('mean', 0.8750167489051819), ('land', 0.872408390045166), ('man', 0.8719578981399536), (\"what's\", 0.8718845248222351), ('right', 0.8706536293029785)]\n",
      "[('take', -0.33821240067481995), ('shot', -0.3517768085002899), ('time', -0.354216605424881), ('whoa', -0.35579976439476013), ('rise', -0.37545156478881836), (\"it's\", -0.3827356994152069), ('takes', -0.38384342193603516), ('scrappy', -0.38751041889190674), ('up', -0.3887084126472473), ('throwing', -0.3982303738594055)]\n"
     ]
    }
   ],
   "source": [
    "word = \"hamilton\"\n",
    "print(w2v_model.wv.most_similar(positive=[word], topn=10))\n",
    "print(w2v_model.wv.most_similar(negative=[word], topn=10))"
   ]
  },
  {
   "cell_type": "markdown",
   "metadata": {},
   "source": [
    "Positivas: las primeras palabras estas asociadas a la primera cancion del musical, donde el personaje repite \"my name is alexander hamilton\" varias veces. La pregunta \"what's right\" es una que se le hace el personaje a lo largo de todo el musical, por lo que tiene sentido que este ascociado a su nombre.\n",
    "\n",
    "Negativas: parece que la mayoria son palabras que se usan poco a lo largo del musical, porque aparecen para los otros personajes tambien"
   ]
  },
  {
   "cell_type": "code",
   "execution_count": 19,
   "metadata": {},
   "outputs": [
    {
     "name": "stdout",
     "output_type": "stream",
     "text": [
      "[('aaron', 0.9756542444229126), ('nothing', 0.9708666801452637), ('talk', 0.9703153371810913), ('against', 0.9650269150733948), ('sure', 0.9645829796791077), ('sir', 0.9633787870407104), ('stand', 0.9591177701950073), ('america', 0.958432137966156), ('yes', 0.9581354856491089), ('check', 0.9575738906860352)]\n",
      "[('hey', -0.4454285800457001), ('yo', -0.4465112090110779), ('country', -0.45028606057167053), ('just', -0.48148372769355774), ('throwing', -0.4847804009914398), ('away', -0.48649197816848755), ('scrappy', -0.49305227398872375), ('young', -0.4971821904182434), (\"i'm\", -0.5065277218818665), ('like', -0.5161053538322449)]\n"
     ]
    }
   ],
   "source": [
    "word = \"burr\"\n",
    "print(w2v_model.wv.most_similar(positive=[word], topn=10))\n",
    "print(w2v_model.wv.most_similar(negative=[word], topn=10))"
   ]
  },
  {
   "cell_type": "markdown",
   "metadata": {},
   "source": [
    "Positivas: el personaje de Aaron Burr a lo largo de todo el musical enfatiza como el nunca quiere decir nada (\"nothing\") ni estar en contra (\"against\") de nada.\n",
    "\n",
    "Negativas: otra vez no parece tener una relacion con el personaje especificamente."
   ]
  },
  {
   "cell_type": "code",
   "execution_count": 20,
   "metadata": {},
   "outputs": [
    {
     "name": "stdout",
     "output_type": "stream",
     "text": [
      "[('tell', 0.9908677935600281), (\"won't\", 0.9899544715881348), ('lead', 0.9895618557929993), ('why', 0.9891394376754761), ('financial', 0.989048957824707), ('turns', 0.9883782267570496), ('eye', 0.9881983995437622), ('many', 0.9875673651695251), ('does', 0.9874441027641296), (\"i've\", 0.9870262145996094)]\n",
      "[('takes', -0.5780946612358093), ('hey', -0.5923123955726624), ('wait', -0.5972515940666199), ('scrappy', -0.6026186347007751), ('yo', -0.605708122253418), ('away', -0.6103274822235107), ('young', -0.6114529371261597), ('country', -0.6148903965950012), ('shot', -0.6157116889953613), ('throwing', -0.6171424388885498)]\n"
     ]
    }
   ],
   "source": [
    "word = \"eliza\"\n",
    "print(w2v_model.wv.most_similar(positive=[word], topn=10))\n",
    "print(w2v_model.wv.most_similar(negative=[word], topn=10))"
   ]
  },
  {
   "cell_type": "markdown",
   "metadata": {},
   "source": [
    "Positivas: Eliza es un personaje al que siempre se le esta escondiendo algo (la infidelidad de su marido con su hermana y con otra mujer, los duelos que terminan con la vida de su hijo y marido, etc). Tiene mucho sentido que se asocian las palabras \"won't tell\" con este personaje. Tambien es un personaje ligado al ascenso social, por lo que es lógico que el concepto de lo financiero (\"financial\") este relacionado con ella.\n",
    "\n",
    "Negativas: mismo escenario, parece que son palabras que no estan muy asociadas a ningun personaje en particular"
   ]
  },
  {
   "cell_type": "code",
   "execution_count": 21,
   "metadata": {},
   "outputs": [
    {
     "name": "stdout",
     "output_type": "stream",
     "text": [
      "[('she', 0.9880316853523254), ('ay', 0.9781311750411987), ('france', 0.9719031453132629), ('where', 0.968976616859436), ('on', 0.9686877131462097), ('some', 0.9649363160133362), (\"y'all\", 0.9577064514160156), ('mother', 0.9572803974151611), ('ha', 0.957254946231842), ('from', 0.9568611979484558)]\n",
      "[('throwing', -0.4863385260105133), ('away', -0.49111002683639526), ('wait', -0.5073025822639465), ('not', -0.5104750990867615), ('shot', -0.5163512229919434), ('am', -0.520524263381958), ('scrappy', -0.5259639024734497), ('young', -0.5357979536056519), ('takes', -0.5379138588905334), ('just', -0.5411667823791504)]\n"
     ]
    }
   ],
   "source": [
    "word = \"angelica\"\n",
    "print(w2v_model.wv.most_similar(positive=[word], topn=10))\n",
    "print(w2v_model.wv.most_similar(negative=[word], topn=10))"
   ]
  },
  {
   "cell_type": "markdown",
   "metadata": {},
   "source": [
    "Positivas: Angelica se muda a Francia a la mitad del segundo acto.\n",
    "\n",
    "Negativas: mismo escenario, parece que son palabras que no estan muy asociadas a ningun personaje en particular"
   ]
  },
  {
   "cell_type": "markdown",
   "metadata": {
    "id": "_g8UVWe6lFmh"
   },
   "source": [
    "### 5 - Visualizar agrupación de vectores"
   ]
  },
  {
   "cell_type": "code",
   "execution_count": 22,
   "metadata": {
    "id": "pDxEVXAivjr9"
   },
   "outputs": [],
   "source": [
    "from sklearn.decomposition import IncrementalPCA    \n",
    "from sklearn.manifold import TSNE                   \n",
    "import numpy as np                                  \n",
    "\n",
    "def reduce_dimensions(model, num_dimensions = 2 ):\n",
    "     \n",
    "    vectors = np.asarray(model.wv.vectors)\n",
    "    labels = np.asarray(model.wv.index_to_key)  \n",
    "\n",
    "    tsne = TSNE(n_components=num_dimensions, random_state=0)\n",
    "    vectors = tsne.fit_transform(vectors)\n",
    "\n",
    "    return vectors, labels"
   ]
  },
  {
   "cell_type": "code",
   "execution_count": 23,
   "metadata": {
    "id": "NCCXtDpcugmd"
   },
   "outputs": [],
   "source": [
    "# Graficar los embedddings en 2D\n",
    "import plotly.graph_objects as go\n",
    "import plotly.express as px\n",
    "\n",
    "vecs, labels = reduce_dimensions(w2v_model)\n",
    "\n",
    "MAX_WORDS=1000\n",
    "fig = px.scatter(x=vecs[:MAX_WORDS,0], y=vecs[:MAX_WORDS,1], text=labels[:MAX_WORDS])\n",
    "# fig.show(renderer=\"colab\") # esto para plotly en colab"
   ]
  },
  {
   "cell_type": "code",
   "execution_count": 24,
   "metadata": {},
   "outputs": [
    {
     "data": {
      "application/vnd.plotly.v1+json": {
       "config": {
        "plotlyServerURL": "https://plot.ly"
       },
       "data": [
        {
         "hovertemplate": "x=%{x}<br>y=%{y}<br>z=%{z}<br>text=%{text}<extra></extra>",
         "legendgroup": "",
         "marker": {
          "color": "#636efa",
          "size": 2,
          "symbol": "circle"
         },
         "mode": "markers+text",
         "name": "",
         "scene": "scene",
         "showlegend": false,
         "text": [
          "the",
          "a",
          "i",
          "you",
          "and",
          "to",
          "for",
          "i'm",
          "it",
          "my",
          "in",
          "of",
          "we",
          "shot",
          "your",
          "wait",
          "he",
          "not",
          "me",
          "is",
          "up",
          "have",
          "be",
          "with",
          "away",
          "that",
          "time",
          "when",
          "throwing",
          "do",
          "am",
          "rise",
          "this",
          "on",
          "but",
          "if",
          "his",
          "can",
          "are",
          "what",
          "like",
          "new",
          "gonna",
          "hamilton",
          "him",
          "get",
          "whoa",
          "know",
          "just",
          "man",
          "it's",
          "they",
          "take",
          "our",
          "will",
          "was",
          "yo",
          "no",
          "every",
          "so",
          "sir",
          "see",
          "how",
          "or",
          "never",
          "all",
          "an",
          "one",
          "alexander",
          "takes",
          "hey",
          "got",
          "by",
          "don't",
          "said",
          "say",
          "york",
          "'em",
          "then",
          "from",
          "oh",
          "you're",
          "as",
          "out",
          "us",
          "name",
          "these",
          "we're",
          "down",
          "back",
          "where",
          "at",
          "there's",
          "were",
          "country",
          "let's",
          "young",
          "has",
          "some",
          "scrappy",
          "hungry",
          "wrote",
          "ya",
          "more",
          "let",
          "burr",
          "world",
          "who",
          "gotta",
          "life",
          "lafayette",
          "make",
          "right",
          "number",
          "she",
          "been",
          "free",
          "lot",
          "mine",
          "need",
          "i'll",
          "come",
          "two",
          "moment",
          "colonies",
          "what's",
          "without",
          "into",
          "goodbye",
          "land",
          "first",
          "died",
          "father",
          "last",
          "tell",
          "their",
          "bed",
          "there",
          "ten",
          "letter",
          "would",
          "them",
          "mother",
          "now",
          "burn",
          "willing",
          "something",
          "that's",
          "look",
          "go",
          "nation",
          "face",
          "left",
          "yes",
          "place",
          "keep",
          "helpless",
          "things",
          "way",
          "done",
          "he's",
          "another",
          "many",
          "only",
          "stand",
          "mister",
          "wanna",
          "president",
          "hand",
          "revolution",
          "lose",
          "past",
          "die",
          "dead",
          "while",
          "eyes",
          "around",
          "seven",
          "spot",
          "being",
          "side",
          "put",
          "nothing",
          "we'll",
          "alex",
          "show",
          "talk",
          "fight",
          "between",
          "france",
          "future",
          "reason",
          "reach",
          "four",
          "well",
          "word",
          "six",
          "came",
          "three",
          "doesn't",
          "'cause",
          "same",
          "prove",
          "before",
          "george",
          "love",
          "climb",
          "count",
          "ooh",
          "heart",
          "promise",
          "death",
          "jefferson",
          "give",
          "still",
          "sister",
          "teach",
          "heard",
          "those",
          "until",
          "book",
          "too",
          "against",
          "drop",
          "position",
          "situation",
          "good",
          "orphan",
          "learned",
          "home",
          "ship",
          "could",
          "war",
          "can't",
          "hurricane",
          "thought",
          "who's",
          "better",
          "went",
          "inside",
          "descendants",
          "set",
          "run",
          "started",
          "off",
          "eight",
          "five",
          "people",
          "letters",
          "king",
          "her",
          "half",
          "nothin'",
          "own",
          "cousin",
          "discriminate",
          "ridden",
          "anyway",
          "does",
          "its",
          "hope",
          "eliza",
          "drownin'",
          "brother",
          "saw",
          "saints",
          "haven't",
          "sinners",
          "fall",
          "forget",
          "course",
          "states",
          "'n",
          "million",
          "she's",
          "going",
          "readin'",
          "check",
          "till",
          "game",
          "immigrant",
          "comin'",
          "pants",
          "damn",
          "y'all",
          "onarchy",
          "living",
          "duel",
          "action",
          "negotiate",
          "turn",
          "runs",
          "e",
          "streets",
          "chance",
          "aaron",
          "mind",
          "words",
          "eye",
          "college",
          "em",
          "america",
          "nine",
          "hard",
          "rooftops",
          "mean",
          "than",
          "less",
          "someone",
          "limit",
          "city",
          "sky's",
          "ahead",
          "had",
          "across",
          "sure",
          "getting",
          "alive",
          "legacy",
          "workin'",
          "ready",
          "room",
          "endless",
          "next",
          "made",
          "use",
          "eventually",
          "ruined",
          "son",
          "uh",
          "manage",
          "secretary",
          "'a",
          "turns",
          "sleep",
          "knowledge",
          "angelica",
          "washington's",
          "write",
          "tryin'",
          "committed",
          "won't",
          "leave",
          "may",
          "think",
          "want",
          "laugh",
          "lancelot",
          "ha",
          "god",
          "waiting",
          "send",
          "laughin'",
          "state",
          "rights",
          "financial",
          "i've",
          "freedom",
          "instead",
          "fast",
          "keeps",
          "says",
          "late",
          "break",
          "advance",
          "ain't",
          "over",
          "revolutionary",
          "sets",
          "later",
          "you'll",
          "ask",
          "lead",
          "why",
          "line",
          "kid",
          "ay"
         ],
         "type": "scatter3d",
         "x": [
          -4.744224548339844,
          17.22881317138672,
          29.079622268676758,
          -16.432889938354492,
          20.351106643676758,
          17.164831161499023,
          10.434896469116211,
          25.527118682861328,
          8.483657836914062,
          28.089656829833984,
          -0.7230347990989685,
          21.58779525756836,
          -1.6936744451522827,
          28.22762680053711,
          -11.35732364654541,
          12.165451049804688,
          0.15447880327701569,
          30.92145538330078,
          -16.787078857421875,
          7.23976469039917,
          11.384696006774902,
          -22.943593978881836,
          0.9444366097450256,
          -13.18460750579834,
          29.845539093017578,
          11.431283950805664,
          17.632131576538086,
          -1.5351256132125854,
          32.9132080078125,
          -25.38960075378418,
          32.31240463256836,
          12.100151062011719,
          -9.666380882263184,
          -22.469318389892578,
          20.985597610473633,
          -18.977863311767578,
          -1.9535541534423828,
          -2.7024478912353516,
          -0.32677361369132996,
          -27.643239974975586,
          24.210918426513672,
          -0.013630690053105354,
          9.350433349609375,
          -7.3103132247924805,
          -3.8293728828430176,
          -18.619691848754883,
          -11.590777397155762,
          -26.426158905029297,
          26.302122116088867,
          -2.9555649757385254,
          15.024038314819336,
          -28.326025009155273,
          17.17427635192871,
          -13.910040855407715,
          -20.170263290405273,
          10.008781433105469,
          27.295217514038086,
          0.7375904321670532,
          19.549386978149414,
          6.0270891189575195,
          -16.578571319580078,
          0.1980227530002594,
          -28.089387893676758,
          20.146949768066406,
          3.8535101413726807,
          -6.9218854904174805,
          8.489157676696777,
          3.836360216140747,
          -3.8278262615203857,
          4.539176940917969,
          23.975290298461914,
          -1.628628134727478,
          28.07909393310547,
          -26.89203453063965,
          -15.49048137664795,
          -28.29033088684082,
          1.5670710802078247,
          -23.307395935058594,
          15.85233211517334,
          -23.93368911743164,
          -5.696553707122803,
          -25.459457397460938,
          -2.401487350463867,
          4.811743259429932,
          -9.347710609436035,
          -6.156559467315674,
          4.0934906005859375,
          11.55263614654541,
          12.538363456726074,
          -7.547980308532715,
          -20.571331024169922,
          -0.303328275680542,
          21.85546112060547,
          0.8579818606376648,
          27.129785537719727,
          -19.23380470275879,
          27.23556900024414,
          -4.127333164215088,
          -17.26589012145996,
          26.876760482788086,
          25.131441116333008,
          22.894908905029297,
          -21.41073989868164,
          -13.880090713500977,
          -20.705707550048828,
          -13.230154991149902,
          -19.102121353149414,
          -4.851705551147461,
          5.103026866912842,
          16.614971160888672,
          15.754609107971191,
          -10.160189628601074,
          -8.812714576721191,
          1.312483787536621,
          -16.089433670043945,
          -8.92137336730957,
          -2.11960768699646,
          29.641695022583008,
          -1.3280351161956787,
          -17.894134521484375,
          12.485116004943848,
          -15.653471946716309,
          2.0365076065063477,
          20.399940490722656,
          7.093179225921631,
          -14.521381378173828,
          22.822450637817383,
          -23.815282821655273,
          -28.39095687866211,
          -6.008950233459473,
          14.900313377380371,
          -18.211639404296875,
          21.35442543029785,
          18.06881332397461,
          -9.170133590698242,
          -5.60771369934082,
          -3.9964706897735596,
          2.247621774673462,
          1.6599527597427368,
          17.931936264038086,
          -6.939144611358643,
          -23.54467010498047,
          -12.560344696044922,
          -6.852653980255127,
          -7.444825649261475,
          11.837019920349121,
          -7.552687168121338,
          -19.54065704345703,
          -21.026134490966797,
          -16.052227020263672,
          -13.205848693847656,
          9.556375503540039,
          -14.877652168273926,
          0.1098475381731987,
          9.02083969116211,
          -3.221320152282715,
          -3.422574520111084,
          16.09822654724121,
          21.743196487426758,
          10.964919090270996,
          4.716421127319336,
          11.333270072937012,
          -18.339372634887695,
          5.686363220214844,
          -14.538631439208984,
          3.5429065227508545,
          -22.86669158935547,
          6.772389888763428,
          -5.498485088348389,
          -7.977536201477051,
          -3.505922794342041,
          26.391664505004883,
          17.66401481628418,
          19.10451889038086,
          5.1318817138671875,
          -20.230510711669922,
          -18.090621948242188,
          14.059920310974121,
          -3.9323692321777344,
          26.034076690673828,
          -7.1294941902160645,
          -5.554074287414551,
          -14.41356372833252,
          11.70622444152832,
          0.20689570903778076,
          20.422752380371094,
          -19.138885498046875,
          9.144619941711426,
          -1.4356327056884766,
          -16.093955993652344,
          -14.460453033447266,
          22.070283889770508,
          21.21149253845215,
          4.313361167907715,
          -4.659824371337891,
          -3.686575412750244,
          20.571792602539062,
          -10.987625122070312,
          1.0225342512130737,
          11.535755157470703,
          14.10094928741455,
          0.8806314468383789,
          -2.2206125259399414,
          2.6785216331481934,
          -16.68951988220215,
          6.037113189697266,
          -0.30519935488700867,
          11.37348747253418,
          13.122428894042969,
          16.72494888305664,
          10.875345230102539,
          8.989164352416992,
          -16.10688018798828,
          -11.147090911865234,
          21.495454788208008,
          15.454317092895508,
          -23.056941986083984,
          -15.41860580444336,
          -11.66399097442627,
          2.21947979927063,
          -10.234929084777832,
          26.670984268188477,
          -17.42414665222168,
          -3.127413749694824,
          10.878479957580566,
          -2.788484573364258,
          7.856935501098633,
          7.462714195251465,
          14.883615493774414,
          -16.989652633666992,
          -1.9033564329147339,
          -6.141015529632568,
          -4.678446292877197,
          -12.202592849731445,
          8.007304191589355,
          16.136474609375,
          10.912497520446777,
          4.58866548538208,
          -0.009703810326755047,
          -5.307095527648926,
          -4.863713264465332,
          -2.9105770587921143,
          -24.70270538330078,
          0.719545304775238,
          10.540355682373047,
          3.592611789703369,
          8.291472434997559,
          -16.39824104309082,
          -13.025474548339844,
          -6.498467445373535,
          21.772781372070312,
          -6.763810634613037,
          -13.391802787780762,
          12.893503189086914,
          1.3180556297302246,
          8.302311897277832,
          3.9764881134033203,
          -2.191800117492676,
          -14.035849571228027,
          -7.623925685882568,
          -10.317351341247559,
          -12.542269706726074,
          -6.943289756774902,
          -0.1276930868625641,
          -9.915369987487793,
          2.5211288928985596,
          13.902453422546387,
          1.2278469800949097,
          -1.273082971572876,
          -16.29159927368164,
          9.367815971374512,
          -4.135377883911133,
          -4.40958833694458,
          19.3126163482666,
          3.8168933391571045,
          -13.829611778259277,
          -2.01598858833313,
          -13.498189926147461,
          5.19631290435791,
          -10.135865211486816,
          -13.38079833984375,
          -17.614351272583008,
          -6.722001075744629,
          19.42382049560547,
          -10.153301239013672,
          -18.198606491088867,
          1.5725401639938354,
          3.013854503631592,
          -12.251283645629883,
          15.919511795043945,
          -8.67428970336914,
          1.0150691270828247,
          15.108531951904297,
          -0.031858570873737335,
          17.8793888092041,
          -11.083866119384766,
          1.0423400402069092,
          2.972928285598755,
          -6.7966532707214355,
          3.661968231201172,
          -1.1481846570968628,
          -9.817943572998047,
          0.8439540863037109,
          14.800140380859375,
          -18.71253204345703,
          -10.021344184875488,
          -7.1713786125183105,
          -18.868738174438477,
          -18.6140079498291,
          12.3199462890625,
          -1.1848901510238647,
          5.615428924560547,
          -1.8400934934616089,
          8.274879455566406,
          2.4159538745880127,
          -7.8622050285339355,
          12.057150840759277,
          16.828968048095703,
          14.34596061706543,
          2.2386629581451416,
          10.745874404907227,
          -2.537492036819458,
          4.508327484130859,
          -0.6978608965873718,
          0.8925584554672241,
          -14.482918739318848,
          11.100961685180664,
          -6.577237129211426,
          5.987440586090088,
          -13.02506160736084,
          -14.943924903869629,
          2.0315284729003906,
          14.133834838867188,
          -9.153740882873535,
          12.25185489654541,
          -4.780419826507568,
          -18.824798583984375,
          -16.34291648864746,
          11.702634811401367,
          21.239200592041016,
          19.36875343322754,
          -16.140295028686523,
          6.347115993499756,
          12.373722076416016,
          13.189091682434082,
          7.405120372772217,
          4.23414421081543,
          16.982254028320312,
          -19.291139602661133,
          14.328179359436035,
          -5.653646945953369,
          15.29328441619873,
          14.25285816192627,
          -1.9255365133285522,
          4.877574920654297,
          -7.680123805999756,
          -6.771801948547363,
          6.915553569793701,
          -3.926882266998291,
          5.3365478515625,
          -4.076977252960205,
          -12.73535442352295,
          16.360435485839844,
          5.432829856872559,
          -12.426752090454102,
          -2.1742162704467773,
          -0.17139072716236115,
          3.144495964050293,
          -0.948566198348999,
          8.418829917907715,
          24.646747589111328,
          0.3728421926498413,
          -13.246725082397461,
          -13.60947322845459,
          0.8061800599098206,
          -13.199915885925293,
          -19.990407943725586
         ],
         "y": [
          17.364980697631836,
          17.206518173217773,
          6.1400146484375,
          -16.317760467529297,
          -10.266264915466309,
          -11.571882247924805,
          -9.327472686767578,
          4.202007293701172,
          -12.233319282531738,
          -0.8548704385757446,
          -19.28678321838379,
          1.824270486831665,
          -15.787181854248047,
          -7.304298400878906,
          -20.252683639526367,
          -12.902517318725586,
          -11.574830055236816,
          -3.4890246391296387,
          10.648165702819824,
          10.82629108428955,
          -22.07010841369629,
          6.033316612243652,
          -20.461763381958008,
          10.138310432434082,
          -4.931976795196533,
          6.904466152191162,
          -19.259904861450195,
          -19.304149627685547,
          -6.431109428405762,
          -5.170096397399902,
          -2.126178503036499,
          -22.873620986938477,
          18.115028381347656,
          20.80740737915039,
          13.20971393585205,
          -12.238509178161621,
          -0.08628829568624496,
          -21.60300636291504,
          -23.017963409423828,
          -5.592241287231445,
          7.739727020263672,
          -22.13604736328125,
          -19.815757751464844,
          -9.444864273071289,
          15.696413040161133,
          17.314504623413086,
          28.22221565246582,
          -3.3823933601379395,
          10.224560737609863,
          -18.98634147644043,
          -17.723026275634766,
          -2.261507987976074,
          -20.21926498413086,
          -14.885659217834473,
          -8.351273536682129,
          1.797221302986145,
          7.972973823547363,
          26.147201538085938,
          7.66662073135376,
          -2.2754712104797363,
          -16.110572814941406,
          -3.7866389751434326,
          8.688657760620117,
          -1.042385220527649,
          -11.80613899230957,
          -6.1573991775512695,
          -10.31983470916748,
          25.543588638305664,
          -10.270686149597168,
          -13.208089828491211,
          6.855997085571289,
          13.003474235534668,
          1.8731368780136108,
          -0.9597998857498169,
          25.303508758544922,
          5.935924053192139,
          -19.060012817382812,
          9.79079818725586,
          -5.218627452850342,
          17.114782333374023,
          -25.894208908081055,
          -5.941742420196533,
          -4.750754356384277,
          0.0591767281293869,
          -11.328105926513672,
          -10.288280487060547,
          -23.106109619140625,
          -16.870512008666992,
          -1.980530023574829,
          -14.874750137329102,
          14.591023445129395,
          4.9257378578186035,
          -6.153165817260742,
          20.402385711669922,
          6.317910671234131,
          27.18532371520996,
          -11.225769996643066,
          -11.464310646057129,
          13.869264602661133,
          -13.304219245910645,
          -13.28193187713623,
          8.66112995147705,
          22.755041122436523,
          16.585098266601562,
          -0.3228633999824524,
          -15.812738418579102,
          -5.387637138366699,
          -23.245988845825195,
          -18.872617721557617,
          -8.206823348999023,
          15.409786224365234,
          13.764688491821289,
          -16.26258087158203,
          21.712692260742188,
          18.686542510986328,
          3.8221969604492188,
          -10.39612102508545,
          0.5140483379364014,
          22.069067001342773,
          -12.478763580322266,
          -3.064591407775879,
          29.12455177307129,
          23.41438102722168,
          -8.450441360473633,
          -23.689117431640625,
          -10.419601440429688,
          11.603841781616211,
          -1.8100701570510864,
          5.388236045837402,
          -16.25774574279785,
          0.8567008972167969,
          6.999385356903076,
          12.748093605041504,
          -12.65136432647705,
          4.517025470733643,
          13.186562538146973,
          9.65519905090332,
          -3.4554920196533203,
          17.370426177978516,
          5.835482120513916,
          -1.429621696472168,
          3.0653164386749268,
          18.53995704650879,
          -6.064694404602051,
          -2.5214483737945557,
          -11.567408561706543,
          -20.087833404541016,
          3.205911874771118,
          -1.9739552736282349,
          27.44562339782715,
          0.6155787110328674,
          12.601512908935547,
          6.033095836639404,
          -7.653988838195801,
          12.765342712402344,
          -15.539631843566895,
          2.9195053577423096,
          -4.0365424156188965,
          9.279716491699219,
          -3.9625892639160156,
          -14.952106475830078,
          2.7688262462615967,
          5.816240310668945,
          5.978161811828613,
          -7.441468715667725,
          4.855716228485107,
          -13.595917701721191,
          -1.088860273361206,
          -15.980525016784668,
          -8.82461929321289,
          1.119480013847351,
          2.785856246948242,
          -4.183506488800049,
          10.928040504455566,
          10.801281929016113,
          -3.0792648792266846,
          9.189311981201172,
          13.362876892089844,
          -8.494771003723145,
          0.9033532738685608,
          12.768936157226562,
          -10.553522109985352,
          -8.684540748596191,
          15.003978729248047,
          -0.0672072023153305,
          -13.488990783691406,
          -2.878331184387207,
          -3.3184516429901123,
          7.327751159667969,
          13.516118049621582,
          -9.845202445983887,
          -4.00532341003418,
          6.580352783203125,
          19.00747299194336,
          -1.8617831468582153,
          13.129711151123047,
          -2.0721752643585205,
          11.1991605758667,
          19.289573669433594,
          3.068471908569336,
          0.2126072347164154,
          -12.705119132995605,
          -9.613021850585938,
          5.01002311706543,
          9.05864429473877,
          0.707715630531311,
          -7.242693901062012,
          -4.300205707550049,
          14.374850273132324,
          7.769086837768555,
          7.136414527893066,
          -5.418466567993164,
          -8.627156257629395,
          -4.181354522705078,
          3.883317470550537,
          9.807296752929688,
          8.143725395202637,
          -8.556440353393555,
          -4.9463791847229,
          -4.9478759765625,
          -15.022381782531738,
          2.4610822200775146,
          -5.213286399841309,
          12.439787864685059,
          -8.128251075744629,
          5.226338863372803,
          3.142738103866577,
          9.877406120300293,
          -9.626609802246094,
          11.053201675415039,
          -14.636871337890625,
          -11.832542419433594,
          -5.291688442230225,
          -11.207329750061035,
          7.994292736053467,
          1.5678412914276123,
          9.014852523803711,
          10.935724258422852,
          8.97828483581543,
          -18.404966354370117,
          -7.611250400543213,
          -14.00733757019043,
          -13.158967971801758,
          -1.0237150192260742,
          17.173294067382812,
          21.397464752197266,
          17.384689331054688,
          1.330824375152588,
          8.094083786010742,
          4.150901794433594,
          1.5145684480667114,
          10.009098052978516,
          5.788607120513916,
          5.260908603668213,
          12.79380989074707,
          2.091981887817383,
          2.482771158218384,
          -4.4634575843811035,
          7.6646318435668945,
          -0.5740070343017578,
          9.820815086364746,
          5.846550464630127,
          5.271396160125732,
          -1.4426038265228271,
          -14.479338645935059,
          7.861536502838135,
          -2.1969358921051025,
          10.222576141357422,
          -14.798982620239258,
          -5.6198930740356445,
          6.733563423156738,
          -3.725720167160034,
          3.4227921962738037,
          -2.4566307067871094,
          -11.63072681427002,
          10.911869049072266,
          2.428194284439087,
          -3.416379690170288,
          -6.006438255310059,
          -2.8430135250091553,
          0.9674033522605896,
          -1.2946743965148926,
          7.417448997497559,
          -2.6289100646972656,
          15.958169937133789,
          7.514300346374512,
          -14.968358039855957,
          17.454145431518555,
          -4.82855224609375,
          -5.485105991363525,
          -9.76142406463623,
          -9.937640190124512,
          13.694119453430176,
          -15.840563774108887,
          -7.2407355308532715,
          -16.84838104248047,
          2.5858311653137207,
          -7.107553482055664,
          6.740963459014893,
          2.208523750305176,
          12.245301246643066,
          -8.678650856018066,
          19.87098503112793,
          12.04185962677002,
          24.06324577331543,
          -7.2185516357421875,
          17.100692749023438,
          -3.244750499725342,
          -6.96169376373291,
          6.999186038970947,
          -18.16181755065918,
          8.7410249710083,
          -1.3991185426712036,
          8.008196830749512,
          0.04208005219697952,
          -17.355581283569336,
          -4.284984588623047,
          6.344749450683594,
          2.2939937114715576,
          2.1746227741241455,
          -0.6436415314674377,
          2.2523269653320312,
          -8.673768997192383,
          3.402899742126465,
          2.293503522872925,
          -0.6300625205039978,
          2.7216405868530273,
          -12.781306266784668,
          6.178660869598389,
          -5.546599388122559,
          4.371554374694824,
          -0.4216124415397644,
          9.935301780700684,
          4.368520259857178,
          8.20111083984375,
          10.507533073425293,
          18.783506393432617,
          12.59477424621582,
          -1.207646131515503,
          2.6390140056610107,
          3.9769725799560547,
          0.40513497591018677,
          -2.198370933532715,
          2.8379361629486084,
          5.711539268493652,
          -0.4059142470359802,
          -4.5167012214660645,
          13.552480697631836,
          5.454363822937012,
          4.209539890289307,
          -16.28976058959961,
          15.710444450378418,
          8.878349304199219,
          2.607616662979126,
          -0.3699897527694702,
          0.5565506219863892,
          5.631932735443115,
          -1.2016786336898804,
          6.645814418792725,
          -4.380369663238525,
          -2.3052361011505127,
          -9.623950004577637,
          -3.800278425216675,
          4.181339740753174,
          5.367724895477295,
          -11.475081443786621,
          8.131503105163574,
          5.210748195648193,
          -4.7541046142578125,
          -0.5578603744506836,
          4.8798508644104,
          -3.9942784309387207,
          1.7355586290359497,
          -2.9742660522460938,
          -7.029404163360596,
          -1.4230825901031494,
          18.12176513671875
         ],
         "z": [
          -3.5853981971740723,
          -11.407027244567871,
          -2.5346920490264893,
          -9.414119720458984,
          -11.574775695800781,
          6.216116905212402,
          25.10894775390625,
          7.3826584815979,
          24.095731735229492,
          4.718227863311768,
          -13.352397918701172,
          -12.201570510864258,
          11.739261627197266,
          3.892444610595703,
          -5.563754558563232,
          26.1640625,
          20.683626174926758,
          4.6208624839782715,
          17.840444564819336,
          -16.013898849487305,
          0.7502475380897522,
          11.345300674438477,
          -19.10664176940918,
          16.290985107421875,
          0.8344354033470154,
          -18.133602142333984,
          2.1951608657836914,
          -0.6194096207618713,
          2.1463756561279297,
          11.69946575164795,
          1.9322384595870972,
          -2.680976390838623,
          -7.162270545959473,
          1.203566312789917,
          6.516969203948975,
          4.685567855834961,
          21.14399528503418,
          -19.855066299438477,
          -2.1982223987579346,
          7.56082820892334,
          12.45311450958252,
          -24.22350311279297,
          -1.2541965246200562,
          -23.636953353881836,
          -18.620298385620117,
          -6.450986862182617,
          -0.6409902572631836,
          5.531595230102539,
          12.86846923828125,
          -24.652772903442383,
          0.45863616466522217,
          -1.062000036239624,
          -1.136394739151001,
          -14.78156852722168,
          -1.6565228700637817,
          21.45083999633789,
          16.763734817504883,
          4.180445194244385,
          -13.356464385986328,
          21.933210372924805,
          -1.6743143796920776,
          -19.19131088256836,
          -8.684920310974121,
          16.86233139038086,
          -13.3603515625,
          14.684244155883789,
          15.586796760559082,
          8.844892501831055,
          -24.879365921020508,
          23.441675186157227,
          17.04487419128418,
          -10.43144702911377,
          -13.352479934692383,
          1.3642513751983643,
          -1.4456048011779785,
          -6.118078231811523,
          -24.447593688964844,
          -8.171806335449219,
          22.665267944335938,
          -0.7804720997810364,
          -3.12160062789917,
          3.404837131500244,
          -16.408384323120117,
          -16.000459671020508,
          9.581381797790527,
          -20.81825828552246,
          -3.056706428527832,
          -0.22351819276809692,
          23.559694290161133,
          -24.087665557861328,
          3.7310667037963867,
          -16.231164932250977,
          -13.59977912902832,
          -10.912271499633789,
          13.687215805053711,
          -0.35121771693229675,
          -7.937483787536621,
          18.358461380004883,
          -1.172164797782898,
          -10.894667625427246,
          -7.898556232452393,
          -9.402861595153809,
          -2.418710708618164,
          6.407276153564453,
          -0.8826553225517273,
          1.9263538122177124,
          -4.781338691711426,
          -1.9767968654632568,
          3.0280237197875977,
          17.57225799560547,
          15.313429832458496,
          -6.932484149932861,
          -20.466806411743164,
          8.805122375488281,
          0.6747185587882996,
          15.484354972839355,
          -2.723007917404175,
          -10.923932075500488,
          -9.985272407531738,
          -6.256850719451904,
          14.086922645568848,
          -1.9674118757247925,
          0.7753830552101135,
          -0.4757001996040344,
          -1.808631181716919,
          -18.42538833618164,
          2.644573211669922,
          -10.678393363952637,
          -9.33864688873291,
          -14.894705772399902,
          8.688901901245117,
          17.265174865722656,
          -0.19235607981681824,
          -0.735767662525177,
          -2.9839766025543213,
          9.317214965820312,
          14.010686874389648,
          -12.184052467346191,
          17.30780601501465,
          -9.13192081451416,
          -5.917217254638672,
          0.713036060333252,
          3.4691498279571533,
          -11.036252975463867,
          5.039307594299316,
          22.797687530517578,
          -13.440300941467285,
          6.100359916687012,
          -13.638643264770508,
          1.7004681825637817,
          -8.036199569702148,
          -4.828564167022705,
          16.613555908203125,
          9.04530143737793,
          2.660799503326416,
          3.4771194458007812,
          -13.354618072509766,
          -14.19105339050293,
          -6.340897560119629,
          -12.28406810760498,
          3.4979207515716553,
          -14.013004302978516,
          11.462669372558594,
          -12.210867881774902,
          8.936311721801758,
          16.41680908203125,
          -6.081634044647217,
          -2.734694004058838,
          -21.799083709716797,
          -5.786407947540283,
          2.6331021785736084,
          3.273268461227417,
          15.54428482055664,
          12.539384841918945,
          -9.453953742980957,
          -9.997091293334961,
          0.8472757935523987,
          -2.552582025527954,
          -12.777080535888672,
          -9.945890426635742,
          -3.0227885246276855,
          6.846649646759033,
          4.447569370269775,
          -9.922953605651855,
          9.952768325805664,
          3.357879638671875,
          3.0761823654174805,
          -6.671901226043701,
          8.450555801391602,
          2.4556045532226562,
          -2.5385963916778564,
          -10.835235595703125,
          -0.4520845413208008,
          1.2808644771575928,
          14.26840591430664,
          -7.000237464904785,
          -1.2531025409698486,
          6.99226713180542,
          0.7585271000862122,
          15.60606575012207,
          -1.034316897392273,
          -14.530416488647461,
          -6.167760372161865,
          -6.757477760314941,
          -14.339707374572754,
          -6.603835582733154,
          13.600648880004883,
          19.915924072265625,
          8.826022148132324,
          -2.2846415042877197,
          -10.037997245788574,
          12.820704460144043,
          0.44695013761520386,
          8.753729820251465,
          4.148796558380127,
          -5.7318196296691895,
          -10.548879623413086,
          -14.659459114074707,
          -7.288808822631836,
          -1.860251545906067,
          -10.016274452209473,
          -0.8620530366897583,
          5.724768161773682,
          -0.13920654356479645,
          -0.38155534863471985,
          -3.8203423023223877,
          -9.329573631286621,
          13.417001724243164,
          2.4580843448638916,
          -17.925853729248047,
          -12.743603706359863,
          -8.422202110290527,
          10.290125846862793,
          -7.4392476081848145,
          -0.7475876808166504,
          -7.107419490814209,
          -14.275223731994629,
          -1.1451632976531982,
          -3.1765623092651367,
          -11.481684684753418,
          2.1930336952209473,
          -0.6877437233924866,
          -3.0653791427612305,
          17.71360206604004,
          9.6389799118042,
          11.80003833770752,
          -1.9127273559570312,
          -7.443753719329834,
          -1.154714822769165,
          5.429042339324951,
          -5.800905227661133,
          6.335450172424316,
          13.694029808044434,
          1.1494888067245483,
          -5.241875648498535,
          10.402630805969238,
          9.242121696472168,
          4.109983444213867,
          -9.346552848815918,
          9.084845542907715,
          1.2484238147735596,
          -6.326887130737305,
          -14.550963401794434,
          0.5228800773620605,
          -13.787875175476074,
          6.964710712432861,
          -11.046504974365234,
          9.067771911621094,
          7.854859352111816,
          -9.31435775756836,
          10.84053897857666,
          -0.7866714596748352,
          8.424989700317383,
          -12.233072280883789,
          1.927748203277588,
          -16.583120346069336,
          12.598973274230957,
          13.017536163330078,
          5.673065662384033,
          -1.4438576698303223,
          6.598548889160156,
          12.528671264648438,
          -0.700708270072937,
          3.505699872970581,
          0.008732909336686134,
          -9.430173873901367,
          2.0777804851531982,
          13.701814651489258,
          -2.7737903594970703,
          0.6125888824462891,
          -10.33258056640625,
          -6.717434406280518,
          -12.723191261291504,
          -8.526633262634277,
          2.3406822681427,
          -2.1092560291290283,
          -11.019553184509277,
          19.075782775878906,
          -6.843729496002197,
          1.1063295602798462,
          4.551529884338379,
          2.2247695922851562,
          12.28205680847168,
          11.691396713256836,
          2.246760129928589,
          -16.01053237915039,
          2.728375196456909,
          8.55745792388916,
          9.188701629638672,
          5.2266011238098145,
          -19.255495071411133,
          6.180591106414795,
          -4.946802616119385,
          -6.8280792236328125,
          5.534941673278809,
          -0.28979599475860596,
          6.656198024749756,
          3.874924421310425,
          17.268173217773438,
          13.826414108276367,
          10.579070091247559,
          -1.119065761566162,
          13.472877502441406,
          4.209792613983154,
          -3.1812336444854736,
          8.856574058532715,
          -5.4317545890808105,
          -12.908332824707031,
          -4.2302565574646,
          -14.276775360107422,
          3.847562789916992,
          -7.747535228729248,
          5.6305670738220215,
          2.7838187217712402,
          -2.9472382068634033,
          1.9004305601119995,
          2.412261962890625,
          -14.758162498474121,
          18.03607177734375,
          -0.08420630544424057,
          -3.590545892715454,
          -0.5227879285812378,
          9.624305725097656,
          -9.380780220031738,
          -6.703561305999756,
          13.427149772644043,
          14.108574867248535,
          9.533062934875488,
          -0.7395606637001038,
          -3.10288143157959,
          -5.381399154663086,
          6.327651023864746,
          1.0112338066101074,
          -6.210496425628662,
          -10.882526397705078,
          0.6896358728408813,
          9.775853157043457,
          5.992238998413086,
          1.094773769378662,
          18.434194564819336,
          7.543790340423584,
          -10.91200065612793,
          18.614086151123047,
          3.9990620613098145,
          8.836341857910156,
          5.2599406242370605,
          1.891605019569397,
          -1.0420409440994263,
          18.09426498413086,
          1.7760224342346191,
          -3.3629884719848633,
          12.038483619689941,
          -2.8496267795562744,
          2.2304282188415527,
          2.4925732612609863,
          -14.873628616333008,
          -1.4967124462127686
         ]
        }
       ],
       "layout": {
        "legend": {
         "tracegroupgap": 0
        },
        "margin": {
         "t": 60
        },
        "scene": {
         "domain": {
          "x": [
           0,
           1
          ],
          "y": [
           0,
           1
          ]
         },
         "xaxis": {
          "title": {
           "text": "x"
          }
         },
         "yaxis": {
          "title": {
           "text": "y"
          }
         },
         "zaxis": {
          "title": {
           "text": "z"
          }
         }
        },
        "template": {
         "data": {
          "bar": [
           {
            "error_x": {
             "color": "#2a3f5f"
            },
            "error_y": {
             "color": "#2a3f5f"
            },
            "marker": {
             "line": {
              "color": "#E5ECF6",
              "width": 0.5
             },
             "pattern": {
              "fillmode": "overlay",
              "size": 10,
              "solidity": 0.2
             }
            },
            "type": "bar"
           }
          ],
          "barpolar": [
           {
            "marker": {
             "line": {
              "color": "#E5ECF6",
              "width": 0.5
             },
             "pattern": {
              "fillmode": "overlay",
              "size": 10,
              "solidity": 0.2
             }
            },
            "type": "barpolar"
           }
          ],
          "carpet": [
           {
            "aaxis": {
             "endlinecolor": "#2a3f5f",
             "gridcolor": "white",
             "linecolor": "white",
             "minorgridcolor": "white",
             "startlinecolor": "#2a3f5f"
            },
            "baxis": {
             "endlinecolor": "#2a3f5f",
             "gridcolor": "white",
             "linecolor": "white",
             "minorgridcolor": "white",
             "startlinecolor": "#2a3f5f"
            },
            "type": "carpet"
           }
          ],
          "choropleth": [
           {
            "colorbar": {
             "outlinewidth": 0,
             "ticks": ""
            },
            "type": "choropleth"
           }
          ],
          "contour": [
           {
            "colorbar": {
             "outlinewidth": 0,
             "ticks": ""
            },
            "colorscale": [
             [
              0,
              "#0d0887"
             ],
             [
              0.1111111111111111,
              "#46039f"
             ],
             [
              0.2222222222222222,
              "#7201a8"
             ],
             [
              0.3333333333333333,
              "#9c179e"
             ],
             [
              0.4444444444444444,
              "#bd3786"
             ],
             [
              0.5555555555555556,
              "#d8576b"
             ],
             [
              0.6666666666666666,
              "#ed7953"
             ],
             [
              0.7777777777777778,
              "#fb9f3a"
             ],
             [
              0.8888888888888888,
              "#fdca26"
             ],
             [
              1,
              "#f0f921"
             ]
            ],
            "type": "contour"
           }
          ],
          "contourcarpet": [
           {
            "colorbar": {
             "outlinewidth": 0,
             "ticks": ""
            },
            "type": "contourcarpet"
           }
          ],
          "heatmap": [
           {
            "colorbar": {
             "outlinewidth": 0,
             "ticks": ""
            },
            "colorscale": [
             [
              0,
              "#0d0887"
             ],
             [
              0.1111111111111111,
              "#46039f"
             ],
             [
              0.2222222222222222,
              "#7201a8"
             ],
             [
              0.3333333333333333,
              "#9c179e"
             ],
             [
              0.4444444444444444,
              "#bd3786"
             ],
             [
              0.5555555555555556,
              "#d8576b"
             ],
             [
              0.6666666666666666,
              "#ed7953"
             ],
             [
              0.7777777777777778,
              "#fb9f3a"
             ],
             [
              0.8888888888888888,
              "#fdca26"
             ],
             [
              1,
              "#f0f921"
             ]
            ],
            "type": "heatmap"
           }
          ],
          "heatmapgl": [
           {
            "colorbar": {
             "outlinewidth": 0,
             "ticks": ""
            },
            "colorscale": [
             [
              0,
              "#0d0887"
             ],
             [
              0.1111111111111111,
              "#46039f"
             ],
             [
              0.2222222222222222,
              "#7201a8"
             ],
             [
              0.3333333333333333,
              "#9c179e"
             ],
             [
              0.4444444444444444,
              "#bd3786"
             ],
             [
              0.5555555555555556,
              "#d8576b"
             ],
             [
              0.6666666666666666,
              "#ed7953"
             ],
             [
              0.7777777777777778,
              "#fb9f3a"
             ],
             [
              0.8888888888888888,
              "#fdca26"
             ],
             [
              1,
              "#f0f921"
             ]
            ],
            "type": "heatmapgl"
           }
          ],
          "histogram": [
           {
            "marker": {
             "pattern": {
              "fillmode": "overlay",
              "size": 10,
              "solidity": 0.2
             }
            },
            "type": "histogram"
           }
          ],
          "histogram2d": [
           {
            "colorbar": {
             "outlinewidth": 0,
             "ticks": ""
            },
            "colorscale": [
             [
              0,
              "#0d0887"
             ],
             [
              0.1111111111111111,
              "#46039f"
             ],
             [
              0.2222222222222222,
              "#7201a8"
             ],
             [
              0.3333333333333333,
              "#9c179e"
             ],
             [
              0.4444444444444444,
              "#bd3786"
             ],
             [
              0.5555555555555556,
              "#d8576b"
             ],
             [
              0.6666666666666666,
              "#ed7953"
             ],
             [
              0.7777777777777778,
              "#fb9f3a"
             ],
             [
              0.8888888888888888,
              "#fdca26"
             ],
             [
              1,
              "#f0f921"
             ]
            ],
            "type": "histogram2d"
           }
          ],
          "histogram2dcontour": [
           {
            "colorbar": {
             "outlinewidth": 0,
             "ticks": ""
            },
            "colorscale": [
             [
              0,
              "#0d0887"
             ],
             [
              0.1111111111111111,
              "#46039f"
             ],
             [
              0.2222222222222222,
              "#7201a8"
             ],
             [
              0.3333333333333333,
              "#9c179e"
             ],
             [
              0.4444444444444444,
              "#bd3786"
             ],
             [
              0.5555555555555556,
              "#d8576b"
             ],
             [
              0.6666666666666666,
              "#ed7953"
             ],
             [
              0.7777777777777778,
              "#fb9f3a"
             ],
             [
              0.8888888888888888,
              "#fdca26"
             ],
             [
              1,
              "#f0f921"
             ]
            ],
            "type": "histogram2dcontour"
           }
          ],
          "mesh3d": [
           {
            "colorbar": {
             "outlinewidth": 0,
             "ticks": ""
            },
            "type": "mesh3d"
           }
          ],
          "parcoords": [
           {
            "line": {
             "colorbar": {
              "outlinewidth": 0,
              "ticks": ""
             }
            },
            "type": "parcoords"
           }
          ],
          "pie": [
           {
            "automargin": true,
            "type": "pie"
           }
          ],
          "scatter": [
           {
            "fillpattern": {
             "fillmode": "overlay",
             "size": 10,
             "solidity": 0.2
            },
            "type": "scatter"
           }
          ],
          "scatter3d": [
           {
            "line": {
             "colorbar": {
              "outlinewidth": 0,
              "ticks": ""
             }
            },
            "marker": {
             "colorbar": {
              "outlinewidth": 0,
              "ticks": ""
             }
            },
            "type": "scatter3d"
           }
          ],
          "scattercarpet": [
           {
            "marker": {
             "colorbar": {
              "outlinewidth": 0,
              "ticks": ""
             }
            },
            "type": "scattercarpet"
           }
          ],
          "scattergeo": [
           {
            "marker": {
             "colorbar": {
              "outlinewidth": 0,
              "ticks": ""
             }
            },
            "type": "scattergeo"
           }
          ],
          "scattergl": [
           {
            "marker": {
             "colorbar": {
              "outlinewidth": 0,
              "ticks": ""
             }
            },
            "type": "scattergl"
           }
          ],
          "scattermapbox": [
           {
            "marker": {
             "colorbar": {
              "outlinewidth": 0,
              "ticks": ""
             }
            },
            "type": "scattermapbox"
           }
          ],
          "scatterpolar": [
           {
            "marker": {
             "colorbar": {
              "outlinewidth": 0,
              "ticks": ""
             }
            },
            "type": "scatterpolar"
           }
          ],
          "scatterpolargl": [
           {
            "marker": {
             "colorbar": {
              "outlinewidth": 0,
              "ticks": ""
             }
            },
            "type": "scatterpolargl"
           }
          ],
          "scatterternary": [
           {
            "marker": {
             "colorbar": {
              "outlinewidth": 0,
              "ticks": ""
             }
            },
            "type": "scatterternary"
           }
          ],
          "surface": [
           {
            "colorbar": {
             "outlinewidth": 0,
             "ticks": ""
            },
            "colorscale": [
             [
              0,
              "#0d0887"
             ],
             [
              0.1111111111111111,
              "#46039f"
             ],
             [
              0.2222222222222222,
              "#7201a8"
             ],
             [
              0.3333333333333333,
              "#9c179e"
             ],
             [
              0.4444444444444444,
              "#bd3786"
             ],
             [
              0.5555555555555556,
              "#d8576b"
             ],
             [
              0.6666666666666666,
              "#ed7953"
             ],
             [
              0.7777777777777778,
              "#fb9f3a"
             ],
             [
              0.8888888888888888,
              "#fdca26"
             ],
             [
              1,
              "#f0f921"
             ]
            ],
            "type": "surface"
           }
          ],
          "table": [
           {
            "cells": {
             "fill": {
              "color": "#EBF0F8"
             },
             "line": {
              "color": "white"
             }
            },
            "header": {
             "fill": {
              "color": "#C8D4E3"
             },
             "line": {
              "color": "white"
             }
            },
            "type": "table"
           }
          ]
         },
         "layout": {
          "annotationdefaults": {
           "arrowcolor": "#2a3f5f",
           "arrowhead": 0,
           "arrowwidth": 1
          },
          "autotypenumbers": "strict",
          "coloraxis": {
           "colorbar": {
            "outlinewidth": 0,
            "ticks": ""
           }
          },
          "colorscale": {
           "diverging": [
            [
             0,
             "#8e0152"
            ],
            [
             0.1,
             "#c51b7d"
            ],
            [
             0.2,
             "#de77ae"
            ],
            [
             0.3,
             "#f1b6da"
            ],
            [
             0.4,
             "#fde0ef"
            ],
            [
             0.5,
             "#f7f7f7"
            ],
            [
             0.6,
             "#e6f5d0"
            ],
            [
             0.7,
             "#b8e186"
            ],
            [
             0.8,
             "#7fbc41"
            ],
            [
             0.9,
             "#4d9221"
            ],
            [
             1,
             "#276419"
            ]
           ],
           "sequential": [
            [
             0,
             "#0d0887"
            ],
            [
             0.1111111111111111,
             "#46039f"
            ],
            [
             0.2222222222222222,
             "#7201a8"
            ],
            [
             0.3333333333333333,
             "#9c179e"
            ],
            [
             0.4444444444444444,
             "#bd3786"
            ],
            [
             0.5555555555555556,
             "#d8576b"
            ],
            [
             0.6666666666666666,
             "#ed7953"
            ],
            [
             0.7777777777777778,
             "#fb9f3a"
            ],
            [
             0.8888888888888888,
             "#fdca26"
            ],
            [
             1,
             "#f0f921"
            ]
           ],
           "sequentialminus": [
            [
             0,
             "#0d0887"
            ],
            [
             0.1111111111111111,
             "#46039f"
            ],
            [
             0.2222222222222222,
             "#7201a8"
            ],
            [
             0.3333333333333333,
             "#9c179e"
            ],
            [
             0.4444444444444444,
             "#bd3786"
            ],
            [
             0.5555555555555556,
             "#d8576b"
            ],
            [
             0.6666666666666666,
             "#ed7953"
            ],
            [
             0.7777777777777778,
             "#fb9f3a"
            ],
            [
             0.8888888888888888,
             "#fdca26"
            ],
            [
             1,
             "#f0f921"
            ]
           ]
          },
          "colorway": [
           "#636efa",
           "#EF553B",
           "#00cc96",
           "#ab63fa",
           "#FFA15A",
           "#19d3f3",
           "#FF6692",
           "#B6E880",
           "#FF97FF",
           "#FECB52"
          ],
          "font": {
           "color": "#2a3f5f"
          },
          "geo": {
           "bgcolor": "white",
           "lakecolor": "white",
           "landcolor": "#E5ECF6",
           "showlakes": true,
           "showland": true,
           "subunitcolor": "white"
          },
          "hoverlabel": {
           "align": "left"
          },
          "hovermode": "closest",
          "mapbox": {
           "style": "light"
          },
          "paper_bgcolor": "white",
          "plot_bgcolor": "#E5ECF6",
          "polar": {
           "angularaxis": {
            "gridcolor": "white",
            "linecolor": "white",
            "ticks": ""
           },
           "bgcolor": "#E5ECF6",
           "radialaxis": {
            "gridcolor": "white",
            "linecolor": "white",
            "ticks": ""
           }
          },
          "scene": {
           "xaxis": {
            "backgroundcolor": "#E5ECF6",
            "gridcolor": "white",
            "gridwidth": 2,
            "linecolor": "white",
            "showbackground": true,
            "ticks": "",
            "zerolinecolor": "white"
           },
           "yaxis": {
            "backgroundcolor": "#E5ECF6",
            "gridcolor": "white",
            "gridwidth": 2,
            "linecolor": "white",
            "showbackground": true,
            "ticks": "",
            "zerolinecolor": "white"
           },
           "zaxis": {
            "backgroundcolor": "#E5ECF6",
            "gridcolor": "white",
            "gridwidth": 2,
            "linecolor": "white",
            "showbackground": true,
            "ticks": "",
            "zerolinecolor": "white"
           }
          },
          "shapedefaults": {
           "line": {
            "color": "#2a3f5f"
           }
          },
          "ternary": {
           "aaxis": {
            "gridcolor": "white",
            "linecolor": "white",
            "ticks": ""
           },
           "baxis": {
            "gridcolor": "white",
            "linecolor": "white",
            "ticks": ""
           },
           "bgcolor": "#E5ECF6",
           "caxis": {
            "gridcolor": "white",
            "linecolor": "white",
            "ticks": ""
           }
          },
          "title": {
           "x": 0.05
          },
          "xaxis": {
           "automargin": true,
           "gridcolor": "white",
           "linecolor": "white",
           "ticks": "",
           "title": {
            "standoff": 15
           },
           "zerolinecolor": "white",
           "zerolinewidth": 2
          },
          "yaxis": {
           "automargin": true,
           "gridcolor": "white",
           "linecolor": "white",
           "ticks": "",
           "title": {
            "standoff": 15
           },
           "zerolinecolor": "white",
           "zerolinewidth": 2
          }
         }
        }
       }
      }
     },
     "metadata": {},
     "output_type": "display_data"
    }
   ],
   "source": [
    "# Graficar los embedddings en 3D\n",
    "\n",
    "vecs, labels = reduce_dimensions(w2v_model,3)\n",
    "\n",
    "fig = px.scatter_3d(x=vecs[:MAX_WORDS,0], y=vecs[:MAX_WORDS,1], z=vecs[:MAX_WORDS,2],text=labels[:MAX_WORDS])\n",
    "fig.update_traces(marker_size = 2)\n",
    "# fig.show(renderer=\"colab\") # esto para plotly en colab"
   ]
  },
  {
   "cell_type": "markdown",
   "metadata": {},
   "source": [
    "Algunos aspectos interesantes:"
   ]
  },
  {
   "cell_type": "markdown",
   "metadata": {},
   "source": [
    "Las palabras revolution, future,  nation, now y free estan agrupadas. Los embeddings logran representar la trama de la revolucion por la independencia nacional y el pedido de que sea ahora.\n",
    "![Alt Text](./images/newplot-1.png)"
   ]
  },
  {
   "cell_type": "markdown",
   "metadata": {},
   "source": [
    "Otro ejemplo es france y hope, donde a lo largo de todo el musical se habla de francia como la esperanza para dar vuelta el resultado en la guerra"
   ]
  },
  {
   "cell_type": "markdown",
   "metadata": {},
   "source": [
    "![Alt Text](./images/newplot.png)"
   ]
  },
  {
   "cell_type": "markdown",
   "metadata": {},
   "source": [
    "Algunas canciones y las ideas que repiten tambien se encuentran claramente representadas: \"I'm not throwing away my shot\" y \"we're gonna rise up\" y \"young, scruffy and hungry\" son frases que se repiten varias veces en una de las canciones principales. Esto sucede con otras canciones que tienen mucha repeticion.\n",
    "![Alt Text](./images/newplot-2.png)"
   ]
  },
  {
   "cell_type": "markdown",
   "metadata": {},
   "source": [
    "Tambien se logran agrupar conceptos genericos como number y todos los numeros del 1 al 10, que ademas se asocian al concepto de duelo, por lo pasos que dan los duelistas\n",
    "![Alt Text](./images/newplot-4.png)"
   ]
  },
  {
   "cell_type": "markdown",
   "metadata": {},
   "source": [
    "Es interesante notar que como todas las canciones estan contando diferentes etapas y visiones de la misma historia hay obviamente clusters asociados a la repeticion de las canciones pero hay otros clusters asociados a las ideas principales relatadas en la historia, ya sea de forma general (el concepto de la revolucion) o especifica (los numeros se asocian a los duelos, por lo pasos que dan los duelistas)."
   ]
  },
  {
   "cell_type": "code",
   "execution_count": 27,
   "metadata": {},
   "outputs": [],
   "source": [
    "# También se pueden guardar los vectores y labels como tsv para graficar en\n",
    "# http://projector.tensorflow.org/\n",
    "\n",
    "\n",
    "vectors = np.asarray(w2v_model.wv.vectors)\n",
    "labels = list(w2v_model.wv.index_to_key)\n",
    "\n",
    "np.savetxt(\"vectors.tsv\", vectors, delimiter=\"\\t\")\n",
    "\n",
    "with open(\"labels.tsv\", \"w\") as fp:\n",
    "    for item in labels:\n",
    "        fp.write(\"%s\\n\" % item)"
   ]
  }
 ],
 "metadata": {
  "colab": {
   "collapsed_sections": [],
   "provenance": []
  },
  "kernelspec": {
   "display_name": "Python 3 (ipykernel)",
   "language": "python",
   "name": "python3"
  },
  "language_info": {
   "codemirror_mode": {
    "name": "ipython",
    "version": 3
   },
   "file_extension": ".py",
   "mimetype": "text/x-python",
   "name": "python",
   "nbconvert_exporter": "python",
   "pygments_lexer": "ipython3",
   "version": "3.9.18"
  }
 },
 "nbformat": 4,
 "nbformat_minor": 4
}
