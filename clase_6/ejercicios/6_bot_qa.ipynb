{
  "cells": [
    {
      "cell_type": "markdown",
      "metadata": {
        "id": "pfa39F4lsLf3"
      },
      "source": [
        "<img src=\"https://github.com/hernancontigiani/ceia_memorias_especializacion/raw/master/Figures/logoFIUBA.jpg\" width=\"500\" align=\"center\">\n",
        "\n",
        "\n",
        "# Procesamiento de lenguaje natural\n",
        "## LSTM Bot QA"
      ]
    },
    {
      "cell_type": "code",
      "source": [
        "MAX_VOCAB_SIZE = 8000\n",
        "MAX_LENGTH = 20\n",
        "N_UNITS = 128\n",
        "EPOCHS = 45\n",
        "LSTM_DROPOUT = 0.2"
      ],
      "metadata": {
        "id": "D5ZSdBeaFgBK"
      },
      "execution_count": 13,
      "outputs": []
    },
    {
      "cell_type": "markdown",
      "metadata": {
        "id": "ZqO0PRcFsPTe"
      },
      "source": [
        "### Datos\n",
        "El objecto es utilizar datos disponibles del challenge ConvAI2 (Conversational Intelligence Challenge 2) de conversaciones en inglés. Se construirá un BOT para responder a preguntas del usuario (QA).\\\n",
        "[LINK](http://convai.io/data/)"
      ]
    },
    {
      "cell_type": "code",
      "execution_count": 14,
      "metadata": {
        "id": "bDFC0I3j9oFD"
      },
      "outputs": [],
      "source": [
        "!pip install --upgrade --no-cache-dir gdown --quiet"
      ]
    },
    {
      "cell_type": "code",
      "execution_count": 15,
      "metadata": {
        "id": "cq3YXak9sGHd"
      },
      "outputs": [],
      "source": [
        "import re\n",
        "\n",
        "import numpy as np\n",
        "import pandas as pd\n",
        "\n",
        "import tensorflow as tf\n",
        "from keras.preprocessing.text import one_hot\n",
        "from tensorflow.keras.utils import pad_sequences\n",
        "from keras.models import Sequential\n",
        "from keras.layers import Activation, Dropout, Dense\n",
        "from keras.layers import Flatten, LSTM, SimpleRNN\n",
        "from keras.models import Model\n",
        "from tensorflow.keras.layers import Embedding\n",
        "from sklearn.model_selection import train_test_split\n",
        "from keras.preprocessing.text import Tokenizer\n",
        "from keras.layers import Input\n",
        "from keras.utils import plot_model\n",
        "from keras.utils import to_categorical"
      ]
    },
    {
      "cell_type": "code",
      "execution_count": 16,
      "metadata": {
        "id": "RHNkUaPp6aYq",
        "colab": {
          "base_uri": "https://localhost:8080/"
        },
        "outputId": "9c7eb94e-3aa2-4b36-d0cb-911665ffc32a"
      },
      "outputs": [
        {
          "output_type": "stream",
          "name": "stdout",
          "text": [
            "El dataset ya se encuentra descargado\n"
          ]
        }
      ],
      "source": [
        "# Descargar la carpeta de dataset\n",
        "import os\n",
        "import gdown\n",
        "if os.access('data_volunteers.json', os.F_OK) is False:\n",
        "    url = 'https://drive.google.com/uc?id=1awUxYwImF84MIT5-jCaYAPe2QwSgS1hN&export=download'\n",
        "    output = 'data_volunteers.json'\n",
        "    gdown.download(url, output, quiet=False)\n",
        "else:\n",
        "    print(\"El dataset ya se encuentra descargado\")"
      ]
    },
    {
      "cell_type": "code",
      "execution_count": 17,
      "metadata": {
        "id": "WZy1-wgG-Rp7"
      },
      "outputs": [],
      "source": [
        "# dataset_file\n",
        "import json\n",
        "\n",
        "text_file = \"data_volunteers.json\"\n",
        "with open(text_file) as f:\n",
        "    data = json.load(f) # la variable data será un diccionario"
      ]
    },
    {
      "cell_type": "code",
      "execution_count": 18,
      "metadata": {
        "id": "ue5qd54S-eew",
        "colab": {
          "base_uri": "https://localhost:8080/"
        },
        "outputId": "dfe41642-5a79-4415-a7c8-2ca3f87a4e7a"
      },
      "outputs": [
        {
          "output_type": "execute_result",
          "data": {
            "text/plain": [
              "dict_keys(['dialog', 'start_time', 'end_time', 'bot_profile', 'user_profile', 'eval_score', 'profile_match', 'participant1_id', 'participant2_id'])"
            ]
          },
          "metadata": {},
          "execution_count": 18
        }
      ],
      "source": [
        "# Observar los campos disponibles en cada linea del dataset\n",
        "data[0].keys()"
      ]
    },
    {
      "cell_type": "code",
      "execution_count": 19,
      "metadata": {
        "id": "jHBRAXPl-3dz",
        "colab": {
          "base_uri": "https://localhost:8080/"
        },
        "outputId": "e88069fb-95c4-4beb-fbe7-69649ca86bef"
      },
      "outputs": [
        {
          "output_type": "stream",
          "name": "stdout",
          "text": [
            "Cantidad de rows utilizadas: 1903\n"
          ]
        }
      ],
      "source": [
        "chat_in = []\n",
        "chat_out = []\n",
        "\n",
        "input_sentences = []\n",
        "output_sentences = []\n",
        "output_sentences_inputs = []\n",
        "max_len = MAX_LENGTH\n",
        "\n",
        "def clean_text(txt):\n",
        "    txt = txt.lower()\n",
        "    txt.replace(\"\\'d\", \" had\")\n",
        "    txt.replace(\"\\'s\", \" is\")\n",
        "    txt.replace(\"\\'m\", \" am\")\n",
        "    txt.replace(\"don't\", \"do not\")\n",
        "    txt = re.sub(r'\\W+', ' ', txt)\n",
        "\n",
        "    return txt\n",
        "\n",
        "for line in data:\n",
        "    for i in range(len(line['dialog'])-1):\n",
        "        # vamos separando el texto en \"preguntas\" (chat_in)\n",
        "        # y \"respuestas\" (chat_out)\n",
        "        chat_in = clean_text(line['dialog'][i]['text'])\n",
        "        chat_out = clean_text(line['dialog'][i+1]['text'])\n",
        "\n",
        "        if len(chat_in) >= max_len or len(chat_out) >= max_len:\n",
        "            continue\n",
        "\n",
        "        input_sentence, output = chat_in, chat_out\n",
        "\n",
        "        # output sentence (decoder_output) tiene <eos>\n",
        "        output_sentence = output + ' <eos>'\n",
        "        # output sentence input (decoder_input) tiene <sos>\n",
        "        output_sentence_input = '<sos> ' + output\n",
        "\n",
        "        input_sentences.append(input_sentence)\n",
        "        output_sentences.append(output_sentence)\n",
        "        output_sentences_inputs.append(output_sentence_input)\n",
        "\n",
        "print(\"Cantidad de rows utilizadas:\", len(input_sentences))"
      ]
    },
    {
      "cell_type": "code",
      "execution_count": 20,
      "metadata": {
        "id": "07L1qj8pC_l6",
        "colab": {
          "base_uri": "https://localhost:8080/"
        },
        "outputId": "1e7afe65-cef6-4468-fe2b-e612f39c9935"
      },
      "outputs": [
        {
          "output_type": "execute_result",
          "data": {
            "text/plain": [
              "('hi how are you ', 'not bad and you  <eos>', '<sos> not bad and you ')"
            ]
          },
          "metadata": {},
          "execution_count": 20
        }
      ],
      "source": [
        "input_sentences[1], output_sentences[1], output_sentences_inputs[1]"
      ]
    },
    {
      "cell_type": "markdown",
      "metadata": {
        "id": "8P-ynUNP5xp6"
      },
      "source": [
        "### 2 - Preprocesamiento\n",
        "Realizar el preprocesamiento necesario para obtener:\n",
        "- word2idx_inputs, max_input_len\n",
        "- word2idx_outputs, max_out_len, num_words_output\n",
        "- encoder_input_sequences, decoder_output_sequences, decoder_targets"
      ]
    },
    {
      "cell_type": "code",
      "source": [
        "input_tokenizer = Tokenizer(num_words=MAX_VOCAB_SIZE)\n",
        "input_tokenizer.fit_on_texts(input_sentences)\n",
        "input_integer_seq = input_tokenizer.texts_to_sequences(input_sentences)\n",
        "\n",
        "word2idx_inputs = input_tokenizer.word_index\n",
        "print(\"Total tokens in input vocab:\", len(word2idx_inputs))\n",
        "\n",
        "max_input_len = max(len(sen) for sen in input_integer_seq)\n",
        "print(\"Longest input sentence:\", max_input_len)"
      ],
      "metadata": {
        "colab": {
          "base_uri": "https://localhost:8080/"
        },
        "id": "53HhomGx9DCF",
        "outputId": "a67ab271-2fea-4fdc-ee12-13bd966b3c81"
      },
      "execution_count": 21,
      "outputs": [
        {
          "output_type": "stream",
          "name": "stdout",
          "text": [
            "Total tokens in input vocab: 752\n",
            "Longest input sentence: 7\n"
          ]
        }
      ]
    },
    {
      "cell_type": "code",
      "source": [
        "output_tokenizer = Tokenizer(num_words=MAX_VOCAB_SIZE, filters='!\"#$%&()*+,-./:;=¿?@[\\\\]^_`{|}~\\t\\n')\n",
        "output_tokenizer.fit_on_texts([\"<sos>\", \"<eos>\"] + output_sentences)\n",
        "output_integer_seq = output_tokenizer.texts_to_sequences(output_sentences)\n",
        "output_input_integer_seq = output_tokenizer.texts_to_sequences(output_sentences_inputs)\n",
        "\n",
        "word2idx_outputs = output_tokenizer.word_index\n",
        "print(\"Total tokens in output vocab:\", len(word2idx_outputs))\n",
        "\n",
        "num_words_output = min(len(word2idx_outputs) + 1, MAX_VOCAB_SIZE)\n",
        "print(\"Total tokens in output:\", num_words_output)\n",
        "\n",
        "max_out_len = max(len(sen) for sen in output_integer_seq)\n",
        "print(\"Longest output sentence:\", max_out_len)"
      ],
      "metadata": {
        "id": "G6Sj8r5YFZZn",
        "outputId": "12f4952a-c38d-402a-ffb0-69990f2dd039",
        "colab": {
          "base_uri": "https://localhost:8080/"
        }
      },
      "execution_count": 22,
      "outputs": [
        {
          "output_type": "stream",
          "name": "stdout",
          "text": [
            "Total tokens in output vocab: 714\n",
            "Total tokens in output: 715\n",
            "Longest output sentence: 7\n"
          ]
        }
      ]
    },
    {
      "cell_type": "code",
      "source": [
        "encoder_input_sequences = pad_sequences(input_integer_seq, maxlen=max_input_len)\n",
        "print(\"encoder_input_sequences shape:\", encoder_input_sequences.shape)\n",
        "\n",
        "decoder_input_sequences = pad_sequences(output_input_integer_seq, maxlen=max_out_len, padding='post')\n",
        "print(\"decoder_input_sequences shape:\", decoder_input_sequences.shape)\n",
        "\n",
        "decoder_output_sequences = pad_sequences(output_integer_seq, maxlen=max_out_len, padding='post')\n",
        "print(\"decoder_output_sequences shape:\", decoder_output_sequences.shape)\n",
        "\n",
        "decoder_targets = to_categorical(decoder_output_sequences, num_classes=num_words_output)\n",
        "print(\"decoder_targets shape:\", decoder_targets.shape)"
      ],
      "metadata": {
        "id": "HrTKvbzkFaUt",
        "outputId": "dfbb38d2-bc62-4d95-ee20-a3e3ae0e6a21",
        "colab": {
          "base_uri": "https://localhost:8080/"
        }
      },
      "execution_count": 23,
      "outputs": [
        {
          "output_type": "stream",
          "name": "stdout",
          "text": [
            "encoder_input_sequences shape: (1903, 7)\n",
            "decoder_input_sequences shape: (1903, 7)\n",
            "decoder_output_sequences shape: (1903, 7)\n",
            "decoder_targets shape: (1903, 7, 715)\n"
          ]
        }
      ]
    },
    {
      "cell_type": "markdown",
      "metadata": {
        "id": "_CJIsLBbj6rg"
      },
      "source": [
        "### 3 - Preparar los embeddings\n",
        "Utilizar los embeddings de Glove o FastText para transformar los tokens de entrada en vectores"
      ]
    },
    {
      "cell_type": "code",
      "source": [
        "if os.access('fasttext.pkl', os.F_OK) is False:\n",
        "    url = 'https://drive.google.com/u/0/uc?id=1Qi1r-u5lsEsNqRSxLrpNOqQ3B_ufltCa&export=download&confirm=t'\n",
        "    output = 'fasttext.pkl'\n",
        "    gdown.download(url, output, quiet=False)\n",
        "else:\n",
        "    print(\"Dataset already downloaded\")\n"
      ],
      "metadata": {
        "colab": {
          "base_uri": "https://localhost:8080/"
        },
        "id": "o91mp634teS_",
        "outputId": "f6cbd975-30c5-4e62-e95a-741e730d5859"
      },
      "execution_count": 24,
      "outputs": [
        {
          "output_type": "stream",
          "name": "stdout",
          "text": [
            "Dataset already downloaded\n"
          ]
        }
      ]
    },
    {
      "cell_type": "code",
      "source": [
        "import logging\n",
        "from pathlib import Path\n",
        "import pickle\n",
        "\n",
        "class WordsEmbeddings(object):\n",
        "    logger = logging.getLogger(__name__)\n",
        "\n",
        "    def __init__(self):\n",
        "        words_embedding_pkl = Path(self.PKL_PATH)\n",
        "        if not words_embedding_pkl.is_file():\n",
        "            words_embedding_txt = Path(self.WORD_TO_VEC_MODEL_TXT_PATH)\n",
        "            assert words_embedding_txt.is_file(), 'Words embedding not available'\n",
        "            embeddings = self.convert_model_to_pickle()\n",
        "        else:\n",
        "            embeddings = self.load_model_from_pickle()\n",
        "        self.embeddings = embeddings\n",
        "        index = np.arange(self.embeddings.shape[0])\n",
        "        self.word2idx = dict(zip(self.embeddings['word'], index))\n",
        "        self.idx2word = dict(zip(index, self.embeddings['word']))\n",
        "\n",
        "    def get_words_embeddings(self, words):\n",
        "        words_idxs = self.words2idxs(words)\n",
        "        return self.embeddings[words_idxs]['embedding']\n",
        "\n",
        "    def words2idxs(self, words):\n",
        "        return np.array([self.word2idx.get(word, -1) for word in words])\n",
        "\n",
        "    def idxs2words(self, idxs):\n",
        "        return np.array([self.idx2word.get(idx, '-1') for idx in idxs])\n",
        "\n",
        "    def load_model_from_pickle(self):\n",
        "        self.logger.debug(\n",
        "            'loading words embeddings from pickle {}'.format(\n",
        "                self.PKL_PATH\n",
        "            )\n",
        "        )\n",
        "        max_bytes = 2 ** 28 - 1\n",
        "        bytes_in = bytearray(0)\n",
        "        input_size = os.path.getsize(self.PKL_PATH)\n",
        "        with open(self.PKL_PATH, 'rb') as f_in:\n",
        "            for _ in range(0, input_size, max_bytes):\n",
        "                bytes_in += f_in.read(max_bytes)\n",
        "        embeddings = pickle.loads(bytes_in)\n",
        "        self.logger.debug('words embeddings loaded')\n",
        "        return embeddings\n",
        "\n",
        "    def convert_model_to_pickle(self):\n",
        "        self.logger.debug(\n",
        "            'converting and loading words embeddings from text file {}'.format(\n",
        "                self.WORD_TO_VEC_MODEL_TXT_PATH\n",
        "            )\n",
        "        )\n",
        "        structure = [('word', np.dtype('U' + str(self.WORD_MAX_SIZE))),\n",
        "                     ('embedding', np.float32, (self.N_FEATURES,))]\n",
        "        structure = np.dtype(structure)\n",
        "        with open(self.WORD_TO_VEC_MODEL_TXT_PATH, encoding=\"utf8\") as words_embeddings_txt:\n",
        "            embeddings_gen = (\n",
        "                (line.split()[0], line.split()[1:]) for line in words_embeddings_txt\n",
        "                if len(line.split()[1:]) == self.N_FEATURES\n",
        "            )\n",
        "            embeddings = np.fromiter(embeddings_gen, structure)\n",
        "        null_embedding = np.array(\n",
        "            [('null_embedding', np.zeros((self.N_FEATURES,), dtype=np.float32))],\n",
        "            dtype=structure\n",
        "        )\n",
        "        embeddings = np.concatenate([embeddings, null_embedding])\n",
        "        max_bytes = 2 ** 28 - 1\n",
        "        bytes_out = pickle.dumps(embeddings, protocol=pickle.HIGHEST_PROTOCOL)\n",
        "        with open(self.PKL_PATH, 'wb') as f_out:\n",
        "            for idx in range(0, len(bytes_out), max_bytes):\n",
        "                f_out.write(bytes_out[idx:idx + max_bytes])\n",
        "        self.logger.debug('words embeddings loaded')\n",
        "        return embeddings\n",
        "\n",
        "\n",
        "class FasttextEmbeddings(WordsEmbeddings):\n",
        "    WORD_TO_VEC_MODEL_TXT_PATH = 'cc.en.300.vec'\n",
        "    PKL_PATH = 'fasttext.pkl'\n",
        "    N_FEATURES = 300\n",
        "    WORD_MAX_SIZE = 60"
      ],
      "metadata": {
        "id": "ZULuAjCtFpi8"
      },
      "execution_count": 25,
      "outputs": []
    },
    {
      "cell_type": "code",
      "source": [
        "model_embeddings = FasttextEmbeddings()"
      ],
      "metadata": {
        "id": "OOvT0slCFuVX"
      },
      "execution_count": 26,
      "outputs": []
    },
    {
      "cell_type": "code",
      "source": [
        "print('preparing embedding matrix...')\n",
        "embed_dim = model_embeddings.N_FEATURES\n",
        "words_not_found = []\n",
        "\n",
        "nb_words = min(MAX_VOCAB_SIZE, len(word2idx_inputs) + 1)\n",
        "embedding_matrix = np.zeros((nb_words, embed_dim))\n",
        "for word, i in word2idx_inputs.items():\n",
        "    if i >= nb_words:\n",
        "        continue\n",
        "    embedding_vector = model_embeddings.get_words_embeddings(word)[0]\n",
        "    if (embedding_vector is not None) and len(embedding_vector) > 0:\n",
        "        embedding_matrix[i] = embedding_vector\n",
        "    else:\n",
        "        words_not_found.append(word)\n",
        "\n",
        "print('number of null word embeddings:', np.sum(np.sum(embedding_matrix ** 2, axis=1) == 0))"
      ],
      "metadata": {
        "id": "7Jn0eX04Fwlj",
        "outputId": "e2c11d7c-d469-415a-8abd-e3731ccf6d7b",
        "colab": {
          "base_uri": "https://localhost:8080/"
        }
      },
      "execution_count": 27,
      "outputs": [
        {
          "output_type": "stream",
          "name": "stdout",
          "text": [
            "preparing embedding matrix...\n",
            "number of null word embeddings: 1\n"
          ]
        }
      ]
    },
    {
      "cell_type": "code",
      "source": [
        "embedding_matrix.shape"
      ],
      "metadata": {
        "id": "ZnglGA-UFyJU",
        "outputId": "89d59b05-1c20-4ebd-c1af-5d2f20c1a582",
        "colab": {
          "base_uri": "https://localhost:8080/"
        }
      },
      "execution_count": 28,
      "outputs": [
        {
          "output_type": "execute_result",
          "data": {
            "text/plain": [
              "(753, 300)"
            ]
          },
          "metadata": {},
          "execution_count": 28
        }
      ]
    },
    {
      "cell_type": "markdown",
      "metadata": {
        "id": "3vKbhjtIwPgM"
      },
      "source": [
        "### 4 - Entrenar el modelo\n",
        "Entrenar un modelo basado en el esquema encoder-decoder utilizando los datos generados en los puntos anteriores. Utilce como referencias los ejemplos vistos en clase."
      ]
    },
    {
      "cell_type": "code",
      "source": [
        "# define training encoder\n",
        "encoder_inputs = Input(shape=(max_input_len))\n",
        "\n",
        "encoder_embedding_layer = Embedding(\n",
        "    input_dim=nb_words,\n",
        "    output_dim=embed_dim,\n",
        "    input_length=max_input_len,\n",
        "    weights=[embedding_matrix],\n",
        "    trainable=False)\n",
        "\n",
        "encoder_inputs_x = encoder_embedding_layer(encoder_inputs)\n",
        "\n",
        "encoder = LSTM(N_UNITS,\n",
        "               return_state=True,\n",
        "               dropout=LSTM_DROPOUT,\n",
        "               )\n",
        "\n",
        "encoder_outputs, state_h, state_c = encoder(encoder_inputs_x)\n",
        "encoder_states = [state_h, state_c]\n",
        "\n",
        "# define training decoder\n",
        "decoder_inputs = Input(shape=(max_out_len))\n",
        "decoder_embedding_layer = Embedding(\n",
        "    input_dim=num_words_output,\n",
        "    output_dim=N_UNITS,\n",
        "    input_length=max_out_len)\n",
        "decoder_inputs_x = decoder_embedding_layer(decoder_inputs)\n",
        "\n",
        "decoder_lstm = LSTM(N_UNITS,\n",
        "                    return_sequences=True,\n",
        "                    return_state=True,\n",
        "                    dropout=LSTM_DROPOUT,\n",
        "                    )\n",
        "decoder_outputs, _, _ = decoder_lstm(decoder_inputs_x, initial_state=encoder_states)\n",
        "\n",
        "# Dense\n",
        "decoder_dense = Dense(num_words_output, activation='softmax')\n",
        "decoder_outputs = decoder_dense(decoder_outputs)\n",
        "model = Model([encoder_inputs, decoder_inputs], decoder_outputs)\n",
        "\n",
        "model.compile(loss='categorical_crossentropy', optimizer=\"Adam\", metrics=['accuracy'])\n",
        "model.summary()"
      ],
      "metadata": {
        "id": "vkfFc0i1JJ3g",
        "outputId": "1b8cda00-5531-44d6-c93f-a893aafdff79",
        "colab": {
          "base_uri": "https://localhost:8080/"
        }
      },
      "execution_count": 29,
      "outputs": [
        {
          "output_type": "stream",
          "name": "stdout",
          "text": [
            "Model: \"model\"\n",
            "__________________________________________________________________________________________________\n",
            " Layer (type)                Output Shape                 Param #   Connected to                  \n",
            "==================================================================================================\n",
            " input_1 (InputLayer)        [(None, 7)]                  0         []                            \n",
            "                                                                                                  \n",
            " input_2 (InputLayer)        [(None, 7)]                  0         []                            \n",
            "                                                                                                  \n",
            " embedding (Embedding)       (None, 7, 300)               225900    ['input_1[0][0]']             \n",
            "                                                                                                  \n",
            " embedding_1 (Embedding)     (None, 7, 128)               91520     ['input_2[0][0]']             \n",
            "                                                                                                  \n",
            " lstm (LSTM)                 [(None, 128),                219648    ['embedding[0][0]']           \n",
            "                              (None, 128),                                                        \n",
            "                              (None, 128)]                                                        \n",
            "                                                                                                  \n",
            " lstm_1 (LSTM)               [(None, 7, 128),             131584    ['embedding_1[0][0]',         \n",
            "                              (None, 128),                           'lstm[0][1]',                \n",
            "                              (None, 128)]                           'lstm[0][2]']                \n",
            "                                                                                                  \n",
            " dense (Dense)               (None, 7, 715)               92235     ['lstm_1[0][0]']              \n",
            "                                                                                                  \n",
            "==================================================================================================\n",
            "Total params: 760887 (2.90 MB)\n",
            "Trainable params: 534987 (2.04 MB)\n",
            "Non-trainable params: 225900 (882.42 KB)\n",
            "__________________________________________________________________________________________________\n"
          ]
        }
      ]
    },
    {
      "cell_type": "code",
      "source": [
        "plot_model(model, to_file='model_plot.png', show_shapes=True, show_layer_names=True)"
      ],
      "metadata": {
        "id": "QOAQRTmzM9Y5",
        "outputId": "9c418ce7-2dcc-4820-d930-99aa5562a139",
        "colab": {
          "base_uri": "https://localhost:8080/",
          "height": 533
        }
      },
      "execution_count": 30,
      "outputs": [
        {
          "output_type": "execute_result",
          "data": {
            "image/png": "[encoded data removed]",
            "text/plain": [
              "<IPython.core.display.Image object>"
            ]
          },
          "metadata": {},
          "execution_count": 30
        }
      ]
    },
    {
      "cell_type": "code",
      "source": [
        "encoder_model = Model(encoder_inputs, encoder_states)\n",
        "\n",
        "plot_model(encoder_model, to_file='encoder_plot.png', show_shapes=True, show_layer_names=True)"
      ],
      "metadata": {
        "id": "34xXA5fUJOpI",
        "outputId": "b084b9a2-0270-4237-dd5f-c6ba4b221334",
        "colab": {
          "base_uri": "https://localhost:8080/",
          "height": 312
        }
      },
      "execution_count": 31,
      "outputs": [
        {
          "output_type": "execute_result",
          "data": {
            "image/png": "[encoded data removed]",
            "text/plain": [
              "<IPython.core.display.Image object>"
            ]
          },
          "metadata": {},
          "execution_count": 31
        }
      ]
    },
    {
      "cell_type": "code",
      "source": [
        "decoder_state_input_h = Input(shape=(N_UNITS,))\n",
        "decoder_state_input_c = Input(shape=(N_UNITS,))\n",
        "decoder_states_inputs = [decoder_state_input_h, decoder_state_input_c]\n",
        "\n",
        "decoder_inputs_single = Input(shape=(1,))\n",
        "decoder_inputs_single_x = decoder_embedding_layer(decoder_inputs_single)\n",
        "\n",
        "decoder_outputs, state_h, state_c = decoder_lstm(decoder_inputs_single_x, initial_state=decoder_states_inputs)\n",
        "decoder_states = [state_h, state_c]\n",
        "decoder_outputs = decoder_dense(decoder_outputs)\n",
        "decoder_model = Model([decoder_inputs_single] + decoder_states_inputs, [decoder_outputs] + decoder_states)\n",
        "\n",
        "plot_model(decoder_model, to_file='decoder_plot.png', show_shapes=True, show_layer_names=True)"
      ],
      "metadata": {
        "id": "O1KnwofBJPFE",
        "outputId": "bf950372-c816-4056-fcb8-5e0148df3a2a",
        "colab": {
          "base_uri": "https://localhost:8080/",
          "height": 422
        }
      },
      "execution_count": 32,
      "outputs": [
        {
          "output_type": "execute_result",
          "data": {
            "image/png": "[encoded data removed]",
            "text/plain": [
              "<IPython.core.display.Image object>"
            ]
          },
          "metadata": {},
          "execution_count": 32
        }
      ]
    },
    {
      "cell_type": "code",
      "source": [
        "hist = model.fit(\n",
        "    [encoder_input_sequences, decoder_input_sequences],\n",
        "    decoder_targets,\n",
        "    epochs=EPOCHS,\n",
        "    validation_split=0.2,\n",
        "    )"
      ],
      "metadata": {
        "id": "qiA9qgUaJTAQ",
        "outputId": "5a172c21-992f-4c4d-9dc2-32b865c1e5f7",
        "colab": {
          "base_uri": "https://localhost:8080/"
        }
      },
      "execution_count": 33,
      "outputs": [
        {
          "output_type": "stream",
          "name": "stdout",
          "text": [
            "Epoch 1/45\n",
            "48/48 [==============================] - 24s 133ms/step - loss: 3.8805 - accuracy: 0.4579 - val_loss: 2.8547 - val_accuracy: 0.4691\n",
            "Epoch 2/45\n",
            "48/48 [==============================] - 1s 28ms/step - loss: 2.4231 - accuracy: 0.5097 - val_loss: 2.5063 - val_accuracy: 0.5486\n",
            "Epoch 3/45\n",
            "48/48 [==============================] - 1s 18ms/step - loss: 2.1437 - accuracy: 0.6039 - val_loss: 2.3489 - val_accuracy: 0.6288\n",
            "Epoch 4/45\n",
            "48/48 [==============================] - 1s 16ms/step - loss: 1.9999 - accuracy: 0.6388 - val_loss: 2.2995 - val_accuracy: 0.6307\n",
            "Epoch 5/45\n",
            "48/48 [==============================] - 1s 22ms/step - loss: 1.8929 - accuracy: 0.6488 - val_loss: 2.2383 - val_accuracy: 0.6430\n",
            "Epoch 6/45\n",
            "48/48 [==============================] - 1s 14ms/step - loss: 1.7765 - accuracy: 0.6735 - val_loss: 2.1787 - val_accuracy: 0.6554\n",
            "Epoch 7/45\n",
            "48/48 [==============================] - 1s 12ms/step - loss: 1.6614 - accuracy: 0.7092 - val_loss: 2.1177 - val_accuracy: 0.6644\n",
            "Epoch 8/45\n",
            "48/48 [==============================] - 1s 15ms/step - loss: 1.5713 - accuracy: 0.7210 - val_loss: 2.0877 - val_accuracy: 0.6659\n",
            "Epoch 9/45\n",
            "48/48 [==============================] - 1s 14ms/step - loss: 1.5108 - accuracy: 0.7228 - val_loss: 2.0573 - val_accuracy: 0.6730\n",
            "Epoch 10/45\n",
            "48/48 [==============================] - 1s 14ms/step - loss: 1.4662 - accuracy: 0.7305 - val_loss: 2.0446 - val_accuracy: 0.6764\n",
            "Epoch 11/45\n",
            "48/48 [==============================] - 1s 14ms/step - loss: 1.4314 - accuracy: 0.7324 - val_loss: 2.0299 - val_accuracy: 0.6783\n",
            "Epoch 12/45\n",
            "48/48 [==============================] - 1s 13ms/step - loss: 1.4017 - accuracy: 0.7328 - val_loss: 2.0188 - val_accuracy: 0.6775\n",
            "Epoch 13/45\n",
            "48/48 [==============================] - 0s 10ms/step - loss: 1.3766 - accuracy: 0.7355 - val_loss: 2.0081 - val_accuracy: 0.6783\n",
            "Epoch 14/45\n",
            "48/48 [==============================] - 0s 10ms/step - loss: 1.3514 - accuracy: 0.7362 - val_loss: 2.0095 - val_accuracy: 0.6794\n",
            "Epoch 15/45\n",
            "48/48 [==============================] - 0s 10ms/step - loss: 1.3298 - accuracy: 0.7381 - val_loss: 2.0081 - val_accuracy: 0.6798\n",
            "Epoch 16/45\n",
            "48/48 [==============================] - 0s 10ms/step - loss: 1.3092 - accuracy: 0.7412 - val_loss: 2.0001 - val_accuracy: 0.6817\n",
            "Epoch 17/45\n",
            "48/48 [==============================] - 0s 10ms/step - loss: 1.2895 - accuracy: 0.7439 - val_loss: 1.9995 - val_accuracy: 0.6832\n",
            "Epoch 18/45\n",
            "48/48 [==============================] - 0s 10ms/step - loss: 1.2715 - accuracy: 0.7450 - val_loss: 1.9994 - val_accuracy: 0.6862\n",
            "Epoch 19/45\n",
            "48/48 [==============================] - 1s 14ms/step - loss: 1.2538 - accuracy: 0.7469 - val_loss: 2.0042 - val_accuracy: 0.6873\n",
            "Epoch 20/45\n",
            "48/48 [==============================] - 0s 9ms/step - loss: 1.2371 - accuracy: 0.7491 - val_loss: 2.0053 - val_accuracy: 0.6880\n",
            "Epoch 21/45\n",
            "48/48 [==============================] - 1s 15ms/step - loss: 1.2197 - accuracy: 0.7510 - val_loss: 2.0024 - val_accuracy: 0.6877\n",
            "Epoch 22/45\n",
            "48/48 [==============================] - 1s 13ms/step - loss: 1.2040 - accuracy: 0.7520 - val_loss: 2.0131 - val_accuracy: 0.6895\n",
            "Epoch 23/45\n",
            "48/48 [==============================] - 0s 10ms/step - loss: 1.1880 - accuracy: 0.7538 - val_loss: 2.0160 - val_accuracy: 0.6903\n",
            "Epoch 24/45\n",
            "48/48 [==============================] - 0s 10ms/step - loss: 1.1721 - accuracy: 0.7551 - val_loss: 2.0115 - val_accuracy: 0.6892\n",
            "Epoch 25/45\n",
            "48/48 [==============================] - 0s 10ms/step - loss: 1.1565 - accuracy: 0.7571 - val_loss: 2.0080 - val_accuracy: 0.6907\n",
            "Epoch 26/45\n",
            "48/48 [==============================] - 1s 11ms/step - loss: 1.1422 - accuracy: 0.7581 - val_loss: 2.0122 - val_accuracy: 0.6918\n",
            "Epoch 27/45\n",
            "48/48 [==============================] - 0s 9ms/step - loss: 1.1275 - accuracy: 0.7600 - val_loss: 2.0176 - val_accuracy: 0.6895\n",
            "Epoch 28/45\n",
            "48/48 [==============================] - 1s 11ms/step - loss: 1.1129 - accuracy: 0.7601 - val_loss: 2.0205 - val_accuracy: 0.6922\n",
            "Epoch 29/45\n",
            "48/48 [==============================] - 1s 14ms/step - loss: 1.0999 - accuracy: 0.7616 - val_loss: 2.0291 - val_accuracy: 0.6922\n",
            "Epoch 30/45\n",
            "48/48 [==============================] - 1s 20ms/step - loss: 1.0863 - accuracy: 0.7633 - val_loss: 2.0239 - val_accuracy: 0.6925\n",
            "Epoch 31/45\n",
            "48/48 [==============================] - 1s 14ms/step - loss: 1.0734 - accuracy: 0.7623 - val_loss: 2.0378 - val_accuracy: 0.6937\n",
            "Epoch 32/45\n",
            "48/48 [==============================] - 1s 13ms/step - loss: 1.0610 - accuracy: 0.7648 - val_loss: 2.0338 - val_accuracy: 0.6937\n",
            "Epoch 33/45\n",
            "48/48 [==============================] - 1s 10ms/step - loss: 1.0486 - accuracy: 0.7667 - val_loss: 2.0446 - val_accuracy: 0.6940\n",
            "Epoch 34/45\n",
            "48/48 [==============================] - 0s 10ms/step - loss: 1.0364 - accuracy: 0.7691 - val_loss: 2.0498 - val_accuracy: 0.6952\n",
            "Epoch 35/45\n",
            "48/48 [==============================] - 0s 10ms/step - loss: 1.0231 - accuracy: 0.7698 - val_loss: 2.0420 - val_accuracy: 0.6922\n",
            "Epoch 36/45\n",
            "48/48 [==============================] - 0s 10ms/step - loss: 1.0124 - accuracy: 0.7695 - val_loss: 2.0611 - val_accuracy: 0.6974\n",
            "Epoch 37/45\n",
            "48/48 [==============================] - 1s 14ms/step - loss: 1.0011 - accuracy: 0.7710 - val_loss: 2.0562 - val_accuracy: 0.6959\n",
            "Epoch 38/45\n",
            "48/48 [==============================] - 0s 10ms/step - loss: 0.9913 - accuracy: 0.7706 - val_loss: 2.0612 - val_accuracy: 0.6963\n",
            "Epoch 39/45\n",
            "48/48 [==============================] - 1s 14ms/step - loss: 0.9792 - accuracy: 0.7737 - val_loss: 2.0775 - val_accuracy: 0.6944\n",
            "Epoch 40/45\n",
            "48/48 [==============================] - 0s 10ms/step - loss: 0.9687 - accuracy: 0.7746 - val_loss: 2.0730 - val_accuracy: 0.6955\n",
            "Epoch 41/45\n",
            "48/48 [==============================] - 0s 10ms/step - loss: 0.9587 - accuracy: 0.7774 - val_loss: 2.0725 - val_accuracy: 0.6948\n",
            "Epoch 42/45\n",
            "48/48 [==============================] - 0s 10ms/step - loss: 0.9468 - accuracy: 0.7805 - val_loss: 2.0772 - val_accuracy: 0.6955\n",
            "Epoch 43/45\n",
            "48/48 [==============================] - 0s 10ms/step - loss: 0.9375 - accuracy: 0.7811 - val_loss: 2.0854 - val_accuracy: 0.6937\n",
            "Epoch 44/45\n",
            "48/48 [==============================] - 1s 13ms/step - loss: 0.9269 - accuracy: 0.7831 - val_loss: 2.0868 - val_accuracy: 0.6963\n",
            "Epoch 45/45\n",
            "48/48 [==============================] - 1s 13ms/step - loss: 0.9145 - accuracy: 0.7852 - val_loss: 2.0980 - val_accuracy: 0.6944\n"
          ]
        }
      ]
    },
    {
      "cell_type": "code",
      "source": [
        "import seaborn as sns\n",
        "import matplotlib.pyplot as plt\n",
        "\n",
        "epoch_count = range(1, len(hist.history['accuracy']) + 1)\n",
        "sns.lineplot(x=epoch_count,  y=hist.history['accuracy'], label='train')\n",
        "sns.lineplot(x=epoch_count,  y=hist.history['val_accuracy'], label='valid')\n",
        "plt.show()"
      ],
      "metadata": {
        "id": "N2PVERebJTeM",
        "outputId": "c996dfb5-6dcc-49bb-9881-ac25446c9395",
        "colab": {
          "base_uri": "https://localhost:8080/",
          "height": 434
        }
      },
      "execution_count": 34,
      "outputs": [
        {
          "output_type": "display_data",
          "data": {
            "text/plain": [
              "<Figure size 640x480 with 1 Axes>"
            ],
            "image/png": "[encoded data removed]"
          },
          "metadata": {}
        }
      ]
    },
    {
      "cell_type": "markdown",
      "metadata": {
        "id": "Zbwn0ekDy_s2"
      },
      "source": [
        "### 5 - Inferencia\n",
        "Experimentar el funcionamiento de su modelo. Recuerde que debe realizar la inferencia de los modelos por separado de encoder y decoder."
      ]
    },
    {
      "cell_type": "code",
      "source": [
        "idx2word_input = {v:k for k, v in word2idx_inputs.items()}\n",
        "idx2word_target = {v:k for k, v in word2idx_outputs.items()}"
      ],
      "metadata": {
        "id": "iwFn0j3wBkE6"
      },
      "execution_count": 35,
      "outputs": []
    },
    {
      "cell_type": "code",
      "source": [
        "def answer_prompt(input_seq):\n",
        "    states_value = encoder_model.predict(input_seq)\n",
        "\n",
        "    target_seq = np.zeros((1, 1))\n",
        "    target_seq[0, 0] = word2idx_outputs['<sos>']\n",
        "\n",
        "    eos = word2idx_outputs['<eos>']\n",
        "\n",
        "    output_sentence = []\n",
        "    for _ in range(max_out_len):\n",
        "        output_tokens, h, c = decoder_model.predict([target_seq] + states_value)\n",
        "\n",
        "        idx = np.argmax(output_tokens[0, 0, :])\n",
        "\n",
        "        if eos == idx:\n",
        "            break\n",
        "\n",
        "        word = ''\n",
        "        if idx > 0:\n",
        "            word = idx2word_target[idx]\n",
        "            output_sentence.append(word)\n",
        "\n",
        "        states_value = [h, c]\n",
        "        target_seq[0, 0] = idx\n",
        "\n",
        "    return ' '.join(output_sentence)"
      ],
      "metadata": {
        "id": "wl6fvASxCgAH"
      },
      "execution_count": 36,
      "outputs": []
    },
    {
      "cell_type": "code",
      "source": [
        "i = np.random.choice(len(input_sentences))\n",
        "input_seq = encoder_input_sequences[i:i+1]\n",
        "translation = answer_prompt(input_seq)\n",
        "print('-')\n",
        "print('Input:', input_sentences[i])\n",
        "print('Response:', translation)"
      ],
      "metadata": {
        "colab": {
          "base_uri": "https://localhost:8080/"
        },
        "id": "BK-xMA2UB9Zw",
        "outputId": "bfd43082-e631-4538-a132-1abb525e5244"
      },
      "execution_count": 37,
      "outputs": [
        {
          "output_type": "stream",
          "name": "stdout",
          "text": [
            "1/1 [==============================] - 0s 371ms/step\n",
            "1/1 [==============================] - 0s 358ms/step\n",
            "1/1 [==============================] - 0s 22ms/step\n",
            "1/1 [==============================] - 0s 22ms/step\n",
            "1/1 [==============================] - 0s 21ms/step\n",
            "1/1 [==============================] - 0s 19ms/step\n",
            "-\n",
            "Input: okay\n",
            "Response: i love to read\n"
          ]
        }
      ]
    },
    {
      "cell_type": "code",
      "source": [
        "input_test = \"Do you read?\"\n",
        "print('Input:', input_test)\n",
        "integer_seq_test = input_tokenizer.texts_to_sequences([input_test])[0]\n",
        "print(\"Representacion en vector de tokens de ids\", integer_seq_test)\n",
        "encoder_sequence_test = pad_sequences([integer_seq_test], maxlen=max_input_len)\n",
        "print(\"Padding del vector:\", encoder_sequence_test)\n",
        "\n",
        "print('Input:', input_test)\n",
        "translation = answer_prompt(encoder_sequence_test)\n",
        "print('Response:', translation)"
      ],
      "metadata": {
        "colab": {
          "base_uri": "https://localhost:8080/"
        },
        "id": "47C0kK2auzh5",
        "outputId": "a456198e-560c-4b3e-f364-b30d71c2b5d8"
      },
      "execution_count": 38,
      "outputs": [
        {
          "output_type": "stream",
          "name": "stdout",
          "text": [
            "Input: Do you read?\n",
            "Representacion en vector de tokens de ids [9, 2, 12]\n",
            "Padding del vector: [[ 0  0  0  0  9  2 12]]\n",
            "Input: Do you read?\n",
            "1/1 [==============================] - 0s 19ms/step\n",
            "1/1 [==============================] - 0s 21ms/step\n",
            "1/1 [==============================] - 0s 21ms/step\n",
            "Response: yes\n"
          ]
        }
      ]
    },
    {
      "cell_type": "code",
      "source": [
        "input_test = 'Do you have any pet?'\n",
        "print('Input:', input_test)\n",
        "integer_seq_test = input_tokenizer.texts_to_sequences([input_test])[0]\n",
        "print(\"Representacion en vector de tokens de ids\", integer_seq_test)\n",
        "encoder_sequence_test = pad_sequences([integer_seq_test], maxlen=max_input_len)\n",
        "print(\"Padding del vector:\", encoder_sequence_test)\n",
        "\n",
        "print('Input:', input_test)\n",
        "translation = answer_prompt(encoder_sequence_test)\n",
        "print('Response:', translation)"
      ],
      "metadata": {
        "id": "yw3Apy_HH2uL",
        "outputId": "4dbf7c4f-0c7e-484e-ef46-06723ee4c411",
        "colab": {
          "base_uri": "https://localhost:8080/"
        }
      },
      "execution_count": 39,
      "outputs": [
        {
          "output_type": "stream",
          "name": "stdout",
          "text": [
            "Input: Do you have any pet?\n",
            "Representacion en vector de tokens de ids [9, 2, 24, 107, 347]\n",
            "Padding del vector: [[  0   0   9   2  24 107 347]]\n",
            "Input: Do you have any pet?\n",
            "1/1 [==============================] - 0s 18ms/step\n",
            "1/1 [==============================] - 0s 20ms/step\n",
            "1/1 [==============================] - 0s 21ms/step\n",
            "1/1 [==============================] - 0s 21ms/step\n",
            "1/1 [==============================] - 0s 22ms/step\n",
            "1/1 [==============================] - 0s 29ms/step\n",
            "Response: i am a student\n"
          ]
        }
      ]
    },
    {
      "cell_type": "code",
      "source": [
        "input_test = 'Where are you from?'\n",
        "print('Input:', input_test)\n",
        "integer_seq_test = input_tokenizer.texts_to_sequences([input_test])[0]\n",
        "print(\"Representacion en vector de tokens de ids\", integer_seq_test)\n",
        "encoder_sequence_test = pad_sequences([integer_seq_test], maxlen=max_input_len)\n",
        "print(\"Padding del vector:\", encoder_sequence_test)\n",
        "\n",
        "print('Input:', input_test)\n",
        "translation = answer_prompt(encoder_sequence_test)\n",
        "print('Response:', translation)"
      ],
      "metadata": {
        "id": "sOZqZDvwH5Vf",
        "outputId": "a98be060-8c39-4f44-9639-f077835409c9",
        "colab": {
          "base_uri": "https://localhost:8080/"
        }
      },
      "execution_count": 40,
      "outputs": [
        {
          "output_type": "stream",
          "name": "stdout",
          "text": [
            "Input: Where are you from?\n",
            "Representacion en vector de tokens de ids [29, 4, 2, 40]\n",
            "Padding del vector: [[ 0  0  0 29  4  2 40]]\n",
            "Input: Where are you from?\n",
            "1/1 [==============================] - 0s 18ms/step\n",
            "1/1 [==============================] - 0s 27ms/step\n",
            "1/1 [==============================] - 0s 22ms/step\n",
            "1/1 [==============================] - 0s 23ms/step\n",
            "1/1 [==============================] - 0s 22ms/step\n",
            "1/1 [==============================] - 0s 21ms/step\n",
            "Response: i am a female\n"
          ]
        }
      ]
    },
    {
      "cell_type": "code",
      "source": [
        "input_test = 'Who are you?'\n",
        "print('Input:', input_test)\n",
        "integer_seq_test = input_tokenizer.texts_to_sequences([input_test])[0]\n",
        "print(\"Representacion en vector de tokens de ids\", integer_seq_test)\n",
        "encoder_sequence_test = pad_sequences([integer_seq_test], maxlen=max_input_len)\n",
        "print(\"Padding del vector:\", encoder_sequence_test)\n",
        "\n",
        "print('Input:', input_test)\n",
        "translation = answer_prompt(encoder_sequence_test)\n",
        "print('Response:', translation)"
      ],
      "metadata": {
        "id": "P2gP14ZORAWq",
        "outputId": "589d6c72-6e88-4fac-cda7-cac11d21a720",
        "colab": {
          "base_uri": "https://localhost:8080/"
        }
      },
      "execution_count": 42,
      "outputs": [
        {
          "output_type": "stream",
          "name": "stdout",
          "text": [
            "Input: Who are you?\n",
            "Representacion en vector de tokens de ids [125, 4, 2]\n",
            "Padding del vector: [[  0   0   0   0 125   4   2]]\n",
            "Input: Who are you?\n",
            "1/1 [==============================] - 0s 18ms/step\n",
            "1/1 [==============================] - 0s 19ms/step\n",
            "1/1 [==============================] - 0s 22ms/step\n",
            "1/1 [==============================] - 0s 20ms/step\n",
            "1/1 [==============================] - 0s 20ms/step\n",
            "1/1 [==============================] - 0s 24ms/step\n",
            "Response: i am a female\n"
          ]
        }
      ]
    },
    {
      "cell_type": "code",
      "source": [
        "input_test = 'How are you?'\n",
        "print('Input:', input_test)\n",
        "integer_seq_test = input_tokenizer.texts_to_sequences([input_test])[0]\n",
        "print(\"Representacion en vector de tokens de ids\", integer_seq_test)\n",
        "encoder_sequence_test = pad_sequences([integer_seq_test], maxlen=max_input_len)\n",
        "print(\"Padding del vector:\", encoder_sequence_test)\n",
        "\n",
        "print('Input:', input_test)\n",
        "translation = answer_prompt(encoder_sequence_test)\n",
        "print('Response:', translation)"
      ],
      "metadata": {
        "id": "oSqEeUfmH7VO",
        "outputId": "9f3d046e-ad9b-4739-bb1f-679487362a3d",
        "colab": {
          "base_uri": "https://localhost:8080/"
        }
      },
      "execution_count": 41,
      "outputs": [
        {
          "output_type": "stream",
          "name": "stdout",
          "text": [
            "Input: How are you?\n",
            "Representacion en vector de tokens de ids [8, 4, 2]\n",
            "Padding del vector: [[0 0 0 0 8 4 2]]\n",
            "Input: How are you?\n",
            "1/1 [==============================] - 0s 21ms/step\n",
            "1/1 [==============================] - 0s 19ms/step\n",
            "1/1 [==============================] - 0s 23ms/step\n",
            "1/1 [==============================] - 0s 26ms/step\n",
            "1/1 [==============================] - 0s 19ms/step\n",
            "Response: i m fine\n"
          ]
        }
      ]
    },
    {
      "cell_type": "markdown",
      "source": [
        "## Conclusion\n",
        "\n",
        "Las preguntas que no estan asociadas a una persona como \"do you read?\" o \"how are you?\" obtienen buenos resultados, aunque realmente genericos.\n",
        "\n",
        "Cuando la pregunta ya esta asociada con cuestiones propias de una persona, como \"where are you from?\", \"do you have any pet?\" o \"who are you?\" devuelve resultados que no serian propios de una conversacion normal.\n",
        "\n",
        "Por lo observado, dataset parece ser demasiado simple y abstracto como para que pueda arrojar mejores resultados que los obtenido. El resultado es un chatbot bastante pobre.\n",
        "\n"
      ],
      "metadata": {
        "id": "iKUcHeBkQYiY"
      }
    }
  ],
  "metadata": {
    "accelerator": "GPU",
    "colab": {
      "provenance": []
    },
    "kernelspec": {
      "display_name": "Python 3.10.6 64-bit",
      "language": "python",
      "name": "python3"
    },
    "language_info": {
      "name": "python",
      "version": "3.10.6"
    },
    "vscode": {
      "interpreter": {
        "hash": "916dbcbb3f70747c44a77c7bcd40155683ae19c65e1c03b4aa3499c5328201f1"
      }
    }
  },
  "nbformat": 4,
  "nbformat_minor": 0
}