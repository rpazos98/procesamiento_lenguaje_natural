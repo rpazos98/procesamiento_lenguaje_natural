{
  "cells": [
    {
      "cell_type": "markdown",
      "metadata": {
        "id": "kBLpTr7plguX"
      },
      "source": [
        "<img src=\"https://github.com/hernancontigiani/ceia_memorias_especializacion/raw/master/Figures/logoFIUBA.jpg\" width=\"500\" align=\"center\">\n",
        "\n",
        "\n",
        "# Procesamiento de lenguaje natural\n",
        "## Sentiment analysis con Embeddings + LSTM"
      ]
    },
    {
      "cell_type": "markdown",
      "metadata": {
        "id": "9W6nuajhlqZD"
      },
      "source": [
        "### Objetivo\n",
        "El objetivo es utilizar las críticas de compradores de ropa para que el sistema determine la evaluación del comprador y su crítica (cuantas estrellas le asigna al producto)."
      ]
    },
    {
      "cell_type": "code",
      "execution_count": 1,
      "metadata": {
        "id": "i6zvzv3qZ6xS",
        "colab": {
          "base_uri": "https://localhost:8080/"
        },
        "outputId": "2025837e-a08a-4487-8ca1-06cbf4dc3e9e"
      },
      "outputs": [
        {
          "output_type": "stream",
          "name": "stdout",
          "text": [
            "Requirement already satisfied: np_utils in /usr/local/lib/python3.10/dist-packages (0.6.0)\n",
            "Requirement already satisfied: numpy>=1.0 in /usr/local/lib/python3.10/dist-packages (from np_utils) (1.23.5)\n"
          ]
        }
      ],
      "source": [
        "! pip install --upgrade --no-cache-dir gdown --quiet\n",
        "! pip install np_utils"
      ]
    },
    {
      "cell_type": "code",
      "execution_count": 2,
      "metadata": {
        "id": "hCpOVzJdl8_p"
      },
      "outputs": [],
      "source": [
        "import numpy as np\n",
        "import random\n",
        "import io\n",
        "import pickle\n",
        "import pandas as pd\n",
        "\n",
        "import matplotlib.pyplot as plt\n",
        "import seaborn as sns\n",
        "\n",
        "import tensorflow as tf\n",
        "from tensorflow import keras\n",
        "from tensorflow.keras import layers\n",
        "\n",
        "from tensorflow.keras.utils import to_categorical\n",
        "from tensorflow.keras.utils import pad_sequences\n",
        "from keras.models import Sequential\n",
        "from keras.layers import Dense\n",
        "from keras.layers import LSTM\n",
        "from keras.layers import Embedding"
      ]
    },
    {
      "cell_type": "markdown",
      "metadata": {
        "id": "8UPeRkrAmbF3"
      },
      "source": [
        "### Datos\n",
        "Utilizaremos como dataset críticas de compradores de ropa (eCommerce) los cuales puntuaron a cada prenda con un puntaje de 1 a 5 estrellas.\\\n",
        "Referencia del dataset: [LINK](https://www.kaggle.com/nicapotato/womens-ecommerce-clothing-reviews/version/1)"
      ]
    },
    {
      "cell_type": "code",
      "execution_count": 3,
      "metadata": {
        "id": "C7jLvTU3lSyL",
        "colab": {
          "base_uri": "https://localhost:8080/"
        },
        "outputId": "ac473b4e-0a1d-45e1-9109-1a261f91a0e2"
      },
      "outputs": [
        {
          "output_type": "stream",
          "name": "stdout",
          "text": [
            "El dataset ya se encuentra descargado\n"
          ]
        }
      ],
      "source": [
        "# Descargar la carpeta de dataset\n",
        "import os\n",
        "import gdown\n",
        "if os.access('clothing_ecommerce_reviews.csv', os.F_OK) is False:\n",
        "    url = 'https://drive.google.com/uc?id=1Urn1UFSrodN5BuW6-sc_igtaySGRwhV8'\n",
        "    output = 'clothing_ecommerce_reviews.csv'\n",
        "    gdown.download(url, output, quiet=False)\n",
        "else:\n",
        "    print(\"El dataset ya se encuentra descargado\")"
      ]
    },
    {
      "cell_type": "code",
      "execution_count": 4,
      "metadata": {
        "id": "o-SV1P3dnD1J",
        "colab": {
          "base_uri": "https://localhost:8080/",
          "height": 206
        },
        "outputId": "f830c0e8-9e95-4b89-9ef1-001d8ab76314"
      },
      "outputs": [
        {
          "output_type": "execute_result",
          "data": {
            "text/plain": [
              "   Clothing ID  Age                    Title  \\\n",
              "0          767   33                      NaN   \n",
              "1         1080   34                      NaN   \n",
              "2         1077   60  Some major design flaws   \n",
              "3         1049   50         My favorite buy!   \n",
              "4          847   47         Flattering shirt   \n",
              "\n",
              "                                         Review Text  Rating  Recommended IND  \\\n",
              "0  Absolutely wonderful - silky and sexy and comf...       4                1   \n",
              "1  Love this dress!  it's sooo pretty.  i happene...       5                1   \n",
              "2  I had such high hopes for this dress and reall...       3                0   \n",
              "3  I love, love, love this jumpsuit. it's fun, fl...       5                1   \n",
              "4  This shirt is very flattering to all due to th...       5                1   \n",
              "\n",
              "   Positive Feedback Count   Division Name Department Name Class Name  \n",
              "0                        0       Initmates        Intimate  Intimates  \n",
              "1                        4         General         Dresses    Dresses  \n",
              "2                        0         General         Dresses    Dresses  \n",
              "3                        0  General Petite         Bottoms      Pants  \n",
              "4                        6         General            Tops    Blouses  "
            ],
            "text/html": [
              "\n",
              "  <div id=\"df-d6d35da5-1af4-46ea-93e1-cab8aee3cb95\" class=\"colab-df-container\">\n",
              "    <div>\n",
              "<style scoped>\n",
              "    .dataframe tbody tr th:only-of-type {\n",
              "        vertical-align: middle;\n",
              "    }\n",
              "\n",
              "    .dataframe tbody tr th {\n",
              "        vertical-align: top;\n",
              "    }\n",
              "\n",
              "    .dataframe thead th {\n",
              "        text-align: right;\n",
              "    }\n",
              "</style>\n",
              "<table border=\"1\" class=\"dataframe\">\n",
              "  <thead>\n",
              "    <tr style=\"text-align: right;\">\n",
              "      <th></th>\n",
              "      <th>Clothing ID</th>\n",
              "      <th>Age</th>\n",
              "      <th>Title</th>\n",
              "      <th>Review Text</th>\n",
              "      <th>Rating</th>\n",
              "      <th>Recommended IND</th>\n",
              "      <th>Positive Feedback Count</th>\n",
              "      <th>Division Name</th>\n",
              "      <th>Department Name</th>\n",
              "      <th>Class Name</th>\n",
              "    </tr>\n",
              "  </thead>\n",
              "  <tbody>\n",
              "    <tr>\n",
              "      <th>0</th>\n",
              "      <td>767</td>\n",
              "      <td>33</td>\n",
              "      <td>NaN</td>\n",
              "      <td>Absolutely wonderful - silky and sexy and comf...</td>\n",
              "      <td>4</td>\n",
              "      <td>1</td>\n",
              "      <td>0</td>\n",
              "      <td>Initmates</td>\n",
              "      <td>Intimate</td>\n",
              "      <td>Intimates</td>\n",
              "    </tr>\n",
              "    <tr>\n",
              "      <th>1</th>\n",
              "      <td>1080</td>\n",
              "      <td>34</td>\n",
              "      <td>NaN</td>\n",
              "      <td>Love this dress!  it's sooo pretty.  i happene...</td>\n",
              "      <td>5</td>\n",
              "      <td>1</td>\n",
              "      <td>4</td>\n",
              "      <td>General</td>\n",
              "      <td>Dresses</td>\n",
              "      <td>Dresses</td>\n",
              "    </tr>\n",
              "    <tr>\n",
              "      <th>2</th>\n",
              "      <td>1077</td>\n",
              "      <td>60</td>\n",
              "      <td>Some major design flaws</td>\n",
              "      <td>I had such high hopes for this dress and reall...</td>\n",
              "      <td>3</td>\n",
              "      <td>0</td>\n",
              "      <td>0</td>\n",
              "      <td>General</td>\n",
              "      <td>Dresses</td>\n",
              "      <td>Dresses</td>\n",
              "    </tr>\n",
              "    <tr>\n",
              "      <th>3</th>\n",
              "      <td>1049</td>\n",
              "      <td>50</td>\n",
              "      <td>My favorite buy!</td>\n",
              "      <td>I love, love, love this jumpsuit. it's fun, fl...</td>\n",
              "      <td>5</td>\n",
              "      <td>1</td>\n",
              "      <td>0</td>\n",
              "      <td>General Petite</td>\n",
              "      <td>Bottoms</td>\n",
              "      <td>Pants</td>\n",
              "    </tr>\n",
              "    <tr>\n",
              "      <th>4</th>\n",
              "      <td>847</td>\n",
              "      <td>47</td>\n",
              "      <td>Flattering shirt</td>\n",
              "      <td>This shirt is very flattering to all due to th...</td>\n",
              "      <td>5</td>\n",
              "      <td>1</td>\n",
              "      <td>6</td>\n",
              "      <td>General</td>\n",
              "      <td>Tops</td>\n",
              "      <td>Blouses</td>\n",
              "    </tr>\n",
              "  </tbody>\n",
              "</table>\n",
              "</div>\n",
              "    <div class=\"colab-df-buttons\">\n",
              "\n",
              "  <div class=\"colab-df-container\">\n",
              "    <button class=\"colab-df-convert\" onclick=\"convertToInteractive('df-d6d35da5-1af4-46ea-93e1-cab8aee3cb95')\"\n",
              "            title=\"Convert this dataframe to an interactive table.\"\n",
              "            style=\"display:none;\">\n",
              "\n",
              "  <svg xmlns=\"http://www.w3.org/2000/svg\" height=\"24px\" viewBox=\"0 -960 960 960\">\n",
              "    <path d=\"M120-120v-720h720v720H120Zm60-500h600v-160H180v160Zm220 220h160v-160H400v160Zm0 220h160v-160H400v160ZM180-400h160v-160H180v160Zm440 0h160v-160H620v160ZM180-180h160v-160H180v160Zm440 0h160v-160H620v160Z\"/>\n",
              "  </svg>\n",
              "    </button>\n",
              "\n",
              "  <style>\n",
              "    .colab-df-container {\n",
              "      display:flex;\n",
              "      gap: 12px;\n",
              "    }\n",
              "\n",
              "    .colab-df-convert {\n",
              "      background-color: #E8F0FE;\n",
              "      border: none;\n",
              "      border-radius: 50%;\n",
              "      cursor: pointer;\n",
              "      display: none;\n",
              "      fill: #1967D2;\n",
              "      height: 32px;\n",
              "      padding: 0 0 0 0;\n",
              "      width: 32px;\n",
              "    }\n",
              "\n",
              "    .colab-df-convert:hover {\n",
              "      background-color: #E2EBFA;\n",
              "      box-shadow: 0px 1px 2px rgba(60, 64, 67, 0.3), 0px 1px 3px 1px rgba(60, 64, 67, 0.15);\n",
              "      fill: #174EA6;\n",
              "    }\n",
              "\n",
              "    .colab-df-buttons div {\n",
              "      margin-bottom: 4px;\n",
              "    }\n",
              "\n",
              "    [theme=dark] .colab-df-convert {\n",
              "      background-color: #3B4455;\n",
              "      fill: #D2E3FC;\n",
              "    }\n",
              "\n",
              "    [theme=dark] .colab-df-convert:hover {\n",
              "      background-color: #434B5C;\n",
              "      box-shadow: 0px 1px 3px 1px rgba(0, 0, 0, 0.15);\n",
              "      filter: drop-shadow(0px 1px 2px rgba(0, 0, 0, 0.3));\n",
              "      fill: #FFFFFF;\n",
              "    }\n",
              "  </style>\n",
              "\n",
              "    <script>\n",
              "      const buttonEl =\n",
              "        document.querySelector('#df-d6d35da5-1af4-46ea-93e1-cab8aee3cb95 button.colab-df-convert');\n",
              "      buttonEl.style.display =\n",
              "        google.colab.kernel.accessAllowed ? 'block' : 'none';\n",
              "\n",
              "      async function convertToInteractive(key) {\n",
              "        const element = document.querySelector('#df-d6d35da5-1af4-46ea-93e1-cab8aee3cb95');\n",
              "        const dataTable =\n",
              "          await google.colab.kernel.invokeFunction('convertToInteractive',\n",
              "                                                    [key], {});\n",
              "        if (!dataTable) return;\n",
              "\n",
              "        const docLinkHtml = 'Like what you see? Visit the ' +\n",
              "          '<a target=\"_blank\" href=https://colab.research.google.com/notebooks/data_table.ipynb>data table notebook</a>'\n",
              "          + ' to learn more about interactive tables.';\n",
              "        element.innerHTML = '';\n",
              "        dataTable['output_type'] = 'display_data';\n",
              "        await google.colab.output.renderOutput(dataTable, element);\n",
              "        const docLink = document.createElement('div');\n",
              "        docLink.innerHTML = docLinkHtml;\n",
              "        element.appendChild(docLink);\n",
              "      }\n",
              "    </script>\n",
              "  </div>\n",
              "\n",
              "\n",
              "<div id=\"df-42aeb212-5bae-44d0-8fad-bacaf62ac727\">\n",
              "  <button class=\"colab-df-quickchart\" onclick=\"quickchart('df-42aeb212-5bae-44d0-8fad-bacaf62ac727')\"\n",
              "            title=\"Suggest charts.\"\n",
              "            style=\"display:none;\">\n",
              "\n",
              "<svg xmlns=\"http://www.w3.org/2000/svg\" height=\"24px\"viewBox=\"0 0 24 24\"\n",
              "     width=\"24px\">\n",
              "    <g>\n",
              "        <path d=\"M19 3H5c-1.1 0-2 .9-2 2v14c0 1.1.9 2 2 2h14c1.1 0 2-.9 2-2V5c0-1.1-.9-2-2-2zM9 17H7v-7h2v7zm4 0h-2V7h2v10zm4 0h-2v-4h2v4z\"/>\n",
              "    </g>\n",
              "</svg>\n",
              "  </button>\n",
              "\n",
              "<style>\n",
              "  .colab-df-quickchart {\n",
              "      --bg-color: #E8F0FE;\n",
              "      --fill-color: #1967D2;\n",
              "      --hover-bg-color: #E2EBFA;\n",
              "      --hover-fill-color: #174EA6;\n",
              "      --disabled-fill-color: #AAA;\n",
              "      --disabled-bg-color: #DDD;\n",
              "  }\n",
              "\n",
              "  [theme=dark] .colab-df-quickchart {\n",
              "      --bg-color: #3B4455;\n",
              "      --fill-color: #D2E3FC;\n",
              "      --hover-bg-color: #434B5C;\n",
              "      --hover-fill-color: #FFFFFF;\n",
              "      --disabled-bg-color: #3B4455;\n",
              "      --disabled-fill-color: #666;\n",
              "  }\n",
              "\n",
              "  .colab-df-quickchart {\n",
              "    background-color: var(--bg-color);\n",
              "    border: none;\n",
              "    border-radius: 50%;\n",
              "    cursor: pointer;\n",
              "    display: none;\n",
              "    fill: var(--fill-color);\n",
              "    height: 32px;\n",
              "    padding: 0;\n",
              "    width: 32px;\n",
              "  }\n",
              "\n",
              "  .colab-df-quickchart:hover {\n",
              "    background-color: var(--hover-bg-color);\n",
              "    box-shadow: 0 1px 2px rgba(60, 64, 67, 0.3), 0 1px 3px 1px rgba(60, 64, 67, 0.15);\n",
              "    fill: var(--button-hover-fill-color);\n",
              "  }\n",
              "\n",
              "  .colab-df-quickchart-complete:disabled,\n",
              "  .colab-df-quickchart-complete:disabled:hover {\n",
              "    background-color: var(--disabled-bg-color);\n",
              "    fill: var(--disabled-fill-color);\n",
              "    box-shadow: none;\n",
              "  }\n",
              "\n",
              "  .colab-df-spinner {\n",
              "    border: 2px solid var(--fill-color);\n",
              "    border-color: transparent;\n",
              "    border-bottom-color: var(--fill-color);\n",
              "    animation:\n",
              "      spin 1s steps(1) infinite;\n",
              "  }\n",
              "\n",
              "  @keyframes spin {\n",
              "    0% {\n",
              "      border-color: transparent;\n",
              "      border-bottom-color: var(--fill-color);\n",
              "      border-left-color: var(--fill-color);\n",
              "    }\n",
              "    20% {\n",
              "      border-color: transparent;\n",
              "      border-left-color: var(--fill-color);\n",
              "      border-top-color: var(--fill-color);\n",
              "    }\n",
              "    30% {\n",
              "      border-color: transparent;\n",
              "      border-left-color: var(--fill-color);\n",
              "      border-top-color: var(--fill-color);\n",
              "      border-right-color: var(--fill-color);\n",
              "    }\n",
              "    40% {\n",
              "      border-color: transparent;\n",
              "      border-right-color: var(--fill-color);\n",
              "      border-top-color: var(--fill-color);\n",
              "    }\n",
              "    60% {\n",
              "      border-color: transparent;\n",
              "      border-right-color: var(--fill-color);\n",
              "    }\n",
              "    80% {\n",
              "      border-color: transparent;\n",
              "      border-right-color: var(--fill-color);\n",
              "      border-bottom-color: var(--fill-color);\n",
              "    }\n",
              "    90% {\n",
              "      border-color: transparent;\n",
              "      border-bottom-color: var(--fill-color);\n",
              "    }\n",
              "  }\n",
              "</style>\n",
              "\n",
              "  <script>\n",
              "    async function quickchart(key) {\n",
              "      const quickchartButtonEl =\n",
              "        document.querySelector('#' + key + ' button');\n",
              "      quickchartButtonEl.disabled = true;  // To prevent multiple clicks.\n",
              "      quickchartButtonEl.classList.add('colab-df-spinner');\n",
              "      try {\n",
              "        const charts = await google.colab.kernel.invokeFunction(\n",
              "            'suggestCharts', [key], {});\n",
              "      } catch (error) {\n",
              "        console.error('Error during call to suggestCharts:', error);\n",
              "      }\n",
              "      quickchartButtonEl.classList.remove('colab-df-spinner');\n",
              "      quickchartButtonEl.classList.add('colab-df-quickchart-complete');\n",
              "    }\n",
              "    (() => {\n",
              "      let quickchartButtonEl =\n",
              "        document.querySelector('#df-42aeb212-5bae-44d0-8fad-bacaf62ac727 button');\n",
              "      quickchartButtonEl.style.display =\n",
              "        google.colab.kernel.accessAllowed ? 'block' : 'none';\n",
              "    })();\n",
              "  </script>\n",
              "</div>\n",
              "    </div>\n",
              "  </div>\n"
            ]
          },
          "metadata": {},
          "execution_count": 4
        }
      ],
      "source": [
        "# Armar el dataset\n",
        "df = pd.read_csv('clothing_ecommerce_reviews.csv')\n",
        "df.drop(columns = ['Unnamed: 0'], inplace = True)\n",
        "df.head()"
      ]
    },
    {
      "cell_type": "markdown",
      "metadata": {
        "id": "q-OwSePKm-FK"
      },
      "source": [
        "### 1 - Limpieza de datos\n",
        "Alumno:\n",
        "- Del dataset unicamente utilizar las columnas \"Review Text\" y \"Rating.\n",
        "- Tranformar el rating 1-5 a una escala numérica de 0 a 4.\n",
        "\n"
      ]
    },
    {
      "cell_type": "code",
      "execution_count": 5,
      "metadata": {
        "id": "-hc7-AmYnPC3",
        "colab": {
          "base_uri": "https://localhost:8080/",
          "height": 206
        },
        "outputId": "610725ab-ab4c-49b4-96b5-a4280de6837e"
      },
      "outputs": [
        {
          "output_type": "execute_result",
          "data": {
            "text/plain": [
              "                                         Review Text  Rating\n",
              "0  Absolutely wonderful - silky and sexy and comf...       3\n",
              "1  Love this dress!  it's sooo pretty.  i happene...       4\n",
              "2  I had such high hopes for this dress and reall...       2\n",
              "3  I love, love, love this jumpsuit. it's fun, fl...       4\n",
              "4  This shirt is very flattering to all due to th...       4"
            ],
            "text/html": [
              "\n",
              "  <div id=\"df-53bbb4d3-05af-4e9a-bd35-a351a6b89254\" class=\"colab-df-container\">\n",
              "    <div>\n",
              "<style scoped>\n",
              "    .dataframe tbody tr th:only-of-type {\n",
              "        vertical-align: middle;\n",
              "    }\n",
              "\n",
              "    .dataframe tbody tr th {\n",
              "        vertical-align: top;\n",
              "    }\n",
              "\n",
              "    .dataframe thead th {\n",
              "        text-align: right;\n",
              "    }\n",
              "</style>\n",
              "<table border=\"1\" class=\"dataframe\">\n",
              "  <thead>\n",
              "    <tr style=\"text-align: right;\">\n",
              "      <th></th>\n",
              "      <th>Review Text</th>\n",
              "      <th>Rating</th>\n",
              "    </tr>\n",
              "  </thead>\n",
              "  <tbody>\n",
              "    <tr>\n",
              "      <th>0</th>\n",
              "      <td>Absolutely wonderful - silky and sexy and comf...</td>\n",
              "      <td>3</td>\n",
              "    </tr>\n",
              "    <tr>\n",
              "      <th>1</th>\n",
              "      <td>Love this dress!  it's sooo pretty.  i happene...</td>\n",
              "      <td>4</td>\n",
              "    </tr>\n",
              "    <tr>\n",
              "      <th>2</th>\n",
              "      <td>I had such high hopes for this dress and reall...</td>\n",
              "      <td>2</td>\n",
              "    </tr>\n",
              "    <tr>\n",
              "      <th>3</th>\n",
              "      <td>I love, love, love this jumpsuit. it's fun, fl...</td>\n",
              "      <td>4</td>\n",
              "    </tr>\n",
              "    <tr>\n",
              "      <th>4</th>\n",
              "      <td>This shirt is very flattering to all due to th...</td>\n",
              "      <td>4</td>\n",
              "    </tr>\n",
              "  </tbody>\n",
              "</table>\n",
              "</div>\n",
              "    <div class=\"colab-df-buttons\">\n",
              "\n",
              "  <div class=\"colab-df-container\">\n",
              "    <button class=\"colab-df-convert\" onclick=\"convertToInteractive('df-53bbb4d3-05af-4e9a-bd35-a351a6b89254')\"\n",
              "            title=\"Convert this dataframe to an interactive table.\"\n",
              "            style=\"display:none;\">\n",
              "\n",
              "  <svg xmlns=\"http://www.w3.org/2000/svg\" height=\"24px\" viewBox=\"0 -960 960 960\">\n",
              "    <path d=\"M120-120v-720h720v720H120Zm60-500h600v-160H180v160Zm220 220h160v-160H400v160Zm0 220h160v-160H400v160ZM180-400h160v-160H180v160Zm440 0h160v-160H620v160ZM180-180h160v-160H180v160Zm440 0h160v-160H620v160Z\"/>\n",
              "  </svg>\n",
              "    </button>\n",
              "\n",
              "  <style>\n",
              "    .colab-df-container {\n",
              "      display:flex;\n",
              "      gap: 12px;\n",
              "    }\n",
              "\n",
              "    .colab-df-convert {\n",
              "      background-color: #E8F0FE;\n",
              "      border: none;\n",
              "      border-radius: 50%;\n",
              "      cursor: pointer;\n",
              "      display: none;\n",
              "      fill: #1967D2;\n",
              "      height: 32px;\n",
              "      padding: 0 0 0 0;\n",
              "      width: 32px;\n",
              "    }\n",
              "\n",
              "    .colab-df-convert:hover {\n",
              "      background-color: #E2EBFA;\n",
              "      box-shadow: 0px 1px 2px rgba(60, 64, 67, 0.3), 0px 1px 3px 1px rgba(60, 64, 67, 0.15);\n",
              "      fill: #174EA6;\n",
              "    }\n",
              "\n",
              "    .colab-df-buttons div {\n",
              "      margin-bottom: 4px;\n",
              "    }\n",
              "\n",
              "    [theme=dark] .colab-df-convert {\n",
              "      background-color: #3B4455;\n",
              "      fill: #D2E3FC;\n",
              "    }\n",
              "\n",
              "    [theme=dark] .colab-df-convert:hover {\n",
              "      background-color: #434B5C;\n",
              "      box-shadow: 0px 1px 3px 1px rgba(0, 0, 0, 0.15);\n",
              "      filter: drop-shadow(0px 1px 2px rgba(0, 0, 0, 0.3));\n",
              "      fill: #FFFFFF;\n",
              "    }\n",
              "  </style>\n",
              "\n",
              "    <script>\n",
              "      const buttonEl =\n",
              "        document.querySelector('#df-53bbb4d3-05af-4e9a-bd35-a351a6b89254 button.colab-df-convert');\n",
              "      buttonEl.style.display =\n",
              "        google.colab.kernel.accessAllowed ? 'block' : 'none';\n",
              "\n",
              "      async function convertToInteractive(key) {\n",
              "        const element = document.querySelector('#df-53bbb4d3-05af-4e9a-bd35-a351a6b89254');\n",
              "        const dataTable =\n",
              "          await google.colab.kernel.invokeFunction('convertToInteractive',\n",
              "                                                    [key], {});\n",
              "        if (!dataTable) return;\n",
              "\n",
              "        const docLinkHtml = 'Like what you see? Visit the ' +\n",
              "          '<a target=\"_blank\" href=https://colab.research.google.com/notebooks/data_table.ipynb>data table notebook</a>'\n",
              "          + ' to learn more about interactive tables.';\n",
              "        element.innerHTML = '';\n",
              "        dataTable['output_type'] = 'display_data';\n",
              "        await google.colab.output.renderOutput(dataTable, element);\n",
              "        const docLink = document.createElement('div');\n",
              "        docLink.innerHTML = docLinkHtml;\n",
              "        element.appendChild(docLink);\n",
              "      }\n",
              "    </script>\n",
              "  </div>\n",
              "\n",
              "\n",
              "<div id=\"df-eea29d0e-e757-44ca-9018-553650878304\">\n",
              "  <button class=\"colab-df-quickchart\" onclick=\"quickchart('df-eea29d0e-e757-44ca-9018-553650878304')\"\n",
              "            title=\"Suggest charts.\"\n",
              "            style=\"display:none;\">\n",
              "\n",
              "<svg xmlns=\"http://www.w3.org/2000/svg\" height=\"24px\"viewBox=\"0 0 24 24\"\n",
              "     width=\"24px\">\n",
              "    <g>\n",
              "        <path d=\"M19 3H5c-1.1 0-2 .9-2 2v14c0 1.1.9 2 2 2h14c1.1 0 2-.9 2-2V5c0-1.1-.9-2-2-2zM9 17H7v-7h2v7zm4 0h-2V7h2v10zm4 0h-2v-4h2v4z\"/>\n",
              "    </g>\n",
              "</svg>\n",
              "  </button>\n",
              "\n",
              "<style>\n",
              "  .colab-df-quickchart {\n",
              "      --bg-color: #E8F0FE;\n",
              "      --fill-color: #1967D2;\n",
              "      --hover-bg-color: #E2EBFA;\n",
              "      --hover-fill-color: #174EA6;\n",
              "      --disabled-fill-color: #AAA;\n",
              "      --disabled-bg-color: #DDD;\n",
              "  }\n",
              "\n",
              "  [theme=dark] .colab-df-quickchart {\n",
              "      --bg-color: #3B4455;\n",
              "      --fill-color: #D2E3FC;\n",
              "      --hover-bg-color: #434B5C;\n",
              "      --hover-fill-color: #FFFFFF;\n",
              "      --disabled-bg-color: #3B4455;\n",
              "      --disabled-fill-color: #666;\n",
              "  }\n",
              "\n",
              "  .colab-df-quickchart {\n",
              "    background-color: var(--bg-color);\n",
              "    border: none;\n",
              "    border-radius: 50%;\n",
              "    cursor: pointer;\n",
              "    display: none;\n",
              "    fill: var(--fill-color);\n",
              "    height: 32px;\n",
              "    padding: 0;\n",
              "    width: 32px;\n",
              "  }\n",
              "\n",
              "  .colab-df-quickchart:hover {\n",
              "    background-color: var(--hover-bg-color);\n",
              "    box-shadow: 0 1px 2px rgba(60, 64, 67, 0.3), 0 1px 3px 1px rgba(60, 64, 67, 0.15);\n",
              "    fill: var(--button-hover-fill-color);\n",
              "  }\n",
              "\n",
              "  .colab-df-quickchart-complete:disabled,\n",
              "  .colab-df-quickchart-complete:disabled:hover {\n",
              "    background-color: var(--disabled-bg-color);\n",
              "    fill: var(--disabled-fill-color);\n",
              "    box-shadow: none;\n",
              "  }\n",
              "\n",
              "  .colab-df-spinner {\n",
              "    border: 2px solid var(--fill-color);\n",
              "    border-color: transparent;\n",
              "    border-bottom-color: var(--fill-color);\n",
              "    animation:\n",
              "      spin 1s steps(1) infinite;\n",
              "  }\n",
              "\n",
              "  @keyframes spin {\n",
              "    0% {\n",
              "      border-color: transparent;\n",
              "      border-bottom-color: var(--fill-color);\n",
              "      border-left-color: var(--fill-color);\n",
              "    }\n",
              "    20% {\n",
              "      border-color: transparent;\n",
              "      border-left-color: var(--fill-color);\n",
              "      border-top-color: var(--fill-color);\n",
              "    }\n",
              "    30% {\n",
              "      border-color: transparent;\n",
              "      border-left-color: var(--fill-color);\n",
              "      border-top-color: var(--fill-color);\n",
              "      border-right-color: var(--fill-color);\n",
              "    }\n",
              "    40% {\n",
              "      border-color: transparent;\n",
              "      border-right-color: var(--fill-color);\n",
              "      border-top-color: var(--fill-color);\n",
              "    }\n",
              "    60% {\n",
              "      border-color: transparent;\n",
              "      border-right-color: var(--fill-color);\n",
              "    }\n",
              "    80% {\n",
              "      border-color: transparent;\n",
              "      border-right-color: var(--fill-color);\n",
              "      border-bottom-color: var(--fill-color);\n",
              "    }\n",
              "    90% {\n",
              "      border-color: transparent;\n",
              "      border-bottom-color: var(--fill-color);\n",
              "    }\n",
              "  }\n",
              "</style>\n",
              "\n",
              "  <script>\n",
              "    async function quickchart(key) {\n",
              "      const quickchartButtonEl =\n",
              "        document.querySelector('#' + key + ' button');\n",
              "      quickchartButtonEl.disabled = true;  // To prevent multiple clicks.\n",
              "      quickchartButtonEl.classList.add('colab-df-spinner');\n",
              "      try {\n",
              "        const charts = await google.colab.kernel.invokeFunction(\n",
              "            'suggestCharts', [key], {});\n",
              "      } catch (error) {\n",
              "        console.error('Error during call to suggestCharts:', error);\n",
              "      }\n",
              "      quickchartButtonEl.classList.remove('colab-df-spinner');\n",
              "      quickchartButtonEl.classList.add('colab-df-quickchart-complete');\n",
              "    }\n",
              "    (() => {\n",
              "      let quickchartButtonEl =\n",
              "        document.querySelector('#df-eea29d0e-e757-44ca-9018-553650878304 button');\n",
              "      quickchartButtonEl.style.display =\n",
              "        google.colab.kernel.accessAllowed ? 'block' : 'none';\n",
              "    })();\n",
              "  </script>\n",
              "</div>\n",
              "    </div>\n",
              "  </div>\n"
            ]
          },
          "metadata": {},
          "execution_count": 5
        }
      ],
      "source": [
        "df_reviews = df.loc[:, ['Review Text', 'Rating']].dropna()\n",
        "df_reviews['Rating'] = df_reviews['Rating'] - 1\n",
        "df_reviews.head()"
      ]
    },
    {
      "cell_type": "code",
      "execution_count": 6,
      "metadata": {
        "id": "sZtvASVOn3ty"
      },
      "outputs": [],
      "source": [
        "# Alumno: Observar como está distribuido el dataset respecto a la columna Rating\n",
        "# es decir, observar que tan balanceado se encuentra respecot a cada clase\n",
        "\n",
        "def plot_dist(frame, key):\n",
        "\n",
        "  ratings_distribution = frame[key].value_counts().sort_index()\n",
        "  print(ratings_distribution)\n",
        "\n",
        "  plt.figure(figsize=(8, 6))\n",
        "  plt.bar(ratings_distribution.index, ratings_distribution.values)\n",
        "  plt.xlabel(key)\n",
        "  plt.ylabel('Count')\n",
        "  plt.title(f'{key} Distribution')\n",
        "  plt.show()\n",
        "\n",
        "  ratings_distribution_pct = (frame[key].value_counts(normalize=True) * 100).sort_index()\n",
        "  print(ratings_distribution_pct)"
      ]
    },
    {
      "cell_type": "code",
      "source": [
        "plot_dist(df, \"Rating\")"
      ],
      "metadata": {
        "colab": {
          "base_uri": "https://localhost:8080/",
          "height": 772
        },
        "id": "h3KqyBCO096j",
        "outputId": "86fa34c8-5f9f-47d8-992d-ea86b25d0d0a"
      },
      "execution_count": 7,
      "outputs": [
        {
          "output_type": "stream",
          "name": "stdout",
          "text": [
            "1      842\n",
            "2     1565\n",
            "3     2871\n",
            "4     5077\n",
            "5    13131\n",
            "Name: Rating, dtype: int64\n"
          ]
        },
        {
          "output_type": "display_data",
          "data": {
            "text/plain": [
              "<Figure size 800x600 with 1 Axes>"
            ],
            "image/png": "[encoded data removed]"
          },
          "metadata": {}
        },
        {
          "output_type": "stream",
          "name": "stdout",
          "text": [
            "1     3.585115\n",
            "2     6.663544\n",
            "3    12.224304\n",
            "4    21.617134\n",
            "5    55.909904\n",
            "Name: Rating, dtype: float64\n"
          ]
        }
      ]
    },
    {
      "cell_type": "code",
      "execution_count": 8,
      "metadata": {
        "id": "gVJ_RVi4o1h3",
        "colab": {
          "base_uri": "https://localhost:8080/"
        },
        "outputId": "b3d85e9d-2a60-42bb-e40d-9ccfe47b9677"
      },
      "outputs": [
        {
          "output_type": "execute_result",
          "data": {
            "text/plain": [
              "array(['Absolutely wonderful - silky and sexy and comfortable',\n",
              "       'Love this dress!  it\\'s sooo pretty.  i happened to find it in a store, and i\\'m glad i did bc i never would have ordered it online bc it\\'s petite.  i bought a petite and am 5\\'8\".  i love the length on me- hits just a little below the knee.  would definitely be a true midi on someone who is truly petite.',\n",
              "       'I had such high hopes for this dress and really wanted it to work for me. i initially ordered the petite small (my usual size) but i found this to be outrageously small. so small in fact that i could not zip it up! i reordered it in petite medium, which was just ok. overall, the top half was comfortable and fit nicely, but the bottom half had a very tight under layer and several somewhat cheap (net) over layers. imo, a major design flaw was the net over layer sewn directly into the zipper - it c',\n",
              "       ...,\n",
              "       \"This fit well, but the top was very see through. this never would have worked for me. i'm glad i was able to try it on in the store and didn't order it online. with different fabric, it would have been great.\",\n",
              "       \"I bought this dress for a wedding i have this summer, and it's so cute. unfortunately the fit isn't perfect. the medium fits my waist perfectly, but was way too long and too big in the bust and shoulders. if i wanted to spend the money, i could get it tailored, but i just felt like it might not be worth it. side note - this dress was delivered to me with a nordstrom tag on it and i found it much cheaper there after looking!\",\n",
              "       'This dress in a lovely platinum is feminine and fits perfectly, easy to wear and comfy, too! highly recommend!'],\n",
              "      dtype=object)"
            ]
          },
          "metadata": {},
          "execution_count": 8
        }
      ],
      "source": [
        "# Alumno: tomar la columna de las review y almacenarlo todo en un vector numpy de reviews\n",
        "\n",
        "reviews = df['Review Text'].values\n",
        "reviews"
      ]
    },
    {
      "cell_type": "code",
      "execution_count": 9,
      "metadata": {
        "id": "4nT5Un_co65Q",
        "colab": {
          "base_uri": "https://localhost:8080/"
        },
        "outputId": "62a94cb6-9002-4170-a8de-e837a7a06511"
      },
      "outputs": [
        {
          "output_type": "execute_result",
          "data": {
            "text/plain": [
              "23486"
            ]
          },
          "metadata": {},
          "execution_count": 9
        }
      ],
      "source": [
        "# Alumno: Cuantas reviews (rows) hay para evaluar?\n",
        "len(reviews)"
      ]
    },
    {
      "cell_type": "code",
      "execution_count": 10,
      "metadata": {
        "id": "HP5uN9tqpHu_"
      },
      "outputs": [],
      "source": [
        "# Alumno: Concatenar todas las reviews para armar el corpus\n",
        "\n",
        "def get_list(series):\n",
        "    reviews_list = series.tolist()\n",
        "    reviews_list = [str(text) if not pd.isnull(text) else \"\" for text in reviews_list]\n",
        "    return reviews_list\n",
        "\n",
        "def concat_all(series):\n",
        "  reviews_list = get_list(series)\n",
        "  all_reviews_one_string = ' '.join(reviews_list)\n",
        "  return all_reviews_one_string"
      ]
    },
    {
      "cell_type": "code",
      "execution_count": 11,
      "metadata": {
        "id": "FEzmePgdpf74",
        "colab": {
          "base_uri": "https://localhost:8080/"
        },
        "outputId": "1a64dbad-5aeb-440c-9e2e-b662f47131ef"
      },
      "outputs": [
        {
          "output_type": "execute_result",
          "data": {
            "text/plain": [
              "7012488"
            ]
          },
          "metadata": {},
          "execution_count": 11
        }
      ],
      "source": [
        "# Alumno: ¿Cuál es la longitud de ese corpus?\n",
        "len(concat_all(reviews))"
      ]
    },
    {
      "cell_type": "code",
      "execution_count": 12,
      "metadata": {
        "id": "MYeJLdDmpvOe"
      },
      "outputs": [],
      "source": [
        "# Alumno: Utilizar \"text_to_word_sequence\" para separar las palabras en tokens\n",
        "# recordar que text_to_word_sequence automaticamente quita los signos de puntuacion y pasa el texto a lowercase\n",
        "from keras.preprocessing.text import text_to_word_sequence\n",
        "\n",
        "all_reviews_one_string = concat_all(reviews)\n",
        "tokens = text_to_word_sequence(all_reviews_one_string)"
      ]
    },
    {
      "cell_type": "code",
      "execution_count": 13,
      "metadata": {
        "id": "M6L-fnWAp_lA",
        "colab": {
          "base_uri": "https://localhost:8080/"
        },
        "outputId": "596e6b58-78c6-4843-dae7-786ccec68f83"
      },
      "outputs": [
        {
          "output_type": "execute_result",
          "data": {
            "text/plain": [
              "['absolutely',\n",
              " 'wonderful',\n",
              " 'silky',\n",
              " 'and',\n",
              " 'sexy',\n",
              " 'and',\n",
              " 'comfortable',\n",
              " 'love',\n",
              " 'this',\n",
              " 'dress',\n",
              " \"it's\",\n",
              " 'sooo',\n",
              " 'pretty',\n",
              " 'i',\n",
              " 'happened',\n",
              " 'to',\n",
              " 'find',\n",
              " 'it',\n",
              " 'in',\n",
              " 'a']"
            ]
          },
          "metadata": {},
          "execution_count": 13
        }
      ],
      "source": [
        "# Alumno: Dar un vistazo a los primeros 20 tokens/palabras\n",
        "\n",
        "tokens[0:20]"
      ]
    },
    {
      "cell_type": "code",
      "execution_count": 14,
      "metadata": {
        "id": "-8QgwwMUqG0d",
        "colab": {
          "base_uri": "https://localhost:8080/"
        },
        "outputId": "871125b3-d78b-4d2e-e532-dd828bcce541"
      },
      "outputs": [
        {
          "output_type": "execute_result",
          "data": {
            "text/plain": [
              "1372203"
            ]
          },
          "metadata": {},
          "execution_count": 14
        }
      ],
      "source": [
        "# Alumno: ¿Cuántos tokens/palabras hay?\n",
        "len(tokens)"
      ]
    },
    {
      "cell_type": "code",
      "execution_count": 15,
      "metadata": {
        "id": "TFukNZdOsZ8_"
      },
      "outputs": [],
      "source": [
        "# Alumno: Tokenizar las palabras con el Tokenizer de Keras\n",
        "# Definir una máxima cantidad de palabras a utilizar:\n",
        "# num_words --> the maximum number of words to keep, based on word frequency.\n",
        "# Only the most common num_words-1 words will be kept.\n",
        "from keras.preprocessing.text import Tokenizer\n",
        "num_words = 2000\n",
        "vocab_size = num_words\n",
        "\n",
        "reviews_list = get_list(reviews)\n",
        "\n",
        "tokenizer = Tokenizer(num_words=num_words)\n",
        "tokenizer.fit_on_texts(reviews_list)\n",
        "sequences = tokenizer.texts_to_sequences(reviews_list)"
      ]
    },
    {
      "cell_type": "code",
      "source": [
        "sequences[0]"
      ],
      "metadata": {
        "colab": {
          "base_uri": "https://localhost:8080/"
        },
        "id": "Wbe9MszZK1ZD",
        "outputId": "2dbdb4d5-0f6d-4d51-f943-477b71eaaa30"
      },
      "execution_count": 16,
      "outputs": [
        {
          "output_type": "execute_result",
          "data": {
            "text/plain": [
              "[253, 532, 917, 3, 662, 3, 68]"
            ]
          },
          "metadata": {},
          "execution_count": 16
        }
      ]
    },
    {
      "cell_type": "code",
      "execution_count": 17,
      "metadata": {
        "id": "JnR1tlqZy94X",
        "colab": {
          "base_uri": "https://localhost:8080/"
        },
        "outputId": "6473ce4c-8d2c-42a7-98bb-eb971ba345e0"
      },
      "outputs": [
        {
          "output_type": "execute_result",
          "data": {
            "text/plain": [
              "14847"
            ]
          },
          "metadata": {},
          "execution_count": 17
        }
      ],
      "source": [
        "# Alumno: Obtener el diccionario de palabra (word) a índice\n",
        "# y observar la cantidad total del vocabulario\n",
        "\n",
        "word_index = tokenizer.word_index\n",
        "len(word_index)"
      ]
    },
    {
      "cell_type": "code",
      "execution_count": 18,
      "metadata": {
        "id": "za73M5SRtbrP",
        "colab": {
          "base_uri": "https://localhost:8080/"
        },
        "outputId": "11854f24-f69a-46a0-bdba-8b013cb1d2d2"
      },
      "outputs": [
        {
          "output_type": "stream",
          "name": "stdout",
          "text": [
            "115\n"
          ]
        }
      ],
      "source": [
        "# Alumno: Determinar cual es la oración más larga\n",
        "\n",
        "def longest_seq(seqs):\n",
        "  sentence_lengths = [len(sequence) for sequence in seqs]\n",
        "  index_of_longest_sentence = sentence_lengths.index(max(sentence_lengths))\n",
        "  longest_sentence = seqs[index_of_longest_sentence]\n",
        "\n",
        "  print(len(seqs[index_of_longest_sentence]))\n",
        "  return reviews_list[index_of_longest_sentence]\n",
        "\n",
        "lgst_seq = longest_seq(sequences)"
      ]
    },
    {
      "cell_type": "code",
      "source": [
        "lgst_seq"
      ],
      "metadata": {
        "colab": {
          "base_uri": "https://localhost:8080/",
          "height": 70
        },
        "id": "vZL3rkCV4fj6",
        "outputId": "073924d5-a5ea-4469-d072-108f5bab504d"
      },
      "execution_count": 19,
      "outputs": [
        {
          "output_type": "execute_result",
          "data": {
            "text/plain": [
              "\"I love maeve tops. i love the material and feel of this brand. when i saw the new tops that came out i ran to my local store to try one on. i'm usually a large in a top, once in a while an xl. they only had a large to try so i tried it in the black motif.\\ni could barely get the top on. it looked like i was missing 1/2 of the top. i doubled checked the size and it was a large.\\nit's a shame, the top is really cute. if you are the least bit broad or busty, go up a size or two. if you are usually a\""
            ],
            "application/vnd.google.colaboratory.intrinsic+json": {
              "type": "string"
            }
          },
          "metadata": {},
          "execution_count": 19
        }
      ]
    },
    {
      "cell_type": "code",
      "execution_count": 20,
      "metadata": {
        "id": "oCkO9Wc9tls1"
      },
      "outputs": [],
      "source": [
        "# Alumno: Realizar padding de las sentencias al mismo tamaño\n",
        "# tomando de referencia la máxima sentencia\n",
        "from tensorflow.keras.utils import pad_sequences\n",
        "maxlen = 115\n",
        "\n",
        "max_sequence_length = max([len(sequence) for sequence in sequences])\n",
        "padded_sequences = pad_sequences(sequences, maxlen=max_sequence_length, padding='post', truncating='post')"
      ]
    },
    {
      "cell_type": "code",
      "execution_count": 21,
      "metadata": {
        "id": "kGHHabVdt_aa",
        "colab": {
          "base_uri": "https://localhost:8080/"
        },
        "outputId": "ab828dd6-f897-402f-ad36-45f4e8c1069e"
      },
      "outputs": [
        {
          "output_type": "execute_result",
          "data": {
            "text/plain": [
              "(23486, 115)"
            ]
          },
          "metadata": {},
          "execution_count": 21
        }
      ],
      "source": [
        "# Alumno: Observar las dimensiones de la variable input\n",
        "padded_sequences.shape"
      ]
    },
    {
      "cell_type": "code",
      "source": [
        "X = padded_sequences"
      ],
      "metadata": {
        "id": "vj_iNqG0Rf85"
      },
      "execution_count": 22,
      "outputs": []
    },
    {
      "cell_type": "code",
      "execution_count": 23,
      "metadata": {
        "id": "llVM-tzQo9_F",
        "colab": {
          "base_uri": "https://localhost:8080/"
        },
        "outputId": "bc7c71b4-0e17-4117-a3be-e47d69a2a826"
      },
      "outputs": [
        {
          "output_type": "execute_result",
          "data": {
            "text/plain": [
              "(23486, 6)"
            ]
          },
          "metadata": {},
          "execution_count": 23
        }
      ],
      "source": [
        "# Alumno tomar la columna rating y alcemacenarla en una variable \"y\" transformada a oneHotEncoding\n",
        "# Su shape debe ser equivalente la cantidad de rows del corpus y a la cantidad\n",
        "# de clases que se deseen predecir (en este ejemplo son 5)\n",
        "\n",
        "import numpy as np\n",
        "from keras.utils import to_categorical\n",
        "\n",
        "ratings = df['Rating'].dropna()\n",
        "\n",
        "# Transforma las calificaciones a representación One-Hot Encoding\n",
        "y = to_categorical(ratings)\n",
        "\n",
        "y.shape"
      ]
    },
    {
      "cell_type": "code",
      "execution_count": 24,
      "metadata": {
        "id": "Rmz9A6n4uK4V"
      },
      "outputs": [],
      "source": [
        "# Alumno: Dividir los datos en train y test\n",
        "from sklearn.model_selection import train_test_split\n",
        "\n",
        "X_train, X_test, y_train, y_test = train_test_split(X, y, test_size=0.2, random_state=42)"
      ]
    },
    {
      "cell_type": "code",
      "execution_count": 25,
      "metadata": {
        "id": "EcDPlhEouQ9E",
        "colab": {
          "base_uri": "https://localhost:8080/"
        },
        "outputId": "5dd4251b-c505-43e7-a3a7-e58df9fb6ac6"
      },
      "outputs": [
        {
          "output_type": "stream",
          "name": "stdout",
          "text": [
            "115\n",
            "6\n"
          ]
        }
      ],
      "source": [
        "# Alumno: determinar la dimensiones de entrada y salida\n",
        "input_shape = X_train.shape[1]\n",
        "output_shape = y_train.shape[1]\n",
        "print(input_shape)\n",
        "print(output_shape)"
      ]
    },
    {
      "cell_type": "markdown",
      "metadata": {
        "id": "NpbQHExL6OTu"
      },
      "source": [
        "### 2 - Entrenar el modelo con Embeddings + LSTM"
      ]
    },
    {
      "cell_type": "code",
      "source": [
        "# Alumno: Entrene su modelo con LSTM entrenando sus propios embeddings\n",
        "# o utilizando embeddings pre-entrenados."
      ],
      "metadata": {
        "id": "Qij12_hRt6qo"
      },
      "execution_count": 26,
      "outputs": []
    },
    {
      "cell_type": "markdown",
      "source": [
        "En el primer intento de entrenamiento se utilizaron los datos sin balancear como referencia inicial. Este paso proporciona una base para evaluar la mejora que se espera al utilizar datos balanceados en los experimentos posteriores.\n",
        "\n",
        "Además, se ha preparado una arquitectura básica de modelo que consta de capas de Embeddings, Dropout, una capa LSTM y una capa fully connected. Este modelo servirá como punto de partida para ;ps experimentos, y a partir de aquí, se realizaran modificaciones y ajustes para lograr mejores resultados."
      ],
      "metadata": {
        "id": "wkYTGmmIuCxo"
      }
    },
    {
      "cell_type": "code",
      "execution_count": 27,
      "metadata": {
        "id": "NUkuWBsM6cx3",
        "colab": {
          "base_uri": "https://localhost:8080/"
        },
        "outputId": "4821b49a-6cad-4d16-efbc-0c322ce21aca"
      },
      "outputs": [
        {
          "output_type": "stream",
          "name": "stdout",
          "text": [
            "Epoch 1/10\n",
            "470/470 [==============================] - 59s 99ms/step - loss: 1.2216 - accuracy: 0.5606 - val_loss: 1.2161 - val_accuracy: 0.5599\n",
            "Epoch 2/10\n",
            "470/470 [==============================] - 10s 21ms/step - loss: 1.2005 - accuracy: 0.5610 - val_loss: 1.0948 - val_accuracy: 0.5599\n",
            "Epoch 3/10\n",
            "470/470 [==============================] - 8s 16ms/step - loss: 0.9699 - accuracy: 0.6150 - val_loss: 0.9223 - val_accuracy: 0.6070\n",
            "Epoch 4/10\n",
            "470/470 [==============================] - 7s 15ms/step - loss: 0.8418 - accuracy: 0.6563 - val_loss: 0.8852 - val_accuracy: 0.6307\n",
            "Epoch 5/10\n",
            "470/470 [==============================] - 6s 13ms/step - loss: 0.7778 - accuracy: 0.6795 - val_loss: 0.9003 - val_accuracy: 0.6320\n",
            "Epoch 6/10\n",
            "470/470 [==============================] - 8s 17ms/step - loss: 0.7200 - accuracy: 0.7063 - val_loss: 0.9447 - val_accuracy: 0.6362\n",
            "Epoch 7/10\n",
            "470/470 [==============================] - 6s 13ms/step - loss: 0.6769 - accuracy: 0.7268 - val_loss: 0.9216 - val_accuracy: 0.6323\n",
            "Epoch 8/10\n",
            "470/470 [==============================] - 6s 13ms/step - loss: 0.6303 - accuracy: 0.7520 - val_loss: 0.9556 - val_accuracy: 0.6299\n",
            "Epoch 9/10\n",
            "470/470 [==============================] - 5s 12ms/step - loss: 0.5914 - accuracy: 0.7701 - val_loss: 0.9950 - val_accuracy: 0.6171\n",
            "Epoch 10/10\n",
            "470/470 [==============================] - 5s 11ms/step - loss: 0.5514 - accuracy: 0.7932 - val_loss: 1.0554 - val_accuracy: 0.6064\n",
            "147/147 [==============================] - 1s 6ms/step - loss: 1.0521 - accuracy: 0.6000\n",
            "Loss: 1.0520868301391602, Accuracy: 0.6000425815582275\n"
          ]
        }
      ],
      "source": [
        "from keras.layers import LSTM\n",
        "from keras.layers import Embedding\n",
        "from keras.layers import Dropout\n",
        "\n",
        "from keras.models import Sequential\n",
        "from keras.layers import LSTM, Embedding, Dropout, Dense\n",
        "\n",
        "embedding_dim = 1000\n",
        "\n",
        "model = Sequential()\n",
        "\n",
        "embedding_layer = Embedding(input_dim=vocab_size,\n",
        "                            output_dim=embedding_dim,\n",
        "                            input_length=max_sequence_length,\n",
        "                            trainable=True)\n",
        "model.add(embedding_layer)\n",
        "model.add(Dropout(0.2))\n",
        "model.add(LSTM(units=64))\n",
        "model.add(Dense(units=6, activation='softmax'))\n",
        "\n",
        "model.compile(loss='categorical_crossentropy', optimizer='adam', metrics=['accuracy'])\n",
        "\n",
        "model.fit(X_train, y_train, epochs=10, batch_size=32, validation_split=0.2)  # Ajusta los hiperparámetros según tu problema\n",
        "\n",
        "loss, accuracy = model.evaluate(X_test, y_test)\n",
        "print(f'Loss: {loss}, Accuracy: {accuracy}')"
      ]
    },
    {
      "cell_type": "markdown",
      "source": [
        "Desde el principio, se ha logrado una precisión en el rango esperado, que oscila entre 0.5 y 0.7, de acuerdo con las expectativas de la consigna. Sin embargo, este resultado posiblemente sea indicativo de un sobreajuste, especialmente debido al desbalance pronunciado en las clases.\n",
        "\n",
        "A partir de este punto, se mantendrala arquitectura actual del modelo sin cambios significativos. En lugar de eso, se van a realizar dos modificaciones clave: primero, embeddings pre-entrenados en lugar de entrenarlos desde cero, y segundo, trabajar con un dataset balanceado.\n",
        "\n",
        "La próxima prueba consistirá en emplear la misma arquitectura y proceso de entrenamiento, pero esta vez con el dataset balanceado. Esta estrategia tiene como objetivo abordar el desbalance de clases y potencialmente mejorar la generalización del modelo."
      ],
      "metadata": {
        "id": "cITzN5JPutJ_"
      }
    },
    {
      "cell_type": "code",
      "source": [
        "! pip install -U imbalanced-learn\n"
      ],
      "metadata": {
        "colab": {
          "base_uri": "https://localhost:8080/"
        },
        "id": "hgEhZYAEEfHq",
        "outputId": "8e34fdfd-e6f8-4849-b7c5-7dcf6a9e4793"
      },
      "execution_count": 28,
      "outputs": [
        {
          "output_type": "stream",
          "name": "stdout",
          "text": [
            "Requirement already satisfied: imbalanced-learn in /usr/local/lib/python3.10/dist-packages (0.11.0)\n",
            "Requirement already satisfied: numpy>=1.17.3 in /usr/local/lib/python3.10/dist-packages (from imbalanced-learn) (1.23.5)\n",
            "Requirement already satisfied: scipy>=1.5.0 in /usr/local/lib/python3.10/dist-packages (from imbalanced-learn) (1.11.3)\n",
            "Requirement already satisfied: scikit-learn>=1.0.2 in /usr/local/lib/python3.10/dist-packages (from imbalanced-learn) (1.2.2)\n",
            "Requirement already satisfied: joblib>=1.1.1 in /usr/local/lib/python3.10/dist-packages (from imbalanced-learn) (1.3.2)\n",
            "Requirement already satisfied: threadpoolctl>=2.0.0 in /usr/local/lib/python3.10/dist-packages (from imbalanced-learn) (3.2.0)\n"
          ]
        }
      ]
    },
    {
      "cell_type": "code",
      "source": [
        "from imblearn.under_sampling import RandomUnderSampler\n",
        "\n",
        "undersampler = RandomUnderSampler(sampling_strategy=\"auto\", random_state=42)\n",
        "\n",
        "# Perform undersampling with the custom strategy on your dataset\n",
        "X_resampled, y_resampled = undersampler.fit_resample(X, y)"
      ],
      "metadata": {
        "id": "APi7by0QJqH9"
      },
      "execution_count": 29,
      "outputs": []
    },
    {
      "cell_type": "code",
      "source": [
        "# Count the occurrences of each class label\n",
        "categorical_labels = np.argmax(y_resampled, axis=1)\n",
        "unique_classes, class_counts = np.unique(categorical_labels, return_counts=True)\n",
        "\n",
        "# Create a dictionary to display the class distribution\n",
        "class_distribution = dict(zip(unique_classes, class_counts))\n",
        "\n",
        "# Print the class distribution\n",
        "print(\"Class Distribution (Class: Count)\")\n",
        "for cls, count in class_distribution.items():\n",
        "    print(f\"Class {cls}: {count} samples\")"
      ],
      "metadata": {
        "colab": {
          "base_uri": "https://localhost:8080/"
        },
        "id": "Q_P7mMKcK6UB",
        "outputId": "20bfa802-0c64-4e31-9cd6-969410d9a8e5"
      },
      "execution_count": 30,
      "outputs": [
        {
          "output_type": "stream",
          "name": "stdout",
          "text": [
            "Class Distribution (Class: Count)\n",
            "Class 0: 842 samples\n",
            "Class 1: 842 samples\n",
            "Class 2: 842 samples\n",
            "Class 3: 842 samples\n",
            "Class 4: 842 samples\n"
          ]
        }
      ]
    },
    {
      "cell_type": "code",
      "source": [
        "X_train_resampled, X_test_resampled, y_train_resampled, y_test_resampled = train_test_split(X_resampled, y_resampled, test_size=0.2, random_state=42)"
      ],
      "metadata": {
        "id": "pDMQR1c-J3SB"
      },
      "execution_count": 31,
      "outputs": []
    },
    {
      "cell_type": "code",
      "source": [
        "embedding_dim = 1000\n",
        "\n",
        "model = Sequential()\n",
        "\n",
        "embedding_layer = Embedding(input_dim=vocab_size,\n",
        "                            output_dim=embedding_dim,\n",
        "                            input_length=max_sequence_length,\n",
        "                            trainable=True)\n",
        "model.add(embedding_layer)\n",
        "model.add(Dropout(0.2))\n",
        "model.add(LSTM(units=64))\n",
        "model.add(Dense(units=5, activation='softmax'))\n",
        "\n",
        "model.compile(loss='categorical_crossentropy', optimizer='adam', metrics=['accuracy'])\n",
        "\n",
        "model.fit(X_train_resampled, y_train_resampled, epochs=10, batch_size=32, validation_split=0.2)  # Ajusta los hiperparámetros según tu problema\n",
        "\n",
        "loss, accuracy = model.evaluate(X_test_resampled, y_test_resampled)\n",
        "print(f'Loss: {loss}, Accuracy: {accuracy}')"
      ],
      "metadata": {
        "colab": {
          "base_uri": "https://localhost:8080/"
        },
        "id": "6LUsNQu06At_",
        "outputId": "396873fa-7708-46d5-bef1-785adbf080e4"
      },
      "execution_count": 32,
      "outputs": [
        {
          "output_type": "stream",
          "name": "stdout",
          "text": [
            "Epoch 1/10\n",
            "85/85 [==============================] - 26s 268ms/step - loss: 1.6147 - accuracy: 0.1901 - val_loss: 1.6114 - val_accuracy: 0.2047\n",
            "Epoch 2/10\n",
            "85/85 [==============================] - 12s 133ms/step - loss: 1.6116 - accuracy: 0.2027 - val_loss: 1.6127 - val_accuracy: 0.2047\n",
            "Epoch 3/10\n",
            "85/85 [==============================] - 5s 58ms/step - loss: 1.6114 - accuracy: 0.1897 - val_loss: 1.6108 - val_accuracy: 0.1869\n",
            "Epoch 4/10\n",
            "85/85 [==============================] - 2s 29ms/step - loss: 1.6101 - accuracy: 0.2071 - val_loss: 1.6102 - val_accuracy: 0.2092\n",
            "Epoch 5/10\n",
            "85/85 [==============================] - 3s 31ms/step - loss: 1.6031 - accuracy: 0.2175 - val_loss: 1.6146 - val_accuracy: 0.2047\n",
            "Epoch 6/10\n",
            "85/85 [==============================] - 2s 28ms/step - loss: 1.5851 - accuracy: 0.2283 - val_loss: 1.6032 - val_accuracy: 0.2181\n",
            "Epoch 7/10\n",
            "85/85 [==============================] - 1s 17ms/step - loss: 1.5597 - accuracy: 0.2569 - val_loss: 1.6031 - val_accuracy: 0.2181\n",
            "Epoch 8/10\n",
            "85/85 [==============================] - 2s 22ms/step - loss: 1.5355 - accuracy: 0.2795 - val_loss: 1.6068 - val_accuracy: 0.2522\n",
            "Epoch 9/10\n",
            "85/85 [==============================] - 1s 12ms/step - loss: 1.4742 - accuracy: 0.3270 - val_loss: 1.6066 - val_accuracy: 0.2804\n",
            "Epoch 10/10\n",
            "85/85 [==============================] - 1s 14ms/step - loss: 1.4155 - accuracy: 0.3890 - val_loss: 1.5889 - val_accuracy: 0.3116\n",
            "27/27 [==============================] - 0s 5ms/step - loss: 1.6136 - accuracy: 0.3052\n",
            "Loss: 1.6136325597763062, Accuracy: 0.3052256405353546\n"
          ]
        }
      ]
    },
    {
      "cell_type": "markdown",
      "source": [
        "La estrategia de undersampling con el objetivo de lograr un equilibrio perfecto en las clases no resultó efectiva. En su lugar, se va a explorar una aproximación basada en oversampling para abordar el desbalance en los datos."
      ],
      "metadata": {
        "id": "KkxX4fu3-P5Y"
      }
    },
    {
      "cell_type": "code",
      "source": [
        "from imblearn.over_sampling import RandomOverSampler\n",
        "\n",
        "oversampler = RandomOverSampler(sampling_strategy=\"auto\", random_state=42)\n",
        "\n",
        "X_resampled, y_resampled = oversampler.fit_resample(X, y)"
      ],
      "metadata": {
        "id": "VTCoaieE9NQ8"
      },
      "execution_count": 33,
      "outputs": []
    },
    {
      "cell_type": "code",
      "source": [
        "categorical_labels = np.argmax(y_resampled, axis=1)\n",
        "unique_classes, class_counts = np.unique(categorical_labels, return_counts=True)\n",
        "\n",
        "class_distribution = dict(zip(unique_classes, class_counts))\n",
        "\n",
        "print(\"Class Distribution (Class: Count)\")\n",
        "for cls, count in class_distribution.items():\n",
        "    print(f\"Class {cls}: {count} samples\")"
      ],
      "metadata": {
        "colab": {
          "base_uri": "https://localhost:8080/"
        },
        "id": "IKOie7hz9fKc",
        "outputId": "b3d95553-e42d-44aa-ebce-8035b71d8ac1"
      },
      "execution_count": 34,
      "outputs": [
        {
          "output_type": "stream",
          "name": "stdout",
          "text": [
            "Class Distribution (Class: Count)\n",
            "Class 0: 13131 samples\n",
            "Class 1: 13131 samples\n",
            "Class 2: 13131 samples\n",
            "Class 3: 13131 samples\n",
            "Class 4: 13131 samples\n"
          ]
        }
      ]
    },
    {
      "cell_type": "code",
      "source": [
        "X_train_resampled, X_test_resampled, y_train_resampled, y_test_resampled = train_test_split(X_resampled, y_resampled, test_size=0.2, random_state=42)"
      ],
      "metadata": {
        "id": "F3oYGxcP-mmD"
      },
      "execution_count": 35,
      "outputs": []
    },
    {
      "cell_type": "code",
      "source": [
        "embedding_dim = 1000\n",
        "\n",
        "model = Sequential()\n",
        "\n",
        "embedding_layer = Embedding(input_dim=vocab_size,\n",
        "                            output_dim=embedding_dim,\n",
        "                            input_length=max_sequence_length,\n",
        "                            trainable=True)\n",
        "model.add(embedding_layer)\n",
        "model.add(Dropout(0.2))\n",
        "model.add(LSTM(units=64))\n",
        "model.add(Dense(units=5, activation='softmax'))\n",
        "\n",
        "model.compile(loss='categorical_crossentropy', optimizer='adam', metrics=['accuracy'])\n",
        "\n",
        "model.fit(X_train_resampled, y_train_resampled, epochs=10, batch_size=32, validation_split=0.2)  # Ajusta los hiperparámetros según tu problema\n",
        "\n",
        "loss, accuracy = model.evaluate(X_test_resampled, y_test_resampled)\n",
        "print(f'Loss: {loss}, Accuracy: {accuracy}')"
      ],
      "metadata": {
        "colab": {
          "base_uri": "https://localhost:8080/"
        },
        "id": "6z_JcYvJ-bJr",
        "outputId": "90f5ca21-115e-4fc0-8ed6-103e8da76bb9"
      },
      "execution_count": 36,
      "outputs": [
        {
          "output_type": "stream",
          "name": "stdout",
          "text": [
            "Epoch 1/10\n",
            "1314/1314 [==============================] - 61s 45ms/step - loss: 1.6105 - accuracy: 0.1989 - val_loss: 1.6098 - val_accuracy: 0.2000\n",
            "Epoch 2/10\n",
            "1314/1314 [==============================] - 17s 13ms/step - loss: 1.5780 - accuracy: 0.2359 - val_loss: 1.3120 - val_accuracy: 0.4397\n",
            "Epoch 3/10\n",
            "1314/1314 [==============================] - 15s 11ms/step - loss: 1.0076 - accuracy: 0.5715 - val_loss: 0.8302 - val_accuracy: 0.6584\n",
            "Epoch 4/10\n",
            "1314/1314 [==============================] - 14s 11ms/step - loss: 0.6981 - accuracy: 0.7200 - val_loss: 0.6586 - val_accuracy: 0.7436\n",
            "Epoch 5/10\n",
            "1314/1314 [==============================] - 16s 12ms/step - loss: 0.5231 - accuracy: 0.7987 - val_loss: 0.5732 - val_accuracy: 0.7840\n",
            "Epoch 6/10\n",
            "1314/1314 [==============================] - 14s 10ms/step - loss: 0.4166 - accuracy: 0.8430 - val_loss: 0.5053 - val_accuracy: 0.8180\n",
            "Epoch 7/10\n",
            "1314/1314 [==============================] - 15s 11ms/step - loss: 0.3412 - accuracy: 0.8751 - val_loss: 0.5084 - val_accuracy: 0.8225\n",
            "Epoch 8/10\n",
            "1314/1314 [==============================] - 14s 11ms/step - loss: 0.2953 - accuracy: 0.8913 - val_loss: 0.4454 - val_accuracy: 0.8504\n",
            "Epoch 9/10\n",
            "1314/1314 [==============================] - 14s 11ms/step - loss: 0.2506 - accuracy: 0.9105 - val_loss: 0.4086 - val_accuracy: 0.8623\n",
            "Epoch 10/10\n",
            "1314/1314 [==============================] - 13s 10ms/step - loss: 0.2230 - accuracy: 0.9195 - val_loss: 0.4112 - val_accuracy: 0.8686\n",
            "411/411 [==============================] - 3s 6ms/step - loss: 0.4047 - accuracy: 0.8681\n",
            "Loss: 0.4047251343727112, Accuracy: 0.8680983781814575\n"
          ]
        }
      ]
    },
    {
      "cell_type": "markdown",
      "source": [
        "Esta estrategia ha logrado resultados satisfactorios en términos de accuracy. Sin embargo, al observar la distribución original de los datos y compararla con la distribución después del oversampling, surge la preocupación de que cada muestra de la clase minoritaria haya sido replicada al menos 13 veces en el conjunto de datos oversampleado. En otras palabras, cada fila de la clase 1 aparece al menos 13 veces en el conjunto de datos oversampleado. Esto plantea la posibilidad de que el sistema esté experimentando un sobreajuste. Además, al tener los mismos datos en los conjuntos de entrenamiento, prueba y validación, es probable que los valores observados no sean tan representativos. Es probable que el sistema haya aprendido de manera exhaustiva todos los ejemplos de la clase 1.\n",
        "\n",
        "Dado que se han descartado la estrategia de undersampling y existen sospechas sobre la estrategia de oversampling actual, se va a explorar la opción de utilizar SMOTE. Esta aproximación implica el oversampling generando ejemplos sintéticos para cada clase minoritaria. SMOTE se utiliza precisamente en escenarios como este, donde se intenta reducir el posible sobreajuste que puede surgir al utilizar el oversampling aleatorio."
      ],
      "metadata": {
        "id": "tkzJlHK1CR4d"
      }
    },
    {
      "cell_type": "code",
      "source": [
        "from imblearn.over_sampling import SMOTE\n",
        "\n",
        "oversampler = SMOTE(sampling_strategy='auto', random_state=42)\n",
        "\n",
        "X_resampled, y_resampled = oversampler.fit_resample(X, y)"
      ],
      "metadata": {
        "id": "Y7d4I719D3Jz"
      },
      "execution_count": 37,
      "outputs": []
    },
    {
      "cell_type": "code",
      "source": [
        "# Count the occurrences of each class label\n",
        "categorical_labels = np.argmax(y_resampled, axis=1)\n",
        "unique_classes, class_counts = np.unique(categorical_labels, return_counts=True)\n",
        "\n",
        "# Create a dictionary to display the class distribution\n",
        "class_distribution = dict(zip(unique_classes, class_counts))\n",
        "\n",
        "# Print the class distribution\n",
        "print(\"Class Distribution (Class: Count)\")\n",
        "for cls, count in class_distribution.items():\n",
        "    print(f\"Class {cls}: {count} samples\")"
      ],
      "metadata": {
        "colab": {
          "base_uri": "https://localhost:8080/"
        },
        "id": "Pabmi4EpFgNu",
        "outputId": "251788ba-db1c-4d73-b02e-4317dd6f12af"
      },
      "execution_count": 38,
      "outputs": [
        {
          "output_type": "stream",
          "name": "stdout",
          "text": [
            "Class Distribution (Class: Count)\n",
            "Class 0: 13131 samples\n",
            "Class 1: 13131 samples\n",
            "Class 2: 13131 samples\n",
            "Class 3: 13131 samples\n",
            "Class 4: 13131 samples\n"
          ]
        }
      ]
    },
    {
      "cell_type": "code",
      "source": [
        "X_train_resampled, X_test_resampled, y_train_resampled, y_test_resampled = train_test_split(X_resampled, y_resampled, test_size=0.2, random_state=42)"
      ],
      "metadata": {
        "id": "sI_bixR0Ft1B"
      },
      "execution_count": 39,
      "outputs": []
    },
    {
      "cell_type": "code",
      "source": [
        "embedding_dim = 1000\n",
        "\n",
        "model = Sequential()\n",
        "\n",
        "embedding_layer = Embedding(input_dim=vocab_size,\n",
        "                            output_dim=embedding_dim,\n",
        "                            input_length=max_sequence_length,\n",
        "                            trainable=True)\n",
        "model.add(embedding_layer)\n",
        "model.add(Dropout(0.2))\n",
        "model.add(LSTM(units=64))\n",
        "model.add(Dense(units=5, activation='softmax'))\n",
        "\n",
        "model.compile(loss='categorical_crossentropy', optimizer='adam', metrics=['accuracy'])\n",
        "\n",
        "model.fit(X_train_resampled, y_train_resampled, epochs=10, batch_size=32, validation_split=0.2)  # Ajusta los hiperparámetros según tu problema\n",
        "\n",
        "loss, accuracy = model.evaluate(X_test_resampled, y_test_resampled)\n",
        "print(f'Loss: {loss}, Accuracy: {accuracy}')"
      ],
      "metadata": {
        "colab": {
          "base_uri": "https://localhost:8080/"
        },
        "id": "ragyD8iwFoBn",
        "outputId": "156ac779-b9ca-4b31-d221-a0f454e20467"
      },
      "execution_count": 40,
      "outputs": [
        {
          "output_type": "stream",
          "name": "stdout",
          "text": [
            "Epoch 1/10\n",
            "1314/1314 [==============================] - 43s 31ms/step - loss: 1.6107 - accuracy: 0.2051 - val_loss: 1.6097 - val_accuracy: 0.2033\n",
            "Epoch 2/10\n",
            "1314/1314 [==============================] - 16s 12ms/step - loss: 1.6095 - accuracy: 0.2014 - val_loss: 1.6094 - val_accuracy: 0.2004\n",
            "Epoch 3/10\n",
            "1314/1314 [==============================] - 15s 11ms/step - loss: 1.6094 - accuracy: 0.2003 - val_loss: 1.6106 - val_accuracy: 0.1943\n",
            "Epoch 4/10\n",
            "1314/1314 [==============================] - 14s 11ms/step - loss: 1.4560 - accuracy: 0.3183 - val_loss: 1.3401 - val_accuracy: 0.3651\n",
            "Epoch 5/10\n",
            "1314/1314 [==============================] - 26s 20ms/step - loss: 1.2814 - accuracy: 0.3855 - val_loss: 1.2870 - val_accuracy: 0.3832\n",
            "Epoch 6/10\n",
            "1314/1314 [==============================] - 15s 12ms/step - loss: 1.2259 - accuracy: 0.4084 - val_loss: 1.2746 - val_accuracy: 0.3746\n",
            "Epoch 7/10\n",
            "1314/1314 [==============================] - 16s 12ms/step - loss: 1.1906 - accuracy: 0.4271 - val_loss: 1.2638 - val_accuracy: 0.4030\n",
            "Epoch 8/10\n",
            "1314/1314 [==============================] - 15s 12ms/step - loss: 1.1599 - accuracy: 0.4446 - val_loss: 1.2786 - val_accuracy: 0.4035\n",
            "Epoch 9/10\n",
            "1314/1314 [==============================] - 14s 11ms/step - loss: 1.1332 - accuracy: 0.4581 - val_loss: 1.2937 - val_accuracy: 0.3973\n",
            "Epoch 10/10\n",
            "1314/1314 [==============================] - 15s 12ms/step - loss: 1.1035 - accuracy: 0.4789 - val_loss: 1.3031 - val_accuracy: 0.4019\n",
            "411/411 [==============================] - 2s 5ms/step - loss: 1.3132 - accuracy: 0.3973\n",
            "Loss: 1.313151478767395, Accuracy: 0.39730408787727356\n"
          ]
        }
      ]
    },
    {
      "cell_type": "markdown",
      "source": [
        "SMOTE tampoco logra resultados óptimos. La próxima mejor aproximación es la de no buscar un equilibrio completo entre las clases, sino más bien reducir la brecha entre la clase con más muestras y la de menor cantidad. Por ejemplo, duplicar o triplicar las entradas de la clase 1 y posiblemente también de la clase 2. Esta estrategia permite evitar el sobreajuste y, al mismo tiempo, mantener una relación más cercana a la distribución original de clases."
      ],
      "metadata": {
        "id": "LdFcViZpLGtS"
      }
    },
    {
      "cell_type": "code",
      "source": [
        "oversampler = SMOTE(sampling_strategy = {1: 842*3, 2:1565*2, 3: 2871*2}, random_state=42)\n",
        "\n",
        "X_resampled, y_resampled = oversampler.fit_resample(X, y)"
      ],
      "metadata": {
        "id": "pTu63sQnL5dh"
      },
      "execution_count": 41,
      "outputs": []
    },
    {
      "cell_type": "code",
      "source": [
        "# Count the occurrences of each class label\n",
        "categorical_labels = np.argmax(y_resampled, axis=1)\n",
        "unique_classes, class_counts = np.unique(categorical_labels, return_counts=True)\n",
        "\n",
        "# Create a dictionary to display the class distribution\n",
        "class_distribution = dict(zip(unique_classes, class_counts))\n",
        "\n",
        "# Print the class distribution\n",
        "print(\"Class Distribution (Class: Count)\")\n",
        "for cls, count in class_distribution.items():\n",
        "    print(f\"Class {cls}: {count} samples\")"
      ],
      "metadata": {
        "colab": {
          "base_uri": "https://localhost:8080/"
        },
        "id": "ujuJsU3FMktH",
        "outputId": "0f019718-8291-4703-940d-6be91b2d0a7d"
      },
      "execution_count": 42,
      "outputs": [
        {
          "output_type": "stream",
          "name": "stdout",
          "text": [
            "Class Distribution (Class: Count)\n",
            "Class 0: 2526 samples\n",
            "Class 1: 3130 samples\n",
            "Class 2: 5742 samples\n",
            "Class 3: 5077 samples\n",
            "Class 4: 13131 samples\n"
          ]
        }
      ]
    },
    {
      "cell_type": "code",
      "source": [
        "X_train_resampled, X_test_resampled, y_train_resampled, y_test_resampled = train_test_split(X_resampled, y_resampled, test_size=0.2, random_state=42)"
      ],
      "metadata": {
        "id": "FpbPv9IgM4xU"
      },
      "execution_count": 43,
      "outputs": []
    },
    {
      "cell_type": "code",
      "source": [
        "embedding_dim = 1000\n",
        "\n",
        "model = Sequential()\n",
        "\n",
        "embedding_layer = Embedding(input_dim=vocab_size,\n",
        "                            output_dim=embedding_dim,\n",
        "                            input_length=max_sequence_length,\n",
        "                            trainable=True)\n",
        "model.add(embedding_layer)\n",
        "model.add(Dropout(0.2))\n",
        "model.add(LSTM(units=64))\n",
        "model.add(Dense(units=5, activation='softmax'))\n",
        "\n",
        "model.compile(loss='categorical_crossentropy', optimizer='adam', metrics=['accuracy'])\n",
        "\n",
        "model.fit(X_train_resampled, y_train_resampled, epochs=10, batch_size=32, validation_split=0.2)  # Ajusta los hiperparámetros según tu problema\n",
        "\n",
        "loss, accuracy = model.evaluate(X_test_resampled, y_test_resampled)\n",
        "print(f'Loss: {loss}, Accuracy: {accuracy}')"
      ],
      "metadata": {
        "colab": {
          "base_uri": "https://localhost:8080/"
        },
        "id": "0abbnajbMsBI",
        "outputId": "b848d884-0e1c-4790-9d8a-88028bf6ef66"
      },
      "execution_count": 44,
      "outputs": [
        {
          "output_type": "stream",
          "name": "stdout",
          "text": [
            "Epoch 1/10\n",
            "593/593 [==============================] - 35s 54ms/step - loss: 1.4346 - accuracy: 0.4427 - val_loss: 1.4414 - val_accuracy: 0.4374\n",
            "Epoch 2/10\n",
            "593/593 [==============================] - 9s 15ms/step - loss: 1.4292 - accuracy: 0.4433 - val_loss: 1.4410 - val_accuracy: 0.4372\n",
            "Epoch 3/10\n",
            "593/593 [==============================] - 9s 15ms/step - loss: 1.3922 - accuracy: 0.4493 - val_loss: 1.3016 - val_accuracy: 0.4898\n",
            "Epoch 4/10\n",
            "593/593 [==============================] - 8s 14ms/step - loss: 1.1785 - accuracy: 0.5408 - val_loss: 1.0967 - val_accuracy: 0.5596\n",
            "Epoch 5/10\n",
            "593/593 [==============================] - 7s 11ms/step - loss: 1.0158 - accuracy: 0.5835 - val_loss: 1.0533 - val_accuracy: 0.5577\n",
            "Epoch 6/10\n",
            "593/593 [==============================] - 7s 13ms/step - loss: 0.9213 - accuracy: 0.6113 - val_loss: 1.0649 - val_accuracy: 0.5598\n",
            "Epoch 7/10\n",
            "593/593 [==============================] - 7s 11ms/step - loss: 0.8625 - accuracy: 0.6342 - val_loss: 1.0218 - val_accuracy: 0.5848\n",
            "Epoch 8/10\n",
            "593/593 [==============================] - 7s 13ms/step - loss: 0.8082 - accuracy: 0.6525 - val_loss: 1.0495 - val_accuracy: 0.5723\n",
            "Epoch 9/10\n",
            "593/593 [==============================] - 6s 10ms/step - loss: 0.7669 - accuracy: 0.6713 - val_loss: 1.0843 - val_accuracy: 0.5734\n",
            "Epoch 10/10\n",
            "593/593 [==============================] - 7s 12ms/step - loss: 0.7275 - accuracy: 0.6882 - val_loss: 1.1011 - val_accuracy: 0.5679\n",
            "186/186 [==============================] - 1s 5ms/step - loss: 1.1033 - accuracy: 0.5726\n",
            "Loss: 1.1032534837722778, Accuracy: 0.57261061668396\n"
          ]
        }
      ]
    },
    {
      "cell_type": "markdown",
      "source": [
        "Finalmente, al establecer una relación más holística entre las clases y utilizar SMOTE para crear un conjunto de datos más equilibrado, se obtuvieron resultados ligeramente inferiores en comparación con el entrenamiento sin balanceo. Un aspecto a considerar es que, al lograr un equilibrio en el conjunto de datos y utilizar datos sintéticos para lograrlo, es más probable que el modelo sea útil en escenarios del mundo real.\n",
        "\n",
        "El modelo entrenado con el conjunto de datos desequilibrado corre el riesgo de tomar decisiones sesgadas, ya que al predecir la clase mayoritaria, tiene más del 50% de probabilidad de estar en lo correcto. Por otro lado, el modelo con datos balanceados es probablemente menos agresivo en sus predicciones, lo que podría resultar en una mayor generalización y aplicabilidad en situaciones del mundo real."
      ],
      "metadata": {
        "id": "ivkUzqlBOAlB"
      }
    },
    {
      "cell_type": "markdown",
      "source": [
        "El proximo paso es entrenar con datos no balanceados y con datos balanceados holisticamente con SMOTE utilizando embeddings pre-entrenados."
      ],
      "metadata": {
        "id": "4t8WDEKPQgHD"
      }
    },
    {
      "cell_type": "code",
      "source": [
        "! pip install gensim"
      ],
      "metadata": {
        "colab": {
          "base_uri": "https://localhost:8080/"
        },
        "id": "QDDjI2MJSA5x",
        "outputId": "46e03283-5008-47ef-8fc8-8a508efb96f6"
      },
      "execution_count": 45,
      "outputs": [
        {
          "output_type": "stream",
          "name": "stdout",
          "text": [
            "Requirement already satisfied: gensim in /usr/local/lib/python3.10/dist-packages (4.3.2)\n",
            "Requirement already satisfied: numpy>=1.18.5 in /usr/local/lib/python3.10/dist-packages (from gensim) (1.23.5)\n",
            "Requirement already satisfied: scipy>=1.7.0 in /usr/local/lib/python3.10/dist-packages (from gensim) (1.11.3)\n",
            "Requirement already satisfied: smart-open>=1.8.1 in /usr/local/lib/python3.10/dist-packages (from gensim) (6.4.0)\n"
          ]
        }
      ]
    },
    {
      "cell_type": "markdown",
      "source": [
        "Se utilizo gensim por la facilidad de su uso y para probar otra herramienta ademas de la vista en clase."
      ],
      "metadata": {
        "id": "sF0jWS1RgzWH"
      }
    },
    {
      "cell_type": "code",
      "source": [
        "from gensim.models import KeyedVectors\n",
        "import gensim.downloader as api\n",
        "\n",
        "# Download and load a pre-trained Word2Vec model (e.g., 'word2vec-google-news-300')\n",
        "word2vec_model = api.load('word2vec-google-news-300')"
      ],
      "metadata": {
        "id": "d0oS2ZV6SCL2"
      },
      "execution_count": 46,
      "outputs": []
    },
    {
      "cell_type": "code",
      "source": [
        "from gensim.models import Word2Vec\n",
        "\n",
        "vocab_size = len(word2vec_model.key_to_index)\n",
        "embedding_dim = word2vec_model.vector_size\n",
        "\n",
        "model = Sequential()\n",
        "\n",
        "embedding_layer = Embedding(input_dim=vocab_size,\n",
        "                            output_dim=embedding_dim,\n",
        "                            input_length=max_sequence_length,\n",
        "                            trainable=False)\n",
        "model.add(embedding_layer)\n",
        "model.add(Dropout(0.2))\n",
        "model.add(LSTM(units=128))\n",
        "model.add(Dense(units=5, activation='softmax'))\n",
        "\n",
        "model.compile(loss='categorical_crossentropy', optimizer='adam', metrics=['accuracy'])\n",
        "\n",
        "model.fit(X_train_resampled, y_train_resampled, epochs=10, batch_size=32, validation_split=0.2)\n",
        "\n",
        "loss, accuracy = model.evaluate(X_test_resampled, y_test_resampled)\n",
        "print(f'Loss: {loss}, Accuracy: {accuracy}')"
      ],
      "metadata": {
        "colab": {
          "base_uri": "https://localhost:8080/"
        },
        "id": "byFRHecKO2bc",
        "outputId": "9446296c-b5b2-4ac8-db22-aea2f512e2c9"
      },
      "execution_count": 47,
      "outputs": [
        {
          "output_type": "stream",
          "name": "stdout",
          "text": [
            "Epoch 1/10\n",
            "593/593 [==============================] - 13s 14ms/step - loss: 1.4341 - accuracy: 0.4423 - val_loss: 1.4398 - val_accuracy: 0.4374\n",
            "Epoch 2/10\n",
            "593/593 [==============================] - 9s 15ms/step - loss: 1.4305 - accuracy: 0.4432 - val_loss: 1.4395 - val_accuracy: 0.4374\n",
            "Epoch 3/10\n",
            "593/593 [==============================] - 11s 19ms/step - loss: 1.4296 - accuracy: 0.4432 - val_loss: 1.4392 - val_accuracy: 0.4374\n",
            "Epoch 4/10\n",
            "593/593 [==============================] - 9s 16ms/step - loss: 1.4287 - accuracy: 0.4432 - val_loss: 1.4397 - val_accuracy: 0.4374\n",
            "Epoch 5/10\n",
            "593/593 [==============================] - 5s 9ms/step - loss: 1.4288 - accuracy: 0.4432 - val_loss: 1.4405 - val_accuracy: 0.4374\n",
            "Epoch 6/10\n",
            "593/593 [==============================] - 6s 10ms/step - loss: 1.4285 - accuracy: 0.4432 - val_loss: 1.4395 - val_accuracy: 0.4374\n",
            "Epoch 7/10\n",
            "593/593 [==============================] - 5s 9ms/step - loss: 1.4287 - accuracy: 0.4432 - val_loss: 1.4396 - val_accuracy: 0.4374\n",
            "Epoch 8/10\n",
            "593/593 [==============================] - 5s 9ms/step - loss: 1.4282 - accuracy: 0.4432 - val_loss: 1.4395 - val_accuracy: 0.4374\n",
            "Epoch 9/10\n",
            "593/593 [==============================] - 6s 10ms/step - loss: 1.4288 - accuracy: 0.4432 - val_loss: 1.4392 - val_accuracy: 0.4374\n",
            "Epoch 10/10\n",
            "593/593 [==============================] - 5s 9ms/step - loss: 1.4284 - accuracy: 0.4432 - val_loss: 1.4407 - val_accuracy: 0.4374\n",
            "186/186 [==============================] - 1s 6ms/step - loss: 1.4246 - accuracy: 0.4493\n",
            "Loss: 1.4246047735214233, Accuracy: 0.44934144616127014\n"
          ]
        }
      ]
    },
    {
      "cell_type": "markdown",
      "source": [
        "Este resultado parece ser negativo, ya que con embeddings pre-entrenados no se ha logrado mejorar la precisión ni en el conjunto de entrenamiento ni en el de validación. Esto podría deberse a una limitación que discutimos en clase: los embeddings pre-entrenados pueden tener dificultades para capturar de manera precisa la información relativa a los adjetivos, ya que su contexto puede hacer que estos términos sean muy similares en la representación vectorial."
      ],
      "metadata": {
        "id": "AFffY9gIV5dy"
      }
    },
    {
      "cell_type": "markdown",
      "source": [
        "En resumen, un modelo entrenado utilizando la técnica de oversampling mediante SMOTE, junto con una estrategia custom para el balanceo de las clases, ha generado resultados satisfactorios, minimizando posibles problemas de overfitting."
      ],
      "metadata": {
        "id": "7MQI4gwVoODj"
      }
    }
  ],
  "metadata": {
    "accelerator": "GPU",
    "colab": {
      "provenance": []
    },
    "kernelspec": {
      "display_name": "Python 3",
      "name": "python3"
    },
    "language_info": {
      "codemirror_mode": {
        "name": "ipython",
        "version": 3
      },
      "file_extension": ".py",
      "mimetype": "text/x-python",
      "name": "python",
      "nbconvert_exporter": "python",
      "pygments_lexer": "ipython3",
      "version": "3.9.18"
    }
  },
  "nbformat": 4,
  "nbformat_minor": 0
}